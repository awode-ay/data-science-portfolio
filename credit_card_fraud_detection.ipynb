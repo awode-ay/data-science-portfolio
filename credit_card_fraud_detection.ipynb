{
  "cells": [
    {
      "cell_type": "markdown",
      "id": "641dd8ef",
      "metadata": {
        "papermill": {
          "duration": 0.010686,
          "end_time": "2024-05-12T01:27:42.369447",
          "exception": false,
          "start_time": "2024-05-12T01:27:42.358761",
          "status": "completed"
        },
        "tags": [],
        "id": "641dd8ef"
      },
      "source": [
        "<iframe src=\"https://www.kaggle.com/embed/imtkaggleteam/saudi-pro-league-transfer-analysis?"
      ]
    },
    {
      "cell_type": "markdown",
      "id": "2cfd341b",
      "metadata": {
        "papermill": {
          "duration": 0.010772,
          "end_time": "2024-05-12T01:27:42.411692",
          "exception": false,
          "start_time": "2024-05-12T01:27:42.400920",
          "status": "completed"
        },
        "tags": [],
        "id": "2cfd341b"
      },
      "source": [
        "### Loading libraries"
      ]
    },
    {
      "cell_type": "code",
      "source": [
        "from google.colab import drive\n",
        "drive.mount('/content/drive')"
      ],
      "metadata": {
        "colab": {
          "base_uri": "https://localhost:8080/"
        },
        "id": "syoM_HM-yJ-n",
        "outputId": "95b5865f-68c1-46d2-a028-86782469edb3"
      },
      "id": "syoM_HM-yJ-n",
      "execution_count": 4,
      "outputs": [
        {
          "output_type": "stream",
          "name": "stdout",
          "text": [
            "Mounted at /content/drive\n"
          ]
        }
      ]
    },
    {
      "cell_type": "code",
      "execution_count": 1,
      "id": "3228953b",
      "metadata": {
        "execution": {
          "iopub.execute_input": "2024-05-12T01:27:42.433509Z",
          "iopub.status.busy": "2024-05-12T01:27:42.432971Z",
          "iopub.status.idle": "2024-05-12T01:27:43.991801Z",
          "shell.execute_reply": "2024-05-12T01:27:43.990680Z"
        },
        "papermill": {
          "duration": 1.571891,
          "end_time": "2024-05-12T01:27:43.993732",
          "exception": false,
          "start_time": "2024-05-12T01:27:42.421841",
          "status": "completed"
        },
        "tags": [],
        "id": "3228953b"
      },
      "outputs": [],
      "source": [
        "import pandas as pd\n",
        "import matplotlib.pyplot as plt\n",
        "import seaborn as sns\n",
        "import numpy as np"
      ]
    },
    {
      "cell_type": "markdown",
      "id": "e69b0695",
      "metadata": {
        "papermill": {
          "duration": 0.009575,
          "end_time": "2024-05-12T01:27:44.013545",
          "exception": false,
          "start_time": "2024-05-12T01:27:44.003970",
          "status": "completed"
        },
        "tags": [],
        "id": "e69b0695"
      },
      "source": [
        "### Dataset loading"
      ]
    },
    {
      "cell_type": "code",
      "source": [
        "data = pd.read_csv('/content/drive/MyDrive/card_transdata.csv')"
      ],
      "metadata": {
        "id": "Gyl12p-rqO0u"
      },
      "id": "Gyl12p-rqO0u",
      "execution_count": 6,
      "outputs": []
    },
    {
      "cell_type": "code",
      "execution_count": 7,
      "id": "4ff0e134",
      "metadata": {
        "execution": {
          "iopub.execute_input": "2024-05-12T01:27:44.035352Z",
          "iopub.status.busy": "2024-05-12T01:27:44.034697Z",
          "iopub.status.idle": "2024-05-12T01:27:45.436669Z",
          "shell.execute_reply": "2024-05-12T01:27:45.435889Z"
        },
        "papermill": {
          "duration": 1.415082,
          "end_time": "2024-05-12T01:27:45.438343",
          "exception": false,
          "start_time": "2024-05-12T01:27:44.023261",
          "status": "completed"
        },
        "tags": [],
        "colab": {
          "base_uri": "https://localhost:8080/",
          "height": 206
        },
        "id": "4ff0e134",
        "outputId": "1ec383a4-01cd-441d-f068-70e81ff2bd55"
      },
      "outputs": [
        {
          "output_type": "execute_result",
          "data": {
            "text/plain": [
              "   distance_from_home  distance_from_last_transaction  \\\n",
              "0           57.877857                        0.311140   \n",
              "1           10.829943                        0.175592   \n",
              "2            5.091079                        0.805153   \n",
              "3            2.247564                        5.600044   \n",
              "4           44.190936                        0.566486   \n",
              "\n",
              "   ratio_to_median_purchase_price  repeat_retailer  used_chip  \\\n",
              "0                        1.945940              1.0        1.0   \n",
              "1                        1.294219              1.0        0.0   \n",
              "2                        0.427715              1.0        0.0   \n",
              "3                        0.362663              1.0        1.0   \n",
              "4                        2.222767              1.0        1.0   \n",
              "\n",
              "   used_pin_number  online_order  fraud  \n",
              "0              0.0           0.0    0.0  \n",
              "1              0.0           0.0    0.0  \n",
              "2              0.0           1.0    0.0  \n",
              "3              0.0           1.0    0.0  \n",
              "4              0.0           1.0    0.0  "
            ],
            "text/html": [
              "\n",
              "  <div id=\"df-efaa13b7-1f4c-4c02-8384-8ab0faabd9f5\" class=\"colab-df-container\">\n",
              "    <div>\n",
              "<style scoped>\n",
              "    .dataframe tbody tr th:only-of-type {\n",
              "        vertical-align: middle;\n",
              "    }\n",
              "\n",
              "    .dataframe tbody tr th {\n",
              "        vertical-align: top;\n",
              "    }\n",
              "\n",
              "    .dataframe thead th {\n",
              "        text-align: right;\n",
              "    }\n",
              "</style>\n",
              "<table border=\"1\" class=\"dataframe\">\n",
              "  <thead>\n",
              "    <tr style=\"text-align: right;\">\n",
              "      <th></th>\n",
              "      <th>distance_from_home</th>\n",
              "      <th>distance_from_last_transaction</th>\n",
              "      <th>ratio_to_median_purchase_price</th>\n",
              "      <th>repeat_retailer</th>\n",
              "      <th>used_chip</th>\n",
              "      <th>used_pin_number</th>\n",
              "      <th>online_order</th>\n",
              "      <th>fraud</th>\n",
              "    </tr>\n",
              "  </thead>\n",
              "  <tbody>\n",
              "    <tr>\n",
              "      <th>0</th>\n",
              "      <td>57.877857</td>\n",
              "      <td>0.311140</td>\n",
              "      <td>1.945940</td>\n",
              "      <td>1.0</td>\n",
              "      <td>1.0</td>\n",
              "      <td>0.0</td>\n",
              "      <td>0.0</td>\n",
              "      <td>0.0</td>\n",
              "    </tr>\n",
              "    <tr>\n",
              "      <th>1</th>\n",
              "      <td>10.829943</td>\n",
              "      <td>0.175592</td>\n",
              "      <td>1.294219</td>\n",
              "      <td>1.0</td>\n",
              "      <td>0.0</td>\n",
              "      <td>0.0</td>\n",
              "      <td>0.0</td>\n",
              "      <td>0.0</td>\n",
              "    </tr>\n",
              "    <tr>\n",
              "      <th>2</th>\n",
              "      <td>5.091079</td>\n",
              "      <td>0.805153</td>\n",
              "      <td>0.427715</td>\n",
              "      <td>1.0</td>\n",
              "      <td>0.0</td>\n",
              "      <td>0.0</td>\n",
              "      <td>1.0</td>\n",
              "      <td>0.0</td>\n",
              "    </tr>\n",
              "    <tr>\n",
              "      <th>3</th>\n",
              "      <td>2.247564</td>\n",
              "      <td>5.600044</td>\n",
              "      <td>0.362663</td>\n",
              "      <td>1.0</td>\n",
              "      <td>1.0</td>\n",
              "      <td>0.0</td>\n",
              "      <td>1.0</td>\n",
              "      <td>0.0</td>\n",
              "    </tr>\n",
              "    <tr>\n",
              "      <th>4</th>\n",
              "      <td>44.190936</td>\n",
              "      <td>0.566486</td>\n",
              "      <td>2.222767</td>\n",
              "      <td>1.0</td>\n",
              "      <td>1.0</td>\n",
              "      <td>0.0</td>\n",
              "      <td>1.0</td>\n",
              "      <td>0.0</td>\n",
              "    </tr>\n",
              "  </tbody>\n",
              "</table>\n",
              "</div>\n",
              "    <div class=\"colab-df-buttons\">\n",
              "\n",
              "  <div class=\"colab-df-container\">\n",
              "    <button class=\"colab-df-convert\" onclick=\"convertToInteractive('df-efaa13b7-1f4c-4c02-8384-8ab0faabd9f5')\"\n",
              "            title=\"Convert this dataframe to an interactive table.\"\n",
              "            style=\"display:none;\">\n",
              "\n",
              "  <svg xmlns=\"http://www.w3.org/2000/svg\" height=\"24px\" viewBox=\"0 -960 960 960\">\n",
              "    <path d=\"M120-120v-720h720v720H120Zm60-500h600v-160H180v160Zm220 220h160v-160H400v160Zm0 220h160v-160H400v160ZM180-400h160v-160H180v160Zm440 0h160v-160H620v160ZM180-180h160v-160H180v160Zm440 0h160v-160H620v160Z\"/>\n",
              "  </svg>\n",
              "    </button>\n",
              "\n",
              "  <style>\n",
              "    .colab-df-container {\n",
              "      display:flex;\n",
              "      gap: 12px;\n",
              "    }\n",
              "\n",
              "    .colab-df-convert {\n",
              "      background-color: #E8F0FE;\n",
              "      border: none;\n",
              "      border-radius: 50%;\n",
              "      cursor: pointer;\n",
              "      display: none;\n",
              "      fill: #1967D2;\n",
              "      height: 32px;\n",
              "      padding: 0 0 0 0;\n",
              "      width: 32px;\n",
              "    }\n",
              "\n",
              "    .colab-df-convert:hover {\n",
              "      background-color: #E2EBFA;\n",
              "      box-shadow: 0px 1px 2px rgba(60, 64, 67, 0.3), 0px 1px 3px 1px rgba(60, 64, 67, 0.15);\n",
              "      fill: #174EA6;\n",
              "    }\n",
              "\n",
              "    .colab-df-buttons div {\n",
              "      margin-bottom: 4px;\n",
              "    }\n",
              "\n",
              "    [theme=dark] .colab-df-convert {\n",
              "      background-color: #3B4455;\n",
              "      fill: #D2E3FC;\n",
              "    }\n",
              "\n",
              "    [theme=dark] .colab-df-convert:hover {\n",
              "      background-color: #434B5C;\n",
              "      box-shadow: 0px 1px 3px 1px rgba(0, 0, 0, 0.15);\n",
              "      filter: drop-shadow(0px 1px 2px rgba(0, 0, 0, 0.3));\n",
              "      fill: #FFFFFF;\n",
              "    }\n",
              "  </style>\n",
              "\n",
              "    <script>\n",
              "      const buttonEl =\n",
              "        document.querySelector('#df-efaa13b7-1f4c-4c02-8384-8ab0faabd9f5 button.colab-df-convert');\n",
              "      buttonEl.style.display =\n",
              "        google.colab.kernel.accessAllowed ? 'block' : 'none';\n",
              "\n",
              "      async function convertToInteractive(key) {\n",
              "        const element = document.querySelector('#df-efaa13b7-1f4c-4c02-8384-8ab0faabd9f5');\n",
              "        const dataTable =\n",
              "          await google.colab.kernel.invokeFunction('convertToInteractive',\n",
              "                                                    [key], {});\n",
              "        if (!dataTable) return;\n",
              "\n",
              "        const docLinkHtml = 'Like what you see? Visit the ' +\n",
              "          '<a target=\"_blank\" href=https://colab.research.google.com/notebooks/data_table.ipynb>data table notebook</a>'\n",
              "          + ' to learn more about interactive tables.';\n",
              "        element.innerHTML = '';\n",
              "        dataTable['output_type'] = 'display_data';\n",
              "        await google.colab.output.renderOutput(dataTable, element);\n",
              "        const docLink = document.createElement('div');\n",
              "        docLink.innerHTML = docLinkHtml;\n",
              "        element.appendChild(docLink);\n",
              "      }\n",
              "    </script>\n",
              "  </div>\n",
              "\n",
              "\n",
              "<div id=\"df-a478ca56-c9c1-4714-9c02-f243d070bf47\">\n",
              "  <button class=\"colab-df-quickchart\" onclick=\"quickchart('df-a478ca56-c9c1-4714-9c02-f243d070bf47')\"\n",
              "            title=\"Suggest charts\"\n",
              "            style=\"display:none;\">\n",
              "\n",
              "<svg xmlns=\"http://www.w3.org/2000/svg\" height=\"24px\"viewBox=\"0 0 24 24\"\n",
              "     width=\"24px\">\n",
              "    <g>\n",
              "        <path d=\"M19 3H5c-1.1 0-2 .9-2 2v14c0 1.1.9 2 2 2h14c1.1 0 2-.9 2-2V5c0-1.1-.9-2-2-2zM9 17H7v-7h2v7zm4 0h-2V7h2v10zm4 0h-2v-4h2v4z\"/>\n",
              "    </g>\n",
              "</svg>\n",
              "  </button>\n",
              "\n",
              "<style>\n",
              "  .colab-df-quickchart {\n",
              "      --bg-color: #E8F0FE;\n",
              "      --fill-color: #1967D2;\n",
              "      --hover-bg-color: #E2EBFA;\n",
              "      --hover-fill-color: #174EA6;\n",
              "      --disabled-fill-color: #AAA;\n",
              "      --disabled-bg-color: #DDD;\n",
              "  }\n",
              "\n",
              "  [theme=dark] .colab-df-quickchart {\n",
              "      --bg-color: #3B4455;\n",
              "      --fill-color: #D2E3FC;\n",
              "      --hover-bg-color: #434B5C;\n",
              "      --hover-fill-color: #FFFFFF;\n",
              "      --disabled-bg-color: #3B4455;\n",
              "      --disabled-fill-color: #666;\n",
              "  }\n",
              "\n",
              "  .colab-df-quickchart {\n",
              "    background-color: var(--bg-color);\n",
              "    border: none;\n",
              "    border-radius: 50%;\n",
              "    cursor: pointer;\n",
              "    display: none;\n",
              "    fill: var(--fill-color);\n",
              "    height: 32px;\n",
              "    padding: 0;\n",
              "    width: 32px;\n",
              "  }\n",
              "\n",
              "  .colab-df-quickchart:hover {\n",
              "    background-color: var(--hover-bg-color);\n",
              "    box-shadow: 0 1px 2px rgba(60, 64, 67, 0.3), 0 1px 3px 1px rgba(60, 64, 67, 0.15);\n",
              "    fill: var(--button-hover-fill-color);\n",
              "  }\n",
              "\n",
              "  .colab-df-quickchart-complete:disabled,\n",
              "  .colab-df-quickchart-complete:disabled:hover {\n",
              "    background-color: var(--disabled-bg-color);\n",
              "    fill: var(--disabled-fill-color);\n",
              "    box-shadow: none;\n",
              "  }\n",
              "\n",
              "  .colab-df-spinner {\n",
              "    border: 2px solid var(--fill-color);\n",
              "    border-color: transparent;\n",
              "    border-bottom-color: var(--fill-color);\n",
              "    animation:\n",
              "      spin 1s steps(1) infinite;\n",
              "  }\n",
              "\n",
              "  @keyframes spin {\n",
              "    0% {\n",
              "      border-color: transparent;\n",
              "      border-bottom-color: var(--fill-color);\n",
              "      border-left-color: var(--fill-color);\n",
              "    }\n",
              "    20% {\n",
              "      border-color: transparent;\n",
              "      border-left-color: var(--fill-color);\n",
              "      border-top-color: var(--fill-color);\n",
              "    }\n",
              "    30% {\n",
              "      border-color: transparent;\n",
              "      border-left-color: var(--fill-color);\n",
              "      border-top-color: var(--fill-color);\n",
              "      border-right-color: var(--fill-color);\n",
              "    }\n",
              "    40% {\n",
              "      border-color: transparent;\n",
              "      border-right-color: var(--fill-color);\n",
              "      border-top-color: var(--fill-color);\n",
              "    }\n",
              "    60% {\n",
              "      border-color: transparent;\n",
              "      border-right-color: var(--fill-color);\n",
              "    }\n",
              "    80% {\n",
              "      border-color: transparent;\n",
              "      border-right-color: var(--fill-color);\n",
              "      border-bottom-color: var(--fill-color);\n",
              "    }\n",
              "    90% {\n",
              "      border-color: transparent;\n",
              "      border-bottom-color: var(--fill-color);\n",
              "    }\n",
              "  }\n",
              "</style>\n",
              "\n",
              "  <script>\n",
              "    async function quickchart(key) {\n",
              "      const quickchartButtonEl =\n",
              "        document.querySelector('#' + key + ' button');\n",
              "      quickchartButtonEl.disabled = true;  // To prevent multiple clicks.\n",
              "      quickchartButtonEl.classList.add('colab-df-spinner');\n",
              "      try {\n",
              "        const charts = await google.colab.kernel.invokeFunction(\n",
              "            'suggestCharts', [key], {});\n",
              "      } catch (error) {\n",
              "        console.error('Error during call to suggestCharts:', error);\n",
              "      }\n",
              "      quickchartButtonEl.classList.remove('colab-df-spinner');\n",
              "      quickchartButtonEl.classList.add('colab-df-quickchart-complete');\n",
              "    }\n",
              "    (() => {\n",
              "      let quickchartButtonEl =\n",
              "        document.querySelector('#df-a478ca56-c9c1-4714-9c02-f243d070bf47 button');\n",
              "      quickchartButtonEl.style.display =\n",
              "        google.colab.kernel.accessAllowed ? 'block' : 'none';\n",
              "    })();\n",
              "  </script>\n",
              "</div>\n",
              "\n",
              "    </div>\n",
              "  </div>\n"
            ],
            "application/vnd.google.colaboratory.intrinsic+json": {
              "type": "dataframe",
              "variable_name": "data"
            }
          },
          "metadata": {},
          "execution_count": 7
        }
      ],
      "source": [
        "data.head(5)"
      ]
    },
    {
      "cell_type": "code",
      "execution_count": 8,
      "id": "e143a581",
      "metadata": {
        "execution": {
          "iopub.execute_input": "2024-05-12T01:27:45.460717Z",
          "iopub.status.busy": "2024-05-12T01:27:45.460419Z",
          "iopub.status.idle": "2024-05-12T01:27:45.474645Z",
          "shell.execute_reply": "2024-05-12T01:27:45.473647Z"
        },
        "papermill": {
          "duration": 0.027453,
          "end_time": "2024-05-12T01:27:45.476411",
          "exception": false,
          "start_time": "2024-05-12T01:27:45.448958",
          "status": "completed"
        },
        "tags": [],
        "colab": {
          "base_uri": "https://localhost:8080/"
        },
        "id": "e143a581",
        "outputId": "560b9d97-bc14-4bb9-cd76-c2687f69790d"
      },
      "outputs": [
        {
          "output_type": "stream",
          "name": "stdout",
          "text": [
            "DISTANCE_FROM_HOME                0\n",
            "DISTANCE_FROM_LAST_TRANSACTION    0\n",
            "RATIO_TO_MEDIAN_PURCHASE_PRICE    0\n",
            "REPEAT_RETAILER                   0\n",
            "USED_CHIP                         0\n",
            "USED_PIN_NUMBER                   0\n",
            "ONLINE_ORDER                      0\n",
            "FRAUD                             0\n",
            "dtype: int64\n"
          ]
        }
      ],
      "source": [
        "# Rename the columns to capitalize and replace spaces with underscores\n",
        "data.columns = [col.upper().replace(' ', '_') for col in data.columns]\n",
        "# Checking null values for each column\n",
        "print(data.isna().sum())"
      ]
    },
    {
      "cell_type": "code",
      "execution_count": 9,
      "id": "1b78d0c3",
      "metadata": {
        "execution": {
          "iopub.execute_input": "2024-05-12T01:27:45.498511Z",
          "iopub.status.busy": "2024-05-12T01:27:45.498074Z",
          "iopub.status.idle": "2024-05-12T01:27:45.502917Z",
          "shell.execute_reply": "2024-05-12T01:27:45.502156Z"
        },
        "papermill": {
          "duration": 0.017514,
          "end_time": "2024-05-12T01:27:45.504341",
          "exception": false,
          "start_time": "2024-05-12T01:27:45.486827",
          "status": "completed"
        },
        "tags": [],
        "colab": {
          "base_uri": "https://localhost:8080/"
        },
        "id": "1b78d0c3",
        "outputId": "95602849-543c-4b79-bee4-39dca6599f1c"
      },
      "outputs": [
        {
          "output_type": "execute_result",
          "data": {
            "text/plain": [
              "(1000000, 8)"
            ]
          },
          "metadata": {},
          "execution_count": 9
        }
      ],
      "source": [
        "# Checking total number of rows and columns\n",
        "data.shape"
      ]
    },
    {
      "cell_type": "markdown",
      "id": "6825b585",
      "metadata": {
        "papermill": {
          "duration": 0.010724,
          "end_time": "2024-05-12T01:27:45.525560",
          "exception": false,
          "start_time": "2024-05-12T01:27:45.514836",
          "status": "completed"
        },
        "tags": [],
        "id": "6825b585"
      },
      "source": [
        "### Dataset statistics observation"
      ]
    },
    {
      "cell_type": "code",
      "execution_count": 10,
      "id": "9203cdca",
      "metadata": {
        "execution": {
          "iopub.execute_input": "2024-05-12T01:27:45.547684Z",
          "iopub.status.busy": "2024-05-12T01:27:45.547387Z",
          "iopub.status.idle": "2024-05-12T01:27:45.774426Z",
          "shell.execute_reply": "2024-05-12T01:27:45.773637Z"
        },
        "papermill": {
          "duration": 0.240166,
          "end_time": "2024-05-12T01:27:45.776048",
          "exception": false,
          "start_time": "2024-05-12T01:27:45.535882",
          "status": "completed"
        },
        "tags": [],
        "colab": {
          "base_uri": "https://localhost:8080/",
          "height": 300
        },
        "id": "9203cdca",
        "outputId": "3bbc5c18-f949-4b97-805c-da322fafd2d9"
      },
      "outputs": [
        {
          "output_type": "execute_result",
          "data": {
            "text/plain": [
              "       DISTANCE_FROM_HOME  DISTANCE_FROM_LAST_TRANSACTION  \\\n",
              "count      1000000.000000                  1000000.000000   \n",
              "mean            26.628792                        5.036519   \n",
              "std             65.390784                       25.843093   \n",
              "min              0.004874                        0.000118   \n",
              "25%              3.878008                        0.296671   \n",
              "50%              9.967760                        0.998650   \n",
              "75%             25.743985                        3.355748   \n",
              "max          10632.723672                    11851.104565   \n",
              "\n",
              "       RATIO_TO_MEDIAN_PURCHASE_PRICE  REPEAT_RETAILER       USED_CHIP  \\\n",
              "count                  1000000.000000   1000000.000000  1000000.000000   \n",
              "mean                         1.824182         0.881536        0.350399   \n",
              "std                          2.799589         0.323157        0.477095   \n",
              "min                          0.004399         0.000000        0.000000   \n",
              "25%                          0.475673         1.000000        0.000000   \n",
              "50%                          0.997717         1.000000        0.000000   \n",
              "75%                          2.096370         1.000000        1.000000   \n",
              "max                        267.802942         1.000000        1.000000   \n",
              "\n",
              "       USED_PIN_NUMBER    ONLINE_ORDER           FRAUD  \n",
              "count   1000000.000000  1000000.000000  1000000.000000  \n",
              "mean          0.100608        0.650552        0.087403  \n",
              "std           0.300809        0.476796        0.282425  \n",
              "min           0.000000        0.000000        0.000000  \n",
              "25%           0.000000        0.000000        0.000000  \n",
              "50%           0.000000        1.000000        0.000000  \n",
              "75%           0.000000        1.000000        0.000000  \n",
              "max           1.000000        1.000000        1.000000  "
            ],
            "text/html": [
              "\n",
              "  <div id=\"df-80ee0ce0-43af-4af6-8f99-7807264d6ebf\" class=\"colab-df-container\">\n",
              "    <div>\n",
              "<style scoped>\n",
              "    .dataframe tbody tr th:only-of-type {\n",
              "        vertical-align: middle;\n",
              "    }\n",
              "\n",
              "    .dataframe tbody tr th {\n",
              "        vertical-align: top;\n",
              "    }\n",
              "\n",
              "    .dataframe thead th {\n",
              "        text-align: right;\n",
              "    }\n",
              "</style>\n",
              "<table border=\"1\" class=\"dataframe\">\n",
              "  <thead>\n",
              "    <tr style=\"text-align: right;\">\n",
              "      <th></th>\n",
              "      <th>DISTANCE_FROM_HOME</th>\n",
              "      <th>DISTANCE_FROM_LAST_TRANSACTION</th>\n",
              "      <th>RATIO_TO_MEDIAN_PURCHASE_PRICE</th>\n",
              "      <th>REPEAT_RETAILER</th>\n",
              "      <th>USED_CHIP</th>\n",
              "      <th>USED_PIN_NUMBER</th>\n",
              "      <th>ONLINE_ORDER</th>\n",
              "      <th>FRAUD</th>\n",
              "    </tr>\n",
              "  </thead>\n",
              "  <tbody>\n",
              "    <tr>\n",
              "      <th>count</th>\n",
              "      <td>1000000.000000</td>\n",
              "      <td>1000000.000000</td>\n",
              "      <td>1000000.000000</td>\n",
              "      <td>1000000.000000</td>\n",
              "      <td>1000000.000000</td>\n",
              "      <td>1000000.000000</td>\n",
              "      <td>1000000.000000</td>\n",
              "      <td>1000000.000000</td>\n",
              "    </tr>\n",
              "    <tr>\n",
              "      <th>mean</th>\n",
              "      <td>26.628792</td>\n",
              "      <td>5.036519</td>\n",
              "      <td>1.824182</td>\n",
              "      <td>0.881536</td>\n",
              "      <td>0.350399</td>\n",
              "      <td>0.100608</td>\n",
              "      <td>0.650552</td>\n",
              "      <td>0.087403</td>\n",
              "    </tr>\n",
              "    <tr>\n",
              "      <th>std</th>\n",
              "      <td>65.390784</td>\n",
              "      <td>25.843093</td>\n",
              "      <td>2.799589</td>\n",
              "      <td>0.323157</td>\n",
              "      <td>0.477095</td>\n",
              "      <td>0.300809</td>\n",
              "      <td>0.476796</td>\n",
              "      <td>0.282425</td>\n",
              "    </tr>\n",
              "    <tr>\n",
              "      <th>min</th>\n",
              "      <td>0.004874</td>\n",
              "      <td>0.000118</td>\n",
              "      <td>0.004399</td>\n",
              "      <td>0.000000</td>\n",
              "      <td>0.000000</td>\n",
              "      <td>0.000000</td>\n",
              "      <td>0.000000</td>\n",
              "      <td>0.000000</td>\n",
              "    </tr>\n",
              "    <tr>\n",
              "      <th>25%</th>\n",
              "      <td>3.878008</td>\n",
              "      <td>0.296671</td>\n",
              "      <td>0.475673</td>\n",
              "      <td>1.000000</td>\n",
              "      <td>0.000000</td>\n",
              "      <td>0.000000</td>\n",
              "      <td>0.000000</td>\n",
              "      <td>0.000000</td>\n",
              "    </tr>\n",
              "    <tr>\n",
              "      <th>50%</th>\n",
              "      <td>9.967760</td>\n",
              "      <td>0.998650</td>\n",
              "      <td>0.997717</td>\n",
              "      <td>1.000000</td>\n",
              "      <td>0.000000</td>\n",
              "      <td>0.000000</td>\n",
              "      <td>1.000000</td>\n",
              "      <td>0.000000</td>\n",
              "    </tr>\n",
              "    <tr>\n",
              "      <th>75%</th>\n",
              "      <td>25.743985</td>\n",
              "      <td>3.355748</td>\n",
              "      <td>2.096370</td>\n",
              "      <td>1.000000</td>\n",
              "      <td>1.000000</td>\n",
              "      <td>0.000000</td>\n",
              "      <td>1.000000</td>\n",
              "      <td>0.000000</td>\n",
              "    </tr>\n",
              "    <tr>\n",
              "      <th>max</th>\n",
              "      <td>10632.723672</td>\n",
              "      <td>11851.104565</td>\n",
              "      <td>267.802942</td>\n",
              "      <td>1.000000</td>\n",
              "      <td>1.000000</td>\n",
              "      <td>1.000000</td>\n",
              "      <td>1.000000</td>\n",
              "      <td>1.000000</td>\n",
              "    </tr>\n",
              "  </tbody>\n",
              "</table>\n",
              "</div>\n",
              "    <div class=\"colab-df-buttons\">\n",
              "\n",
              "  <div class=\"colab-df-container\">\n",
              "    <button class=\"colab-df-convert\" onclick=\"convertToInteractive('df-80ee0ce0-43af-4af6-8f99-7807264d6ebf')\"\n",
              "            title=\"Convert this dataframe to an interactive table.\"\n",
              "            style=\"display:none;\">\n",
              "\n",
              "  <svg xmlns=\"http://www.w3.org/2000/svg\" height=\"24px\" viewBox=\"0 -960 960 960\">\n",
              "    <path d=\"M120-120v-720h720v720H120Zm60-500h600v-160H180v160Zm220 220h160v-160H400v160Zm0 220h160v-160H400v160ZM180-400h160v-160H180v160Zm440 0h160v-160H620v160ZM180-180h160v-160H180v160Zm440 0h160v-160H620v160Z\"/>\n",
              "  </svg>\n",
              "    </button>\n",
              "\n",
              "  <style>\n",
              "    .colab-df-container {\n",
              "      display:flex;\n",
              "      gap: 12px;\n",
              "    }\n",
              "\n",
              "    .colab-df-convert {\n",
              "      background-color: #E8F0FE;\n",
              "      border: none;\n",
              "      border-radius: 50%;\n",
              "      cursor: pointer;\n",
              "      display: none;\n",
              "      fill: #1967D2;\n",
              "      height: 32px;\n",
              "      padding: 0 0 0 0;\n",
              "      width: 32px;\n",
              "    }\n",
              "\n",
              "    .colab-df-convert:hover {\n",
              "      background-color: #E2EBFA;\n",
              "      box-shadow: 0px 1px 2px rgba(60, 64, 67, 0.3), 0px 1px 3px 1px rgba(60, 64, 67, 0.15);\n",
              "      fill: #174EA6;\n",
              "    }\n",
              "\n",
              "    .colab-df-buttons div {\n",
              "      margin-bottom: 4px;\n",
              "    }\n",
              "\n",
              "    [theme=dark] .colab-df-convert {\n",
              "      background-color: #3B4455;\n",
              "      fill: #D2E3FC;\n",
              "    }\n",
              "\n",
              "    [theme=dark] .colab-df-convert:hover {\n",
              "      background-color: #434B5C;\n",
              "      box-shadow: 0px 1px 3px 1px rgba(0, 0, 0, 0.15);\n",
              "      filter: drop-shadow(0px 1px 2px rgba(0, 0, 0, 0.3));\n",
              "      fill: #FFFFFF;\n",
              "    }\n",
              "  </style>\n",
              "\n",
              "    <script>\n",
              "      const buttonEl =\n",
              "        document.querySelector('#df-80ee0ce0-43af-4af6-8f99-7807264d6ebf button.colab-df-convert');\n",
              "      buttonEl.style.display =\n",
              "        google.colab.kernel.accessAllowed ? 'block' : 'none';\n",
              "\n",
              "      async function convertToInteractive(key) {\n",
              "        const element = document.querySelector('#df-80ee0ce0-43af-4af6-8f99-7807264d6ebf');\n",
              "        const dataTable =\n",
              "          await google.colab.kernel.invokeFunction('convertToInteractive',\n",
              "                                                    [key], {});\n",
              "        if (!dataTable) return;\n",
              "\n",
              "        const docLinkHtml = 'Like what you see? Visit the ' +\n",
              "          '<a target=\"_blank\" href=https://colab.research.google.com/notebooks/data_table.ipynb>data table notebook</a>'\n",
              "          + ' to learn more about interactive tables.';\n",
              "        element.innerHTML = '';\n",
              "        dataTable['output_type'] = 'display_data';\n",
              "        await google.colab.output.renderOutput(dataTable, element);\n",
              "        const docLink = document.createElement('div');\n",
              "        docLink.innerHTML = docLinkHtml;\n",
              "        element.appendChild(docLink);\n",
              "      }\n",
              "    </script>\n",
              "  </div>\n",
              "\n",
              "\n",
              "<div id=\"df-765973fa-6b0b-46e3-adc4-113394dbfcc5\">\n",
              "  <button class=\"colab-df-quickchart\" onclick=\"quickchart('df-765973fa-6b0b-46e3-adc4-113394dbfcc5')\"\n",
              "            title=\"Suggest charts\"\n",
              "            style=\"display:none;\">\n",
              "\n",
              "<svg xmlns=\"http://www.w3.org/2000/svg\" height=\"24px\"viewBox=\"0 0 24 24\"\n",
              "     width=\"24px\">\n",
              "    <g>\n",
              "        <path d=\"M19 3H5c-1.1 0-2 .9-2 2v14c0 1.1.9 2 2 2h14c1.1 0 2-.9 2-2V5c0-1.1-.9-2-2-2zM9 17H7v-7h2v7zm4 0h-2V7h2v10zm4 0h-2v-4h2v4z\"/>\n",
              "    </g>\n",
              "</svg>\n",
              "  </button>\n",
              "\n",
              "<style>\n",
              "  .colab-df-quickchart {\n",
              "      --bg-color: #E8F0FE;\n",
              "      --fill-color: #1967D2;\n",
              "      --hover-bg-color: #E2EBFA;\n",
              "      --hover-fill-color: #174EA6;\n",
              "      --disabled-fill-color: #AAA;\n",
              "      --disabled-bg-color: #DDD;\n",
              "  }\n",
              "\n",
              "  [theme=dark] .colab-df-quickchart {\n",
              "      --bg-color: #3B4455;\n",
              "      --fill-color: #D2E3FC;\n",
              "      --hover-bg-color: #434B5C;\n",
              "      --hover-fill-color: #FFFFFF;\n",
              "      --disabled-bg-color: #3B4455;\n",
              "      --disabled-fill-color: #666;\n",
              "  }\n",
              "\n",
              "  .colab-df-quickchart {\n",
              "    background-color: var(--bg-color);\n",
              "    border: none;\n",
              "    border-radius: 50%;\n",
              "    cursor: pointer;\n",
              "    display: none;\n",
              "    fill: var(--fill-color);\n",
              "    height: 32px;\n",
              "    padding: 0;\n",
              "    width: 32px;\n",
              "  }\n",
              "\n",
              "  .colab-df-quickchart:hover {\n",
              "    background-color: var(--hover-bg-color);\n",
              "    box-shadow: 0 1px 2px rgba(60, 64, 67, 0.3), 0 1px 3px 1px rgba(60, 64, 67, 0.15);\n",
              "    fill: var(--button-hover-fill-color);\n",
              "  }\n",
              "\n",
              "  .colab-df-quickchart-complete:disabled,\n",
              "  .colab-df-quickchart-complete:disabled:hover {\n",
              "    background-color: var(--disabled-bg-color);\n",
              "    fill: var(--disabled-fill-color);\n",
              "    box-shadow: none;\n",
              "  }\n",
              "\n",
              "  .colab-df-spinner {\n",
              "    border: 2px solid var(--fill-color);\n",
              "    border-color: transparent;\n",
              "    border-bottom-color: var(--fill-color);\n",
              "    animation:\n",
              "      spin 1s steps(1) infinite;\n",
              "  }\n",
              "\n",
              "  @keyframes spin {\n",
              "    0% {\n",
              "      border-color: transparent;\n",
              "      border-bottom-color: var(--fill-color);\n",
              "      border-left-color: var(--fill-color);\n",
              "    }\n",
              "    20% {\n",
              "      border-color: transparent;\n",
              "      border-left-color: var(--fill-color);\n",
              "      border-top-color: var(--fill-color);\n",
              "    }\n",
              "    30% {\n",
              "      border-color: transparent;\n",
              "      border-left-color: var(--fill-color);\n",
              "      border-top-color: var(--fill-color);\n",
              "      border-right-color: var(--fill-color);\n",
              "    }\n",
              "    40% {\n",
              "      border-color: transparent;\n",
              "      border-right-color: var(--fill-color);\n",
              "      border-top-color: var(--fill-color);\n",
              "    }\n",
              "    60% {\n",
              "      border-color: transparent;\n",
              "      border-right-color: var(--fill-color);\n",
              "    }\n",
              "    80% {\n",
              "      border-color: transparent;\n",
              "      border-right-color: var(--fill-color);\n",
              "      border-bottom-color: var(--fill-color);\n",
              "    }\n",
              "    90% {\n",
              "      border-color: transparent;\n",
              "      border-bottom-color: var(--fill-color);\n",
              "    }\n",
              "  }\n",
              "</style>\n",
              "\n",
              "  <script>\n",
              "    async function quickchart(key) {\n",
              "      const quickchartButtonEl =\n",
              "        document.querySelector('#' + key + ' button');\n",
              "      quickchartButtonEl.disabled = true;  // To prevent multiple clicks.\n",
              "      quickchartButtonEl.classList.add('colab-df-spinner');\n",
              "      try {\n",
              "        const charts = await google.colab.kernel.invokeFunction(\n",
              "            'suggestCharts', [key], {});\n",
              "      } catch (error) {\n",
              "        console.error('Error during call to suggestCharts:', error);\n",
              "      }\n",
              "      quickchartButtonEl.classList.remove('colab-df-spinner');\n",
              "      quickchartButtonEl.classList.add('colab-df-quickchart-complete');\n",
              "    }\n",
              "    (() => {\n",
              "      let quickchartButtonEl =\n",
              "        document.querySelector('#df-765973fa-6b0b-46e3-adc4-113394dbfcc5 button');\n",
              "      quickchartButtonEl.style.display =\n",
              "        google.colab.kernel.accessAllowed ? 'block' : 'none';\n",
              "    })();\n",
              "  </script>\n",
              "</div>\n",
              "\n",
              "    </div>\n",
              "  </div>\n"
            ],
            "application/vnd.google.colaboratory.intrinsic+json": {
              "type": "dataframe",
              "summary": "{\n  \"name\": \"data\",\n  \"rows\": 8,\n  \"fields\": [\n    {\n      \"column\": \"DISTANCE_FROM_HOME\",\n      \"properties\": {\n        \"dtype\": \"number\",\n        \"std\": 353029.23639239033,\n        \"min\": 0.0048743850667442,\n        \"max\": 1000000.0,\n        \"num_unique_values\": 8,\n        \"samples\": [\n          26.62879219257128,\n          9.967760078697681,\n          1000000.0\n        ],\n        \"semantic_type\": \"\",\n        \"description\": \"\"\n      }\n    },\n    {\n      \"column\": \"DISTANCE_FROM_LAST_TRANSACTION\",\n      \"properties\": {\n        \"dtype\": \"number\",\n        \"std\": 352977.3624937616,\n        \"min\": 0.000118281615244,\n        \"max\": 1000000.0,\n        \"num_unique_values\": 8,\n        \"samples\": [\n          5.036519397861618,\n          0.9986501239499769,\n          1000000.0\n        ],\n        \"semantic_type\": \"\",\n        \"description\": \"\"\n      }\n    },\n    {\n      \"column\": \"RATIO_TO_MEDIAN_PURCHASE_PRICE\",\n      \"properties\": {\n        \"dtype\": \"number\",\n        \"std\": 353539.46273868997,\n        \"min\": 0.004399239615964,\n        \"max\": 1000000.0,\n        \"num_unique_values\": 8,\n        \"samples\": [\n          1.8241819784044924,\n          0.9977169368730889,\n          1000000.0\n        ],\n        \"semantic_type\": \"\",\n        \"description\": \"\"\n      }\n    },\n    {\n      \"column\": \"REPEAT_RETAILER\",\n      \"properties\": {\n        \"dtype\": \"number\",\n        \"std\": 353553.1277167891,\n        \"min\": 0.0,\n        \"max\": 1000000.0,\n        \"num_unique_values\": 5,\n        \"samples\": [\n          0.881536,\n          1.0,\n          0.3231569048223868\n        ],\n        \"semantic_type\": \"\",\n        \"description\": \"\"\n      }\n    },\n    {\n      \"column\": \"USED_CHIP\",\n      \"properties\": {\n        \"dtype\": \"number\",\n        \"std\": 353553.24778349814,\n        \"min\": 0.0,\n        \"max\": 1000000.0,\n        \"num_unique_values\": 5,\n        \"samples\": [\n          0.350399,\n          1.0,\n          0.47709513560585415\n        ],\n        \"semantic_type\": \"\",\n        \"description\": \"\"\n      }\n    },\n    {\n      \"column\": \"USED_PIN_NUMBER\",\n      \"properties\": {\n        \"dtype\": \"number\",\n        \"std\": 353553.31981118646,\n        \"min\": 0.0,\n        \"max\": 1000000.0,\n        \"num_unique_values\": 5,\n        \"samples\": [\n          0.100608,\n          1.0,\n          0.30080911027115\n        ],\n        \"semantic_type\": \"\",\n        \"description\": \"\"\n      }\n    },\n    {\n      \"column\": \"ONLINE_ORDER\",\n      \"properties\": {\n        \"dtype\": \"number\",\n        \"std\": 353553.1821309709,\n        \"min\": 0.0,\n        \"max\": 1000000.0,\n        \"num_unique_values\": 5,\n        \"samples\": [\n          0.650552,\n          1.0,\n          0.4767958920023563\n        ],\n        \"semantic_type\": \"\",\n        \"description\": \"\"\n      }\n    },\n    {\n      \"column\": \"FRAUD\",\n      \"properties\": {\n        \"dtype\": \"number\",\n        \"std\": 353553.32140668493,\n        \"min\": 0.0,\n        \"max\": 1000000.0,\n        \"num_unique_values\": 5,\n        \"samples\": [\n          0.087403,\n          1.0,\n          0.2824248490391653\n        ],\n        \"semantic_type\": \"\",\n        \"description\": \"\"\n      }\n    }\n  ]\n}"
            }
          },
          "metadata": {},
          "execution_count": 10
        }
      ],
      "source": [
        "data.describe()"
      ]
    },
    {
      "cell_type": "markdown",
      "id": "7dc48790",
      "metadata": {
        "papermill": {
          "duration": 0.010558,
          "end_time": "2024-05-12T01:27:45.797860",
          "exception": false,
          "start_time": "2024-05-12T01:27:45.787302",
          "status": "completed"
        },
        "tags": [],
        "id": "7dc48790"
      },
      "source": [
        "# Data Preparation and feature engineering"
      ]
    },
    {
      "cell_type": "markdown",
      "id": "c7719411",
      "metadata": {
        "papermill": {
          "duration": 0.010333,
          "end_time": "2024-05-12T01:27:45.818892",
          "exception": false,
          "start_time": "2024-05-12T01:27:45.808559",
          "status": "completed"
        },
        "tags": [],
        "id": "c7719411"
      },
      "source": [
        "### Calculating change in distance from the previous transaction"
      ]
    },
    {
      "cell_type": "code",
      "execution_count": 11,
      "id": "b6e9a82a",
      "metadata": {
        "execution": {
          "iopub.execute_input": "2024-05-12T01:27:45.841531Z",
          "iopub.status.busy": "2024-05-12T01:27:45.841060Z",
          "iopub.status.idle": "2024-05-12T01:27:45.847470Z",
          "shell.execute_reply": "2024-05-12T01:27:45.846725Z"
        },
        "papermill": {
          "duration": 0.019913,
          "end_time": "2024-05-12T01:27:45.849345",
          "exception": false,
          "start_time": "2024-05-12T01:27:45.829432",
          "status": "completed"
        },
        "tags": [],
        "id": "b6e9a82a"
      },
      "outputs": [],
      "source": [
        "data['DISTANCE_RATIO'] = data['DISTANCE_FROM_HOME'] / data['DISTANCE_FROM_LAST_TRANSACTION']"
      ]
    },
    {
      "cell_type": "markdown",
      "id": "384b3b3a",
      "metadata": {
        "papermill": {
          "duration": 0.010377,
          "end_time": "2024-05-12T01:27:45.870934",
          "exception": false,
          "start_time": "2024-05-12T01:27:45.860557",
          "status": "completed"
        },
        "tags": [],
        "id": "384b3b3a"
      },
      "source": [
        "### Normalizing the \"RATIO_TO_MEDIAN_PURCHASE_PRICE\" feature"
      ]
    },
    {
      "cell_type": "markdown",
      "id": "5f403535",
      "metadata": {
        "papermill": {
          "duration": 0.010436,
          "end_time": "2024-05-12T01:27:45.891946",
          "exception": false,
          "start_time": "2024-05-12T01:27:45.881510",
          "status": "completed"
        },
        "tags": [],
        "id": "5f403535"
      },
      "source": [
        "<iframe src=\"https://www.kaggle.com/embed/imtkaggleteam/saudi-pro-league-transfer-analysis?"
      ]
    },
    {
      "cell_type": "code",
      "execution_count": 12,
      "id": "1c2a28cc",
      "metadata": {
        "execution": {
          "iopub.execute_input": "2024-05-12T01:27:45.914542Z",
          "iopub.status.busy": "2024-05-12T01:27:45.914250Z",
          "iopub.status.idle": "2024-05-12T01:27:45.932131Z",
          "shell.execute_reply": "2024-05-12T01:27:45.931491Z"
        },
        "papermill": {
          "duration": 0.031085,
          "end_time": "2024-05-12T01:27:45.933640",
          "exception": false,
          "start_time": "2024-05-12T01:27:45.902555",
          "status": "completed"
        },
        "tags": [],
        "colab": {
          "base_uri": "https://localhost:8080/",
          "height": 206
        },
        "id": "1c2a28cc",
        "outputId": "cd787d86-6c46-43dc-ccc9-0fdd106ebaa4"
      },
      "outputs": [
        {
          "output_type": "execute_result",
          "data": {
            "text/plain": [
              "   DISTANCE_FROM_HOME  DISTANCE_FROM_LAST_TRANSACTION  \\\n",
              "0           57.877857                        0.311140   \n",
              "1           10.829943                        0.175592   \n",
              "2            5.091079                        0.805153   \n",
              "3            2.247564                        5.600044   \n",
              "4           44.190936                        0.566486   \n",
              "\n",
              "   RATIO_TO_MEDIAN_PURCHASE_PRICE  REPEAT_RETAILER  USED_CHIP  \\\n",
              "0                        1.945940              1.0        1.0   \n",
              "1                        1.294219              1.0        0.0   \n",
              "2                        0.427715              1.0        0.0   \n",
              "3                        0.362663              1.0        1.0   \n",
              "4                        2.222767              1.0        1.0   \n",
              "\n",
              "   USED_PIN_NUMBER  ONLINE_ORDER  FRAUD  DISTANCE_RATIO  RATIO_NORMALIZED  \n",
              "0              0.0           0.0    0.0      186.018690          0.007250  \n",
              "1              0.0           0.0    0.0       61.676918          0.004816  \n",
              "2              0.0           1.0    0.0        6.323124          0.001581  \n",
              "3              0.0           1.0    0.0        0.401348          0.001338  \n",
              "4              0.0           1.0    0.0       78.008839          0.008284  "
            ],
            "text/html": [
              "\n",
              "  <div id=\"df-b61c511d-d8d2-4c0a-bae1-9ba601c76c14\" class=\"colab-df-container\">\n",
              "    <div>\n",
              "<style scoped>\n",
              "    .dataframe tbody tr th:only-of-type {\n",
              "        vertical-align: middle;\n",
              "    }\n",
              "\n",
              "    .dataframe tbody tr th {\n",
              "        vertical-align: top;\n",
              "    }\n",
              "\n",
              "    .dataframe thead th {\n",
              "        text-align: right;\n",
              "    }\n",
              "</style>\n",
              "<table border=\"1\" class=\"dataframe\">\n",
              "  <thead>\n",
              "    <tr style=\"text-align: right;\">\n",
              "      <th></th>\n",
              "      <th>DISTANCE_FROM_HOME</th>\n",
              "      <th>DISTANCE_FROM_LAST_TRANSACTION</th>\n",
              "      <th>RATIO_TO_MEDIAN_PURCHASE_PRICE</th>\n",
              "      <th>REPEAT_RETAILER</th>\n",
              "      <th>USED_CHIP</th>\n",
              "      <th>USED_PIN_NUMBER</th>\n",
              "      <th>ONLINE_ORDER</th>\n",
              "      <th>FRAUD</th>\n",
              "      <th>DISTANCE_RATIO</th>\n",
              "      <th>RATIO_NORMALIZED</th>\n",
              "    </tr>\n",
              "  </thead>\n",
              "  <tbody>\n",
              "    <tr>\n",
              "      <th>0</th>\n",
              "      <td>57.877857</td>\n",
              "      <td>0.311140</td>\n",
              "      <td>1.945940</td>\n",
              "      <td>1.0</td>\n",
              "      <td>1.0</td>\n",
              "      <td>0.0</td>\n",
              "      <td>0.0</td>\n",
              "      <td>0.0</td>\n",
              "      <td>186.018690</td>\n",
              "      <td>0.007250</td>\n",
              "    </tr>\n",
              "    <tr>\n",
              "      <th>1</th>\n",
              "      <td>10.829943</td>\n",
              "      <td>0.175592</td>\n",
              "      <td>1.294219</td>\n",
              "      <td>1.0</td>\n",
              "      <td>0.0</td>\n",
              "      <td>0.0</td>\n",
              "      <td>0.0</td>\n",
              "      <td>0.0</td>\n",
              "      <td>61.676918</td>\n",
              "      <td>0.004816</td>\n",
              "    </tr>\n",
              "    <tr>\n",
              "      <th>2</th>\n",
              "      <td>5.091079</td>\n",
              "      <td>0.805153</td>\n",
              "      <td>0.427715</td>\n",
              "      <td>1.0</td>\n",
              "      <td>0.0</td>\n",
              "      <td>0.0</td>\n",
              "      <td>1.0</td>\n",
              "      <td>0.0</td>\n",
              "      <td>6.323124</td>\n",
              "      <td>0.001581</td>\n",
              "    </tr>\n",
              "    <tr>\n",
              "      <th>3</th>\n",
              "      <td>2.247564</td>\n",
              "      <td>5.600044</td>\n",
              "      <td>0.362663</td>\n",
              "      <td>1.0</td>\n",
              "      <td>1.0</td>\n",
              "      <td>0.0</td>\n",
              "      <td>1.0</td>\n",
              "      <td>0.0</td>\n",
              "      <td>0.401348</td>\n",
              "      <td>0.001338</td>\n",
              "    </tr>\n",
              "    <tr>\n",
              "      <th>4</th>\n",
              "      <td>44.190936</td>\n",
              "      <td>0.566486</td>\n",
              "      <td>2.222767</td>\n",
              "      <td>1.0</td>\n",
              "      <td>1.0</td>\n",
              "      <td>0.0</td>\n",
              "      <td>1.0</td>\n",
              "      <td>0.0</td>\n",
              "      <td>78.008839</td>\n",
              "      <td>0.008284</td>\n",
              "    </tr>\n",
              "  </tbody>\n",
              "</table>\n",
              "</div>\n",
              "    <div class=\"colab-df-buttons\">\n",
              "\n",
              "  <div class=\"colab-df-container\">\n",
              "    <button class=\"colab-df-convert\" onclick=\"convertToInteractive('df-b61c511d-d8d2-4c0a-bae1-9ba601c76c14')\"\n",
              "            title=\"Convert this dataframe to an interactive table.\"\n",
              "            style=\"display:none;\">\n",
              "\n",
              "  <svg xmlns=\"http://www.w3.org/2000/svg\" height=\"24px\" viewBox=\"0 -960 960 960\">\n",
              "    <path d=\"M120-120v-720h720v720H120Zm60-500h600v-160H180v160Zm220 220h160v-160H400v160Zm0 220h160v-160H400v160ZM180-400h160v-160H180v160Zm440 0h160v-160H620v160ZM180-180h160v-160H180v160Zm440 0h160v-160H620v160Z\"/>\n",
              "  </svg>\n",
              "    </button>\n",
              "\n",
              "  <style>\n",
              "    .colab-df-container {\n",
              "      display:flex;\n",
              "      gap: 12px;\n",
              "    }\n",
              "\n",
              "    .colab-df-convert {\n",
              "      background-color: #E8F0FE;\n",
              "      border: none;\n",
              "      border-radius: 50%;\n",
              "      cursor: pointer;\n",
              "      display: none;\n",
              "      fill: #1967D2;\n",
              "      height: 32px;\n",
              "      padding: 0 0 0 0;\n",
              "      width: 32px;\n",
              "    }\n",
              "\n",
              "    .colab-df-convert:hover {\n",
              "      background-color: #E2EBFA;\n",
              "      box-shadow: 0px 1px 2px rgba(60, 64, 67, 0.3), 0px 1px 3px 1px rgba(60, 64, 67, 0.15);\n",
              "      fill: #174EA6;\n",
              "    }\n",
              "\n",
              "    .colab-df-buttons div {\n",
              "      margin-bottom: 4px;\n",
              "    }\n",
              "\n",
              "    [theme=dark] .colab-df-convert {\n",
              "      background-color: #3B4455;\n",
              "      fill: #D2E3FC;\n",
              "    }\n",
              "\n",
              "    [theme=dark] .colab-df-convert:hover {\n",
              "      background-color: #434B5C;\n",
              "      box-shadow: 0px 1px 3px 1px rgba(0, 0, 0, 0.15);\n",
              "      filter: drop-shadow(0px 1px 2px rgba(0, 0, 0, 0.3));\n",
              "      fill: #FFFFFF;\n",
              "    }\n",
              "  </style>\n",
              "\n",
              "    <script>\n",
              "      const buttonEl =\n",
              "        document.querySelector('#df-b61c511d-d8d2-4c0a-bae1-9ba601c76c14 button.colab-df-convert');\n",
              "      buttonEl.style.display =\n",
              "        google.colab.kernel.accessAllowed ? 'block' : 'none';\n",
              "\n",
              "      async function convertToInteractive(key) {\n",
              "        const element = document.querySelector('#df-b61c511d-d8d2-4c0a-bae1-9ba601c76c14');\n",
              "        const dataTable =\n",
              "          await google.colab.kernel.invokeFunction('convertToInteractive',\n",
              "                                                    [key], {});\n",
              "        if (!dataTable) return;\n",
              "\n",
              "        const docLinkHtml = 'Like what you see? Visit the ' +\n",
              "          '<a target=\"_blank\" href=https://colab.research.google.com/notebooks/data_table.ipynb>data table notebook</a>'\n",
              "          + ' to learn more about interactive tables.';\n",
              "        element.innerHTML = '';\n",
              "        dataTable['output_type'] = 'display_data';\n",
              "        await google.colab.output.renderOutput(dataTable, element);\n",
              "        const docLink = document.createElement('div');\n",
              "        docLink.innerHTML = docLinkHtml;\n",
              "        element.appendChild(docLink);\n",
              "      }\n",
              "    </script>\n",
              "  </div>\n",
              "\n",
              "\n",
              "<div id=\"df-2b3b73a3-cd1e-48e0-bb4f-07aad22f4a9c\">\n",
              "  <button class=\"colab-df-quickchart\" onclick=\"quickchart('df-2b3b73a3-cd1e-48e0-bb4f-07aad22f4a9c')\"\n",
              "            title=\"Suggest charts\"\n",
              "            style=\"display:none;\">\n",
              "\n",
              "<svg xmlns=\"http://www.w3.org/2000/svg\" height=\"24px\"viewBox=\"0 0 24 24\"\n",
              "     width=\"24px\">\n",
              "    <g>\n",
              "        <path d=\"M19 3H5c-1.1 0-2 .9-2 2v14c0 1.1.9 2 2 2h14c1.1 0 2-.9 2-2V5c0-1.1-.9-2-2-2zM9 17H7v-7h2v7zm4 0h-2V7h2v10zm4 0h-2v-4h2v4z\"/>\n",
              "    </g>\n",
              "</svg>\n",
              "  </button>\n",
              "\n",
              "<style>\n",
              "  .colab-df-quickchart {\n",
              "      --bg-color: #E8F0FE;\n",
              "      --fill-color: #1967D2;\n",
              "      --hover-bg-color: #E2EBFA;\n",
              "      --hover-fill-color: #174EA6;\n",
              "      --disabled-fill-color: #AAA;\n",
              "      --disabled-bg-color: #DDD;\n",
              "  }\n",
              "\n",
              "  [theme=dark] .colab-df-quickchart {\n",
              "      --bg-color: #3B4455;\n",
              "      --fill-color: #D2E3FC;\n",
              "      --hover-bg-color: #434B5C;\n",
              "      --hover-fill-color: #FFFFFF;\n",
              "      --disabled-bg-color: #3B4455;\n",
              "      --disabled-fill-color: #666;\n",
              "  }\n",
              "\n",
              "  .colab-df-quickchart {\n",
              "    background-color: var(--bg-color);\n",
              "    border: none;\n",
              "    border-radius: 50%;\n",
              "    cursor: pointer;\n",
              "    display: none;\n",
              "    fill: var(--fill-color);\n",
              "    height: 32px;\n",
              "    padding: 0;\n",
              "    width: 32px;\n",
              "  }\n",
              "\n",
              "  .colab-df-quickchart:hover {\n",
              "    background-color: var(--hover-bg-color);\n",
              "    box-shadow: 0 1px 2px rgba(60, 64, 67, 0.3), 0 1px 3px 1px rgba(60, 64, 67, 0.15);\n",
              "    fill: var(--button-hover-fill-color);\n",
              "  }\n",
              "\n",
              "  .colab-df-quickchart-complete:disabled,\n",
              "  .colab-df-quickchart-complete:disabled:hover {\n",
              "    background-color: var(--disabled-bg-color);\n",
              "    fill: var(--disabled-fill-color);\n",
              "    box-shadow: none;\n",
              "  }\n",
              "\n",
              "  .colab-df-spinner {\n",
              "    border: 2px solid var(--fill-color);\n",
              "    border-color: transparent;\n",
              "    border-bottom-color: var(--fill-color);\n",
              "    animation:\n",
              "      spin 1s steps(1) infinite;\n",
              "  }\n",
              "\n",
              "  @keyframes spin {\n",
              "    0% {\n",
              "      border-color: transparent;\n",
              "      border-bottom-color: var(--fill-color);\n",
              "      border-left-color: var(--fill-color);\n",
              "    }\n",
              "    20% {\n",
              "      border-color: transparent;\n",
              "      border-left-color: var(--fill-color);\n",
              "      border-top-color: var(--fill-color);\n",
              "    }\n",
              "    30% {\n",
              "      border-color: transparent;\n",
              "      border-left-color: var(--fill-color);\n",
              "      border-top-color: var(--fill-color);\n",
              "      border-right-color: var(--fill-color);\n",
              "    }\n",
              "    40% {\n",
              "      border-color: transparent;\n",
              "      border-right-color: var(--fill-color);\n",
              "      border-top-color: var(--fill-color);\n",
              "    }\n",
              "    60% {\n",
              "      border-color: transparent;\n",
              "      border-right-color: var(--fill-color);\n",
              "    }\n",
              "    80% {\n",
              "      border-color: transparent;\n",
              "      border-right-color: var(--fill-color);\n",
              "      border-bottom-color: var(--fill-color);\n",
              "    }\n",
              "    90% {\n",
              "      border-color: transparent;\n",
              "      border-bottom-color: var(--fill-color);\n",
              "    }\n",
              "  }\n",
              "</style>\n",
              "\n",
              "  <script>\n",
              "    async function quickchart(key) {\n",
              "      const quickchartButtonEl =\n",
              "        document.querySelector('#' + key + ' button');\n",
              "      quickchartButtonEl.disabled = true;  // To prevent multiple clicks.\n",
              "      quickchartButtonEl.classList.add('colab-df-spinner');\n",
              "      try {\n",
              "        const charts = await google.colab.kernel.invokeFunction(\n",
              "            'suggestCharts', [key], {});\n",
              "      } catch (error) {\n",
              "        console.error('Error during call to suggestCharts:', error);\n",
              "      }\n",
              "      quickchartButtonEl.classList.remove('colab-df-spinner');\n",
              "      quickchartButtonEl.classList.add('colab-df-quickchart-complete');\n",
              "    }\n",
              "    (() => {\n",
              "      let quickchartButtonEl =\n",
              "        document.querySelector('#df-2b3b73a3-cd1e-48e0-bb4f-07aad22f4a9c button');\n",
              "      quickchartButtonEl.style.display =\n",
              "        google.colab.kernel.accessAllowed ? 'block' : 'none';\n",
              "    })();\n",
              "  </script>\n",
              "</div>\n",
              "\n",
              "    </div>\n",
              "  </div>\n"
            ],
            "application/vnd.google.colaboratory.intrinsic+json": {
              "type": "dataframe",
              "variable_name": "data"
            }
          },
          "metadata": {},
          "execution_count": 12
        }
      ],
      "source": [
        "min_value = data['RATIO_TO_MEDIAN_PURCHASE_PRICE'].min()\n",
        "max_value = data['RATIO_TO_MEDIAN_PURCHASE_PRICE'].max()\n",
        "data['RATIO_NORMALIZED'] = (data['RATIO_TO_MEDIAN_PURCHASE_PRICE'] - min_value) / (max_value - min_value)\n",
        "\n",
        "data.head(5)"
      ]
    },
    {
      "cell_type": "markdown",
      "id": "126fa8df",
      "metadata": {
        "papermill": {
          "duration": 0.010519,
          "end_time": "2024-05-12T01:27:45.955228",
          "exception": false,
          "start_time": "2024-05-12T01:27:45.944709",
          "status": "completed"
        },
        "tags": [],
        "id": "126fa8df"
      },
      "source": [
        "### Normalize the 'DISTANCE_FROM_HOME' feature"
      ]
    },
    {
      "cell_type": "code",
      "execution_count": 13,
      "id": "e48ca58c",
      "metadata": {
        "execution": {
          "iopub.execute_input": "2024-05-12T01:27:45.980243Z",
          "iopub.status.busy": "2024-05-12T01:27:45.979373Z",
          "iopub.status.idle": "2024-05-12T01:27:46.109901Z",
          "shell.execute_reply": "2024-05-12T01:27:46.109073Z"
        },
        "papermill": {
          "duration": 0.144848,
          "end_time": "2024-05-12T01:27:46.111921",
          "exception": false,
          "start_time": "2024-05-12T01:27:45.967073",
          "status": "completed"
        },
        "tags": [],
        "id": "e48ca58c"
      },
      "outputs": [],
      "source": [
        "data['DISTANCE_NORMALIZED'] = (data['DISTANCE_FROM_HOME'] - data['DISTANCE_FROM_HOME'].mean()) / data['DISTANCE_FROM_HOME'].std()\n",
        "\n",
        "# Define bin edges based on quartiles\n",
        "bin_edges = [data['DISTANCE_NORMALIZED'].min(), data['DISTANCE_NORMALIZED'].quantile(0.25), data['DISTANCE_NORMALIZED'].quantile(0.5), data['DISTANCE_NORMALIZED'].quantile(0.75), data['DISTANCE_NORMALIZED'].max()]\n",
        "\n",
        "# Bin the data\n",
        "data['DISTANCE_CATEGORY'] = pd.cut(data['DISTANCE_NORMALIZED'], bins=bin_edges, labels=False)\n",
        "\n",
        "# Create binary indicators for the bins\n",
        "data['DISTANCE_NEAR'] = (data['DISTANCE_CATEGORY'] == 0).astype(int)\n",
        "data['DISTANCE_MEDIUM'] = (data['DISTANCE_CATEGORY'] == 1).astype(int)\n",
        "data['DISTANCE_FAR'] = (data['DISTANCE_CATEGORY'] == 2).astype(int)\n",
        "data['DISTANCE_VERY_FAR'] = (data['DISTANCE_CATEGORY'] == 3).astype(int)\n",
        "\n",
        "# Drop the intermediate columns as required needed anymore\n",
        "data.drop(columns=['DISTANCE_NORMALIZED', 'DISTANCE_CATEGORY'], inplace=True)"
      ]
    },
    {
      "cell_type": "markdown",
      "id": "6664f533",
      "metadata": {
        "papermill": {
          "duration": 0.010498,
          "end_time": "2024-05-12T01:27:46.133715",
          "exception": false,
          "start_time": "2024-05-12T01:27:46.123217",
          "status": "completed"
        },
        "tags": [],
        "id": "6664f533"
      },
      "source": [
        "### Rename the column 'RATIO_NORMALIZED' to 'RATIO_TO_MEDIAN_PURCHASE_NORMALIZED'"
      ]
    },
    {
      "cell_type": "code",
      "execution_count": 14,
      "id": "671e9cfb",
      "metadata": {
        "execution": {
          "iopub.execute_input": "2024-05-12T01:27:46.156643Z",
          "iopub.status.busy": "2024-05-12T01:27:46.156298Z",
          "iopub.status.idle": "2024-05-12T01:27:46.196419Z",
          "shell.execute_reply": "2024-05-12T01:27:46.195630Z"
        },
        "papermill": {
          "duration": 0.05381,
          "end_time": "2024-05-12T01:27:46.198076",
          "exception": false,
          "start_time": "2024-05-12T01:27:46.144266",
          "status": "completed"
        },
        "tags": [],
        "colab": {
          "base_uri": "https://localhost:8080/",
          "height": 226
        },
        "id": "671e9cfb",
        "outputId": "d01a972b-c572-4293-ca01-5deb49a1425b"
      },
      "outputs": [
        {
          "output_type": "execute_result",
          "data": {
            "text/plain": [
              "   DISTANCE_FROM_HOME  DISTANCE_FROM_LAST_TRANSACTION  DISTANCE_RATIO  \\\n",
              "0           57.877857                        0.311140      186.018690   \n",
              "1           10.829943                        0.175592       61.676918   \n",
              "2            5.091079                        0.805153        6.323124   \n",
              "3            2.247564                        5.600044        0.401348   \n",
              "4           44.190936                        0.566486       78.008839   \n",
              "\n",
              "   RATIO_TO_MEDIAN_PURCHASE_PRICE  REPEAT_RETAILER  USED_CHIP  \\\n",
              "0                        1.945940              1.0        1.0   \n",
              "1                        1.294219              1.0        0.0   \n",
              "2                        0.427715              1.0        0.0   \n",
              "3                        0.362663              1.0        1.0   \n",
              "4                        2.222767              1.0        1.0   \n",
              "\n",
              "   USED_PIN_NUMBER  ONLINE_ORDER  RATIO_TO_MEDIAN_PURCHASE_NORMALIZED  \\\n",
              "0              0.0           0.0                             0.007250   \n",
              "1              0.0           0.0                             0.004816   \n",
              "2              0.0           1.0                             0.001581   \n",
              "3              0.0           1.0                             0.001338   \n",
              "4              0.0           1.0                             0.008284   \n",
              "\n",
              "   DISTANCE_NEAR  DISTANCE_MEDIUM  DISTANCE_FAR  DISTANCE_VERY_FAR  FRAUD  \n",
              "0              0                0             0                  1    0.0  \n",
              "1              0                0             1                  0    0.0  \n",
              "2              0                1             0                  0    0.0  \n",
              "3              1                0             0                  0    0.0  \n",
              "4              0                0             0                  1    0.0  "
            ],
            "text/html": [
              "\n",
              "  <div id=\"df-2af6d281-9e9e-4583-94e8-03aedcb03da0\" class=\"colab-df-container\">\n",
              "    <div>\n",
              "<style scoped>\n",
              "    .dataframe tbody tr th:only-of-type {\n",
              "        vertical-align: middle;\n",
              "    }\n",
              "\n",
              "    .dataframe tbody tr th {\n",
              "        vertical-align: top;\n",
              "    }\n",
              "\n",
              "    .dataframe thead th {\n",
              "        text-align: right;\n",
              "    }\n",
              "</style>\n",
              "<table border=\"1\" class=\"dataframe\">\n",
              "  <thead>\n",
              "    <tr style=\"text-align: right;\">\n",
              "      <th></th>\n",
              "      <th>DISTANCE_FROM_HOME</th>\n",
              "      <th>DISTANCE_FROM_LAST_TRANSACTION</th>\n",
              "      <th>DISTANCE_RATIO</th>\n",
              "      <th>RATIO_TO_MEDIAN_PURCHASE_PRICE</th>\n",
              "      <th>REPEAT_RETAILER</th>\n",
              "      <th>USED_CHIP</th>\n",
              "      <th>USED_PIN_NUMBER</th>\n",
              "      <th>ONLINE_ORDER</th>\n",
              "      <th>RATIO_TO_MEDIAN_PURCHASE_NORMALIZED</th>\n",
              "      <th>DISTANCE_NEAR</th>\n",
              "      <th>DISTANCE_MEDIUM</th>\n",
              "      <th>DISTANCE_FAR</th>\n",
              "      <th>DISTANCE_VERY_FAR</th>\n",
              "      <th>FRAUD</th>\n",
              "    </tr>\n",
              "  </thead>\n",
              "  <tbody>\n",
              "    <tr>\n",
              "      <th>0</th>\n",
              "      <td>57.877857</td>\n",
              "      <td>0.311140</td>\n",
              "      <td>186.018690</td>\n",
              "      <td>1.945940</td>\n",
              "      <td>1.0</td>\n",
              "      <td>1.0</td>\n",
              "      <td>0.0</td>\n",
              "      <td>0.0</td>\n",
              "      <td>0.007250</td>\n",
              "      <td>0</td>\n",
              "      <td>0</td>\n",
              "      <td>0</td>\n",
              "      <td>1</td>\n",
              "      <td>0.0</td>\n",
              "    </tr>\n",
              "    <tr>\n",
              "      <th>1</th>\n",
              "      <td>10.829943</td>\n",
              "      <td>0.175592</td>\n",
              "      <td>61.676918</td>\n",
              "      <td>1.294219</td>\n",
              "      <td>1.0</td>\n",
              "      <td>0.0</td>\n",
              "      <td>0.0</td>\n",
              "      <td>0.0</td>\n",
              "      <td>0.004816</td>\n",
              "      <td>0</td>\n",
              "      <td>0</td>\n",
              "      <td>1</td>\n",
              "      <td>0</td>\n",
              "      <td>0.0</td>\n",
              "    </tr>\n",
              "    <tr>\n",
              "      <th>2</th>\n",
              "      <td>5.091079</td>\n",
              "      <td>0.805153</td>\n",
              "      <td>6.323124</td>\n",
              "      <td>0.427715</td>\n",
              "      <td>1.0</td>\n",
              "      <td>0.0</td>\n",
              "      <td>0.0</td>\n",
              "      <td>1.0</td>\n",
              "      <td>0.001581</td>\n",
              "      <td>0</td>\n",
              "      <td>1</td>\n",
              "      <td>0</td>\n",
              "      <td>0</td>\n",
              "      <td>0.0</td>\n",
              "    </tr>\n",
              "    <tr>\n",
              "      <th>3</th>\n",
              "      <td>2.247564</td>\n",
              "      <td>5.600044</td>\n",
              "      <td>0.401348</td>\n",
              "      <td>0.362663</td>\n",
              "      <td>1.0</td>\n",
              "      <td>1.0</td>\n",
              "      <td>0.0</td>\n",
              "      <td>1.0</td>\n",
              "      <td>0.001338</td>\n",
              "      <td>1</td>\n",
              "      <td>0</td>\n",
              "      <td>0</td>\n",
              "      <td>0</td>\n",
              "      <td>0.0</td>\n",
              "    </tr>\n",
              "    <tr>\n",
              "      <th>4</th>\n",
              "      <td>44.190936</td>\n",
              "      <td>0.566486</td>\n",
              "      <td>78.008839</td>\n",
              "      <td>2.222767</td>\n",
              "      <td>1.0</td>\n",
              "      <td>1.0</td>\n",
              "      <td>0.0</td>\n",
              "      <td>1.0</td>\n",
              "      <td>0.008284</td>\n",
              "      <td>0</td>\n",
              "      <td>0</td>\n",
              "      <td>0</td>\n",
              "      <td>1</td>\n",
              "      <td>0.0</td>\n",
              "    </tr>\n",
              "  </tbody>\n",
              "</table>\n",
              "</div>\n",
              "    <div class=\"colab-df-buttons\">\n",
              "\n",
              "  <div class=\"colab-df-container\">\n",
              "    <button class=\"colab-df-convert\" onclick=\"convertToInteractive('df-2af6d281-9e9e-4583-94e8-03aedcb03da0')\"\n",
              "            title=\"Convert this dataframe to an interactive table.\"\n",
              "            style=\"display:none;\">\n",
              "\n",
              "  <svg xmlns=\"http://www.w3.org/2000/svg\" height=\"24px\" viewBox=\"0 -960 960 960\">\n",
              "    <path d=\"M120-120v-720h720v720H120Zm60-500h600v-160H180v160Zm220 220h160v-160H400v160Zm0 220h160v-160H400v160ZM180-400h160v-160H180v160Zm440 0h160v-160H620v160ZM180-180h160v-160H180v160Zm440 0h160v-160H620v160Z\"/>\n",
              "  </svg>\n",
              "    </button>\n",
              "\n",
              "  <style>\n",
              "    .colab-df-container {\n",
              "      display:flex;\n",
              "      gap: 12px;\n",
              "    }\n",
              "\n",
              "    .colab-df-convert {\n",
              "      background-color: #E8F0FE;\n",
              "      border: none;\n",
              "      border-radius: 50%;\n",
              "      cursor: pointer;\n",
              "      display: none;\n",
              "      fill: #1967D2;\n",
              "      height: 32px;\n",
              "      padding: 0 0 0 0;\n",
              "      width: 32px;\n",
              "    }\n",
              "\n",
              "    .colab-df-convert:hover {\n",
              "      background-color: #E2EBFA;\n",
              "      box-shadow: 0px 1px 2px rgba(60, 64, 67, 0.3), 0px 1px 3px 1px rgba(60, 64, 67, 0.15);\n",
              "      fill: #174EA6;\n",
              "    }\n",
              "\n",
              "    .colab-df-buttons div {\n",
              "      margin-bottom: 4px;\n",
              "    }\n",
              "\n",
              "    [theme=dark] .colab-df-convert {\n",
              "      background-color: #3B4455;\n",
              "      fill: #D2E3FC;\n",
              "    }\n",
              "\n",
              "    [theme=dark] .colab-df-convert:hover {\n",
              "      background-color: #434B5C;\n",
              "      box-shadow: 0px 1px 3px 1px rgba(0, 0, 0, 0.15);\n",
              "      filter: drop-shadow(0px 1px 2px rgba(0, 0, 0, 0.3));\n",
              "      fill: #FFFFFF;\n",
              "    }\n",
              "  </style>\n",
              "\n",
              "    <script>\n",
              "      const buttonEl =\n",
              "        document.querySelector('#df-2af6d281-9e9e-4583-94e8-03aedcb03da0 button.colab-df-convert');\n",
              "      buttonEl.style.display =\n",
              "        google.colab.kernel.accessAllowed ? 'block' : 'none';\n",
              "\n",
              "      async function convertToInteractive(key) {\n",
              "        const element = document.querySelector('#df-2af6d281-9e9e-4583-94e8-03aedcb03da0');\n",
              "        const dataTable =\n",
              "          await google.colab.kernel.invokeFunction('convertToInteractive',\n",
              "                                                    [key], {});\n",
              "        if (!dataTable) return;\n",
              "\n",
              "        const docLinkHtml = 'Like what you see? Visit the ' +\n",
              "          '<a target=\"_blank\" href=https://colab.research.google.com/notebooks/data_table.ipynb>data table notebook</a>'\n",
              "          + ' to learn more about interactive tables.';\n",
              "        element.innerHTML = '';\n",
              "        dataTable['output_type'] = 'display_data';\n",
              "        await google.colab.output.renderOutput(dataTable, element);\n",
              "        const docLink = document.createElement('div');\n",
              "        docLink.innerHTML = docLinkHtml;\n",
              "        element.appendChild(docLink);\n",
              "      }\n",
              "    </script>\n",
              "  </div>\n",
              "\n",
              "\n",
              "<div id=\"df-83e0ed2d-61d8-4406-94c2-c4f011561a71\">\n",
              "  <button class=\"colab-df-quickchart\" onclick=\"quickchart('df-83e0ed2d-61d8-4406-94c2-c4f011561a71')\"\n",
              "            title=\"Suggest charts\"\n",
              "            style=\"display:none;\">\n",
              "\n",
              "<svg xmlns=\"http://www.w3.org/2000/svg\" height=\"24px\"viewBox=\"0 0 24 24\"\n",
              "     width=\"24px\">\n",
              "    <g>\n",
              "        <path d=\"M19 3H5c-1.1 0-2 .9-2 2v14c0 1.1.9 2 2 2h14c1.1 0 2-.9 2-2V5c0-1.1-.9-2-2-2zM9 17H7v-7h2v7zm4 0h-2V7h2v10zm4 0h-2v-4h2v4z\"/>\n",
              "    </g>\n",
              "</svg>\n",
              "  </button>\n",
              "\n",
              "<style>\n",
              "  .colab-df-quickchart {\n",
              "      --bg-color: #E8F0FE;\n",
              "      --fill-color: #1967D2;\n",
              "      --hover-bg-color: #E2EBFA;\n",
              "      --hover-fill-color: #174EA6;\n",
              "      --disabled-fill-color: #AAA;\n",
              "      --disabled-bg-color: #DDD;\n",
              "  }\n",
              "\n",
              "  [theme=dark] .colab-df-quickchart {\n",
              "      --bg-color: #3B4455;\n",
              "      --fill-color: #D2E3FC;\n",
              "      --hover-bg-color: #434B5C;\n",
              "      --hover-fill-color: #FFFFFF;\n",
              "      --disabled-bg-color: #3B4455;\n",
              "      --disabled-fill-color: #666;\n",
              "  }\n",
              "\n",
              "  .colab-df-quickchart {\n",
              "    background-color: var(--bg-color);\n",
              "    border: none;\n",
              "    border-radius: 50%;\n",
              "    cursor: pointer;\n",
              "    display: none;\n",
              "    fill: var(--fill-color);\n",
              "    height: 32px;\n",
              "    padding: 0;\n",
              "    width: 32px;\n",
              "  }\n",
              "\n",
              "  .colab-df-quickchart:hover {\n",
              "    background-color: var(--hover-bg-color);\n",
              "    box-shadow: 0 1px 2px rgba(60, 64, 67, 0.3), 0 1px 3px 1px rgba(60, 64, 67, 0.15);\n",
              "    fill: var(--button-hover-fill-color);\n",
              "  }\n",
              "\n",
              "  .colab-df-quickchart-complete:disabled,\n",
              "  .colab-df-quickchart-complete:disabled:hover {\n",
              "    background-color: var(--disabled-bg-color);\n",
              "    fill: var(--disabled-fill-color);\n",
              "    box-shadow: none;\n",
              "  }\n",
              "\n",
              "  .colab-df-spinner {\n",
              "    border: 2px solid var(--fill-color);\n",
              "    border-color: transparent;\n",
              "    border-bottom-color: var(--fill-color);\n",
              "    animation:\n",
              "      spin 1s steps(1) infinite;\n",
              "  }\n",
              "\n",
              "  @keyframes spin {\n",
              "    0% {\n",
              "      border-color: transparent;\n",
              "      border-bottom-color: var(--fill-color);\n",
              "      border-left-color: var(--fill-color);\n",
              "    }\n",
              "    20% {\n",
              "      border-color: transparent;\n",
              "      border-left-color: var(--fill-color);\n",
              "      border-top-color: var(--fill-color);\n",
              "    }\n",
              "    30% {\n",
              "      border-color: transparent;\n",
              "      border-left-color: var(--fill-color);\n",
              "      border-top-color: var(--fill-color);\n",
              "      border-right-color: var(--fill-color);\n",
              "    }\n",
              "    40% {\n",
              "      border-color: transparent;\n",
              "      border-right-color: var(--fill-color);\n",
              "      border-top-color: var(--fill-color);\n",
              "    }\n",
              "    60% {\n",
              "      border-color: transparent;\n",
              "      border-right-color: var(--fill-color);\n",
              "    }\n",
              "    80% {\n",
              "      border-color: transparent;\n",
              "      border-right-color: var(--fill-color);\n",
              "      border-bottom-color: var(--fill-color);\n",
              "    }\n",
              "    90% {\n",
              "      border-color: transparent;\n",
              "      border-bottom-color: var(--fill-color);\n",
              "    }\n",
              "  }\n",
              "</style>\n",
              "\n",
              "  <script>\n",
              "    async function quickchart(key) {\n",
              "      const quickchartButtonEl =\n",
              "        document.querySelector('#' + key + ' button');\n",
              "      quickchartButtonEl.disabled = true;  // To prevent multiple clicks.\n",
              "      quickchartButtonEl.classList.add('colab-df-spinner');\n",
              "      try {\n",
              "        const charts = await google.colab.kernel.invokeFunction(\n",
              "            'suggestCharts', [key], {});\n",
              "      } catch (error) {\n",
              "        console.error('Error during call to suggestCharts:', error);\n",
              "      }\n",
              "      quickchartButtonEl.classList.remove('colab-df-spinner');\n",
              "      quickchartButtonEl.classList.add('colab-df-quickchart-complete');\n",
              "    }\n",
              "    (() => {\n",
              "      let quickchartButtonEl =\n",
              "        document.querySelector('#df-83e0ed2d-61d8-4406-94c2-c4f011561a71 button');\n",
              "      quickchartButtonEl.style.display =\n",
              "        google.colab.kernel.accessAllowed ? 'block' : 'none';\n",
              "    })();\n",
              "  </script>\n",
              "</div>\n",
              "\n",
              "    </div>\n",
              "  </div>\n"
            ],
            "application/vnd.google.colaboratory.intrinsic+json": {
              "type": "dataframe",
              "variable_name": "data"
            }
          },
          "metadata": {},
          "execution_count": 14
        }
      ],
      "source": [
        "data.rename(columns={'RATIO_NORMALIZED': 'RATIO_TO_MEDIAN_PURCHASE_NORMALIZED'}, inplace=True)\n",
        "\n",
        "# Move the target variable 'FRAUD' to the last position of the columns\n",
        "fraud_column = data.pop('FRAUD')  # Remove 'FRAUD' column and store it\n",
        "data['FRAUD'] = fraud_column  # Add 'FRAUD' column to the end of the DataFrame\n",
        "\n",
        "# Get the current column order\n",
        "current_columns = data.columns.tolist()\n",
        "\n",
        "# Reorder the columns\n",
        "desired_columns_order = ['DISTANCE_FROM_HOME', 'DISTANCE_FROM_LAST_TRANSACTION', 'DISTANCE_RATIO'] + [col for col in current_columns if col not in ['DISTANCE_FROM_HOME', 'DISTANCE_FROM_LAST_TRANSACTION', 'DISTANCE_RATIO']]\n",
        "data = data[desired_columns_order]\n",
        "\n",
        "data.head(5)"
      ]
    },
    {
      "cell_type": "markdown",
      "id": "efc423e9",
      "metadata": {
        "papermill": {
          "duration": 0.012736,
          "end_time": "2024-05-12T01:27:46.222657",
          "exception": false,
          "start_time": "2024-05-12T01:27:46.209921",
          "status": "completed"
        },
        "tags": [],
        "id": "efc423e9"
      },
      "source": [
        "### Data exploration"
      ]
    },
    {
      "cell_type": "code",
      "execution_count": 15,
      "id": "a2f8178d",
      "metadata": {
        "execution": {
          "iopub.execute_input": "2024-05-12T01:27:46.285866Z",
          "iopub.status.busy": "2024-05-12T01:27:46.285553Z",
          "iopub.status.idle": "2024-05-12T01:27:46.301736Z",
          "shell.execute_reply": "2024-05-12T01:27:46.300867Z"
        },
        "papermill": {
          "duration": 0.029863,
          "end_time": "2024-05-12T01:27:46.303307",
          "exception": false,
          "start_time": "2024-05-12T01:27:46.273444",
          "status": "completed"
        },
        "tags": [],
        "colab": {
          "base_uri": "https://localhost:8080/"
        },
        "id": "a2f8178d",
        "outputId": "9e9ccf2c-0332-4615-f8b5-3a5e73af3064"
      },
      "outputs": [
        {
          "output_type": "stream",
          "name": "stdout",
          "text": [
            "Number of fraudulent transactions (FRAUD = 1): 87403\n",
            "Number of non-fraudulent transactions (FRAUD = 0): 912597\n",
            "\n",
            "Percentage of fraudulent transactions: 9.58%\n"
          ]
        }
      ],
      "source": [
        "# Count the values of 0 and 1 in the 'FRAUD' column\n",
        "fraud_counts = data['FRAUD'].value_counts()\n",
        "\n",
        "# Calculate the percentage of fraudulent transactions\n",
        "fraud_ratio = fraud_counts[1] / fraud_counts[0] * 100\n",
        "\n",
        "# Display the results\n",
        "print(\"Number of fraudulent transactions (FRAUD = 1):\", fraud_counts[1])\n",
        "print(\"Number of non-fraudulent transactions (FRAUD = 0):\", fraud_counts[0])\n",
        "print(\"\\nPercentage of fraudulent transactions: {:.2f}%\".format(fraud_ratio))"
      ]
    },
    {
      "cell_type": "code",
      "execution_count": 16,
      "id": "78c515e4",
      "metadata": {
        "execution": {
          "iopub.execute_input": "2024-05-12T01:27:46.327065Z",
          "iopub.status.busy": "2024-05-12T01:27:46.326762Z",
          "iopub.status.idle": "2024-05-12T01:27:46.366582Z",
          "shell.execute_reply": "2024-05-12T01:27:46.365479Z"
        },
        "papermill": {
          "duration": 0.053974,
          "end_time": "2024-05-12T01:27:46.368408",
          "exception": false,
          "start_time": "2024-05-12T01:27:46.314434",
          "status": "completed"
        },
        "tags": [],
        "colab": {
          "base_uri": "https://localhost:8080/"
        },
        "id": "78c515e4",
        "outputId": "0b756010-0e4a-4b21-b640-c039f92752a8"
      },
      "outputs": [
        {
          "output_type": "stream",
          "name": "stdout",
          "text": [
            "Number of fraudulent transactions (FRAUD = 1): 4309\n",
            "Number of non-fraudulent transactions (FRAUD = 0): 45691\n",
            "\n",
            "Percentage of fraudulent transactions in the subset: 9.43%\n"
          ]
        }
      ],
      "source": [
        "# Set a random seed for reproducibility\n",
        "np.random.seed(42)\n",
        "\n",
        "# Create a subset of the dataset with 50,000 randomly selected datapoints\n",
        "subset_data = data.sample(n=50000)\n",
        "\n",
        "# Count the values of 0 and 1 in the 'FRAUD' column for the subset\n",
        "subset_fraud_counts = subset_data['FRAUD'].value_counts()\n",
        "\n",
        "# Calculate the percentage of fraudulent transactions for the subset\n",
        "subset_ratio = (subset_fraud_counts[1] / subset_fraud_counts[0]) * 100\n",
        "\n",
        "# Display the results\n",
        "print(\"Number of fraudulent transactions (FRAUD = 1):\", subset_fraud_counts[1])\n",
        "print(\"Number of non-fraudulent transactions (FRAUD = 0):\", subset_fraud_counts[0])\n",
        "print(\"\\nPercentage of fraudulent transactions in the subset: {:.2f}%\".format(subset_ratio))"
      ]
    },
    {
      "cell_type": "code",
      "execution_count": 17,
      "id": "c788b795",
      "metadata": {
        "execution": {
          "iopub.execute_input": "2024-05-12T01:27:46.392093Z",
          "iopub.status.busy": "2024-05-12T01:27:46.391776Z",
          "iopub.status.idle": "2024-05-12T01:27:46.441616Z",
          "shell.execute_reply": "2024-05-12T01:27:46.440824Z"
        },
        "jupyter": {
          "source_hidden": true
        },
        "papermill": {
          "duration": 0.063442,
          "end_time": "2024-05-12T01:27:46.443240",
          "exception": false,
          "start_time": "2024-05-12T01:27:46.379798",
          "status": "completed"
        },
        "tags": [],
        "colab": {
          "base_uri": "https://localhost:8080/",
          "height": 320
        },
        "id": "c788b795",
        "outputId": "a5b64e46-7df9-4a9e-828c-d4fbe1d876c9"
      },
      "outputs": [
        {
          "output_type": "execute_result",
          "data": {
            "text/plain": [
              "       DISTANCE_FROM_HOME  DISTANCE_FROM_LAST_TRANSACTION  DISTANCE_RATIO  \\\n",
              "count        50000.000000                    50000.000000    50000.000000   \n",
              "mean            26.549348                        5.220660      130.443990   \n",
              "std             78.627567                       22.001490     1243.645400   \n",
              "min              0.024144                        0.000539        0.000417   \n",
              "25%              3.858004                        0.300434        2.070775   \n",
              "50%              9.907588                        1.018955        9.732563   \n",
              "75%             25.626905                        3.379200       45.739591   \n",
              "max          10632.723672                     1400.098234   138559.932816   \n",
              "\n",
              "       RATIO_TO_MEDIAN_PURCHASE_PRICE  REPEAT_RETAILER    USED_CHIP  \\\n",
              "count                    50000.000000     50000.000000  50000.00000   \n",
              "mean                         1.811345         0.881340      0.35056   \n",
              "std                          2.818171         0.323391      0.47715   \n",
              "min                          0.006125         0.000000      0.00000   \n",
              "25%                          0.472395         1.000000      0.00000   \n",
              "50%                          0.990188         1.000000      0.00000   \n",
              "75%                          2.070817         1.000000      1.00000   \n",
              "max                         99.942349         1.000000      1.00000   \n",
              "\n",
              "       USED_PIN_NUMBER  ONLINE_ORDER  RATIO_TO_MEDIAN_PURCHASE_NORMALIZED  \\\n",
              "count     50000.000000  50000.000000                         50000.000000   \n",
              "mean          0.100060      0.651740                             0.006747   \n",
              "std           0.300083      0.476424                             0.010523   \n",
              "min           0.000000      0.000000                             0.000006   \n",
              "25%           0.000000      0.000000                             0.001748   \n",
              "50%           0.000000      1.000000                             0.003681   \n",
              "75%           0.000000      1.000000                             0.007716   \n",
              "max           1.000000      1.000000                             0.373183   \n",
              "\n",
              "       DISTANCE_NEAR  DISTANCE_MEDIUM  DISTANCE_FAR  DISTANCE_VERY_FAR  \\\n",
              "count   50000.000000     50000.000000  50000.000000        50000.00000   \n",
              "mean        0.251260         0.250720      0.249120            0.24890   \n",
              "std         0.433742         0.433432      0.432508            0.43238   \n",
              "min         0.000000         0.000000      0.000000            0.00000   \n",
              "25%         0.000000         0.000000      0.000000            0.00000   \n",
              "50%         0.000000         0.000000      0.000000            0.00000   \n",
              "75%         1.000000         1.000000      0.000000            0.00000   \n",
              "max         1.000000         1.000000      1.000000            1.00000   \n",
              "\n",
              "              FRAUD  \n",
              "count  50000.000000  \n",
              "mean       0.086180  \n",
              "std        0.280632  \n",
              "min        0.000000  \n",
              "25%        0.000000  \n",
              "50%        0.000000  \n",
              "75%        0.000000  \n",
              "max        1.000000  "
            ],
            "text/html": [
              "\n",
              "  <div id=\"df-b0a335cf-2d00-40f4-a1ee-34736fd3ac0e\" class=\"colab-df-container\">\n",
              "    <div>\n",
              "<style scoped>\n",
              "    .dataframe tbody tr th:only-of-type {\n",
              "        vertical-align: middle;\n",
              "    }\n",
              "\n",
              "    .dataframe tbody tr th {\n",
              "        vertical-align: top;\n",
              "    }\n",
              "\n",
              "    .dataframe thead th {\n",
              "        text-align: right;\n",
              "    }\n",
              "</style>\n",
              "<table border=\"1\" class=\"dataframe\">\n",
              "  <thead>\n",
              "    <tr style=\"text-align: right;\">\n",
              "      <th></th>\n",
              "      <th>DISTANCE_FROM_HOME</th>\n",
              "      <th>DISTANCE_FROM_LAST_TRANSACTION</th>\n",
              "      <th>DISTANCE_RATIO</th>\n",
              "      <th>RATIO_TO_MEDIAN_PURCHASE_PRICE</th>\n",
              "      <th>REPEAT_RETAILER</th>\n",
              "      <th>USED_CHIP</th>\n",
              "      <th>USED_PIN_NUMBER</th>\n",
              "      <th>ONLINE_ORDER</th>\n",
              "      <th>RATIO_TO_MEDIAN_PURCHASE_NORMALIZED</th>\n",
              "      <th>DISTANCE_NEAR</th>\n",
              "      <th>DISTANCE_MEDIUM</th>\n",
              "      <th>DISTANCE_FAR</th>\n",
              "      <th>DISTANCE_VERY_FAR</th>\n",
              "      <th>FRAUD</th>\n",
              "    </tr>\n",
              "  </thead>\n",
              "  <tbody>\n",
              "    <tr>\n",
              "      <th>count</th>\n",
              "      <td>50000.000000</td>\n",
              "      <td>50000.000000</td>\n",
              "      <td>50000.000000</td>\n",
              "      <td>50000.000000</td>\n",
              "      <td>50000.000000</td>\n",
              "      <td>50000.00000</td>\n",
              "      <td>50000.000000</td>\n",
              "      <td>50000.000000</td>\n",
              "      <td>50000.000000</td>\n",
              "      <td>50000.000000</td>\n",
              "      <td>50000.000000</td>\n",
              "      <td>50000.000000</td>\n",
              "      <td>50000.00000</td>\n",
              "      <td>50000.000000</td>\n",
              "    </tr>\n",
              "    <tr>\n",
              "      <th>mean</th>\n",
              "      <td>26.549348</td>\n",
              "      <td>5.220660</td>\n",
              "      <td>130.443990</td>\n",
              "      <td>1.811345</td>\n",
              "      <td>0.881340</td>\n",
              "      <td>0.35056</td>\n",
              "      <td>0.100060</td>\n",
              "      <td>0.651740</td>\n",
              "      <td>0.006747</td>\n",
              "      <td>0.251260</td>\n",
              "      <td>0.250720</td>\n",
              "      <td>0.249120</td>\n",
              "      <td>0.24890</td>\n",
              "      <td>0.086180</td>\n",
              "    </tr>\n",
              "    <tr>\n",
              "      <th>std</th>\n",
              "      <td>78.627567</td>\n",
              "      <td>22.001490</td>\n",
              "      <td>1243.645400</td>\n",
              "      <td>2.818171</td>\n",
              "      <td>0.323391</td>\n",
              "      <td>0.47715</td>\n",
              "      <td>0.300083</td>\n",
              "      <td>0.476424</td>\n",
              "      <td>0.010523</td>\n",
              "      <td>0.433742</td>\n",
              "      <td>0.433432</td>\n",
              "      <td>0.432508</td>\n",
              "      <td>0.43238</td>\n",
              "      <td>0.280632</td>\n",
              "    </tr>\n",
              "    <tr>\n",
              "      <th>min</th>\n",
              "      <td>0.024144</td>\n",
              "      <td>0.000539</td>\n",
              "      <td>0.000417</td>\n",
              "      <td>0.006125</td>\n",
              "      <td>0.000000</td>\n",
              "      <td>0.00000</td>\n",
              "      <td>0.000000</td>\n",
              "      <td>0.000000</td>\n",
              "      <td>0.000006</td>\n",
              "      <td>0.000000</td>\n",
              "      <td>0.000000</td>\n",
              "      <td>0.000000</td>\n",
              "      <td>0.00000</td>\n",
              "      <td>0.000000</td>\n",
              "    </tr>\n",
              "    <tr>\n",
              "      <th>25%</th>\n",
              "      <td>3.858004</td>\n",
              "      <td>0.300434</td>\n",
              "      <td>2.070775</td>\n",
              "      <td>0.472395</td>\n",
              "      <td>1.000000</td>\n",
              "      <td>0.00000</td>\n",
              "      <td>0.000000</td>\n",
              "      <td>0.000000</td>\n",
              "      <td>0.001748</td>\n",
              "      <td>0.000000</td>\n",
              "      <td>0.000000</td>\n",
              "      <td>0.000000</td>\n",
              "      <td>0.00000</td>\n",
              "      <td>0.000000</td>\n",
              "    </tr>\n",
              "    <tr>\n",
              "      <th>50%</th>\n",
              "      <td>9.907588</td>\n",
              "      <td>1.018955</td>\n",
              "      <td>9.732563</td>\n",
              "      <td>0.990188</td>\n",
              "      <td>1.000000</td>\n",
              "      <td>0.00000</td>\n",
              "      <td>0.000000</td>\n",
              "      <td>1.000000</td>\n",
              "      <td>0.003681</td>\n",
              "      <td>0.000000</td>\n",
              "      <td>0.000000</td>\n",
              "      <td>0.000000</td>\n",
              "      <td>0.00000</td>\n",
              "      <td>0.000000</td>\n",
              "    </tr>\n",
              "    <tr>\n",
              "      <th>75%</th>\n",
              "      <td>25.626905</td>\n",
              "      <td>3.379200</td>\n",
              "      <td>45.739591</td>\n",
              "      <td>2.070817</td>\n",
              "      <td>1.000000</td>\n",
              "      <td>1.00000</td>\n",
              "      <td>0.000000</td>\n",
              "      <td>1.000000</td>\n",
              "      <td>0.007716</td>\n",
              "      <td>1.000000</td>\n",
              "      <td>1.000000</td>\n",
              "      <td>0.000000</td>\n",
              "      <td>0.00000</td>\n",
              "      <td>0.000000</td>\n",
              "    </tr>\n",
              "    <tr>\n",
              "      <th>max</th>\n",
              "      <td>10632.723672</td>\n",
              "      <td>1400.098234</td>\n",
              "      <td>138559.932816</td>\n",
              "      <td>99.942349</td>\n",
              "      <td>1.000000</td>\n",
              "      <td>1.00000</td>\n",
              "      <td>1.000000</td>\n",
              "      <td>1.000000</td>\n",
              "      <td>0.373183</td>\n",
              "      <td>1.000000</td>\n",
              "      <td>1.000000</td>\n",
              "      <td>1.000000</td>\n",
              "      <td>1.00000</td>\n",
              "      <td>1.000000</td>\n",
              "    </tr>\n",
              "  </tbody>\n",
              "</table>\n",
              "</div>\n",
              "    <div class=\"colab-df-buttons\">\n",
              "\n",
              "  <div class=\"colab-df-container\">\n",
              "    <button class=\"colab-df-convert\" onclick=\"convertToInteractive('df-b0a335cf-2d00-40f4-a1ee-34736fd3ac0e')\"\n",
              "            title=\"Convert this dataframe to an interactive table.\"\n",
              "            style=\"display:none;\">\n",
              "\n",
              "  <svg xmlns=\"http://www.w3.org/2000/svg\" height=\"24px\" viewBox=\"0 -960 960 960\">\n",
              "    <path d=\"M120-120v-720h720v720H120Zm60-500h600v-160H180v160Zm220 220h160v-160H400v160Zm0 220h160v-160H400v160ZM180-400h160v-160H180v160Zm440 0h160v-160H620v160ZM180-180h160v-160H180v160Zm440 0h160v-160H620v160Z\"/>\n",
              "  </svg>\n",
              "    </button>\n",
              "\n",
              "  <style>\n",
              "    .colab-df-container {\n",
              "      display:flex;\n",
              "      gap: 12px;\n",
              "    }\n",
              "\n",
              "    .colab-df-convert {\n",
              "      background-color: #E8F0FE;\n",
              "      border: none;\n",
              "      border-radius: 50%;\n",
              "      cursor: pointer;\n",
              "      display: none;\n",
              "      fill: #1967D2;\n",
              "      height: 32px;\n",
              "      padding: 0 0 0 0;\n",
              "      width: 32px;\n",
              "    }\n",
              "\n",
              "    .colab-df-convert:hover {\n",
              "      background-color: #E2EBFA;\n",
              "      box-shadow: 0px 1px 2px rgba(60, 64, 67, 0.3), 0px 1px 3px 1px rgba(60, 64, 67, 0.15);\n",
              "      fill: #174EA6;\n",
              "    }\n",
              "\n",
              "    .colab-df-buttons div {\n",
              "      margin-bottom: 4px;\n",
              "    }\n",
              "\n",
              "    [theme=dark] .colab-df-convert {\n",
              "      background-color: #3B4455;\n",
              "      fill: #D2E3FC;\n",
              "    }\n",
              "\n",
              "    [theme=dark] .colab-df-convert:hover {\n",
              "      background-color: #434B5C;\n",
              "      box-shadow: 0px 1px 3px 1px rgba(0, 0, 0, 0.15);\n",
              "      filter: drop-shadow(0px 1px 2px rgba(0, 0, 0, 0.3));\n",
              "      fill: #FFFFFF;\n",
              "    }\n",
              "  </style>\n",
              "\n",
              "    <script>\n",
              "      const buttonEl =\n",
              "        document.querySelector('#df-b0a335cf-2d00-40f4-a1ee-34736fd3ac0e button.colab-df-convert');\n",
              "      buttonEl.style.display =\n",
              "        google.colab.kernel.accessAllowed ? 'block' : 'none';\n",
              "\n",
              "      async function convertToInteractive(key) {\n",
              "        const element = document.querySelector('#df-b0a335cf-2d00-40f4-a1ee-34736fd3ac0e');\n",
              "        const dataTable =\n",
              "          await google.colab.kernel.invokeFunction('convertToInteractive',\n",
              "                                                    [key], {});\n",
              "        if (!dataTable) return;\n",
              "\n",
              "        const docLinkHtml = 'Like what you see? Visit the ' +\n",
              "          '<a target=\"_blank\" href=https://colab.research.google.com/notebooks/data_table.ipynb>data table notebook</a>'\n",
              "          + ' to learn more about interactive tables.';\n",
              "        element.innerHTML = '';\n",
              "        dataTable['output_type'] = 'display_data';\n",
              "        await google.colab.output.renderOutput(dataTable, element);\n",
              "        const docLink = document.createElement('div');\n",
              "        docLink.innerHTML = docLinkHtml;\n",
              "        element.appendChild(docLink);\n",
              "      }\n",
              "    </script>\n",
              "  </div>\n",
              "\n",
              "\n",
              "<div id=\"df-33f576b0-7fb7-476f-86f0-9e77982bd896\">\n",
              "  <button class=\"colab-df-quickchart\" onclick=\"quickchart('df-33f576b0-7fb7-476f-86f0-9e77982bd896')\"\n",
              "            title=\"Suggest charts\"\n",
              "            style=\"display:none;\">\n",
              "\n",
              "<svg xmlns=\"http://www.w3.org/2000/svg\" height=\"24px\"viewBox=\"0 0 24 24\"\n",
              "     width=\"24px\">\n",
              "    <g>\n",
              "        <path d=\"M19 3H5c-1.1 0-2 .9-2 2v14c0 1.1.9 2 2 2h14c1.1 0 2-.9 2-2V5c0-1.1-.9-2-2-2zM9 17H7v-7h2v7zm4 0h-2V7h2v10zm4 0h-2v-4h2v4z\"/>\n",
              "    </g>\n",
              "</svg>\n",
              "  </button>\n",
              "\n",
              "<style>\n",
              "  .colab-df-quickchart {\n",
              "      --bg-color: #E8F0FE;\n",
              "      --fill-color: #1967D2;\n",
              "      --hover-bg-color: #E2EBFA;\n",
              "      --hover-fill-color: #174EA6;\n",
              "      --disabled-fill-color: #AAA;\n",
              "      --disabled-bg-color: #DDD;\n",
              "  }\n",
              "\n",
              "  [theme=dark] .colab-df-quickchart {\n",
              "      --bg-color: #3B4455;\n",
              "      --fill-color: #D2E3FC;\n",
              "      --hover-bg-color: #434B5C;\n",
              "      --hover-fill-color: #FFFFFF;\n",
              "      --disabled-bg-color: #3B4455;\n",
              "      --disabled-fill-color: #666;\n",
              "  }\n",
              "\n",
              "  .colab-df-quickchart {\n",
              "    background-color: var(--bg-color);\n",
              "    border: none;\n",
              "    border-radius: 50%;\n",
              "    cursor: pointer;\n",
              "    display: none;\n",
              "    fill: var(--fill-color);\n",
              "    height: 32px;\n",
              "    padding: 0;\n",
              "    width: 32px;\n",
              "  }\n",
              "\n",
              "  .colab-df-quickchart:hover {\n",
              "    background-color: var(--hover-bg-color);\n",
              "    box-shadow: 0 1px 2px rgba(60, 64, 67, 0.3), 0 1px 3px 1px rgba(60, 64, 67, 0.15);\n",
              "    fill: var(--button-hover-fill-color);\n",
              "  }\n",
              "\n",
              "  .colab-df-quickchart-complete:disabled,\n",
              "  .colab-df-quickchart-complete:disabled:hover {\n",
              "    background-color: var(--disabled-bg-color);\n",
              "    fill: var(--disabled-fill-color);\n",
              "    box-shadow: none;\n",
              "  }\n",
              "\n",
              "  .colab-df-spinner {\n",
              "    border: 2px solid var(--fill-color);\n",
              "    border-color: transparent;\n",
              "    border-bottom-color: var(--fill-color);\n",
              "    animation:\n",
              "      spin 1s steps(1) infinite;\n",
              "  }\n",
              "\n",
              "  @keyframes spin {\n",
              "    0% {\n",
              "      border-color: transparent;\n",
              "      border-bottom-color: var(--fill-color);\n",
              "      border-left-color: var(--fill-color);\n",
              "    }\n",
              "    20% {\n",
              "      border-color: transparent;\n",
              "      border-left-color: var(--fill-color);\n",
              "      border-top-color: var(--fill-color);\n",
              "    }\n",
              "    30% {\n",
              "      border-color: transparent;\n",
              "      border-left-color: var(--fill-color);\n",
              "      border-top-color: var(--fill-color);\n",
              "      border-right-color: var(--fill-color);\n",
              "    }\n",
              "    40% {\n",
              "      border-color: transparent;\n",
              "      border-right-color: var(--fill-color);\n",
              "      border-top-color: var(--fill-color);\n",
              "    }\n",
              "    60% {\n",
              "      border-color: transparent;\n",
              "      border-right-color: var(--fill-color);\n",
              "    }\n",
              "    80% {\n",
              "      border-color: transparent;\n",
              "      border-right-color: var(--fill-color);\n",
              "      border-bottom-color: var(--fill-color);\n",
              "    }\n",
              "    90% {\n",
              "      border-color: transparent;\n",
              "      border-bottom-color: var(--fill-color);\n",
              "    }\n",
              "  }\n",
              "</style>\n",
              "\n",
              "  <script>\n",
              "    async function quickchart(key) {\n",
              "      const quickchartButtonEl =\n",
              "        document.querySelector('#' + key + ' button');\n",
              "      quickchartButtonEl.disabled = true;  // To prevent multiple clicks.\n",
              "      quickchartButtonEl.classList.add('colab-df-spinner');\n",
              "      try {\n",
              "        const charts = await google.colab.kernel.invokeFunction(\n",
              "            'suggestCharts', [key], {});\n",
              "      } catch (error) {\n",
              "        console.error('Error during call to suggestCharts:', error);\n",
              "      }\n",
              "      quickchartButtonEl.classList.remove('colab-df-spinner');\n",
              "      quickchartButtonEl.classList.add('colab-df-quickchart-complete');\n",
              "    }\n",
              "    (() => {\n",
              "      let quickchartButtonEl =\n",
              "        document.querySelector('#df-33f576b0-7fb7-476f-86f0-9e77982bd896 button');\n",
              "      quickchartButtonEl.style.display =\n",
              "        google.colab.kernel.accessAllowed ? 'block' : 'none';\n",
              "    })();\n",
              "  </script>\n",
              "</div>\n",
              "\n",
              "    </div>\n",
              "  </div>\n"
            ],
            "application/vnd.google.colaboratory.intrinsic+json": {
              "type": "dataframe",
              "summary": "{\n  \"name\": \"subset_data\",\n  \"rows\": 8,\n  \"fields\": [\n    {\n      \"column\": \"DISTANCE_FROM_HOME\",\n      \"properties\": {\n        \"dtype\": \"number\",\n        \"std\": 17530.899999039037,\n        \"min\": 0.0241438939526989,\n        \"max\": 50000.0,\n        \"num_unique_values\": 8,\n        \"samples\": [\n          26.54934849599793,\n          9.907588359504008,\n          50000.0\n        ],\n        \"semantic_type\": \"\",\n        \"description\": \"\"\n      }\n    },\n    {\n      \"column\": \"DISTANCE_FROM_LAST_TRANSACTION\",\n      \"properties\": {\n        \"dtype\": \"number\",\n        \"std\": 17612.107118413707,\n        \"min\": 0.0005385256084163,\n        \"max\": 50000.0,\n        \"num_unique_values\": 8,\n        \"samples\": [\n          5.220660351038759,\n          1.01895463734783,\n          50000.0\n        ],\n        \"semantic_type\": \"\",\n        \"description\": \"\"\n      }\n    },\n    {\n      \"column\": \"DISTANCE_RATIO\",\n      \"properties\": {\n        \"dtype\": \"number\",\n        \"std\": 49552.74458312945,\n        \"min\": 0.00041651758489008546,\n        \"max\": 138559.9328158584,\n        \"num_unique_values\": 8,\n        \"samples\": [\n          130.4439897112639,\n          9.732562787754933,\n          50000.0\n        ],\n        \"semantic_type\": \"\",\n        \"description\": \"\"\n      }\n    },\n    {\n      \"column\": \"RATIO_TO_MEDIAN_PURCHASE_PRICE\",\n      \"properties\": {\n        \"dtype\": \"number\",\n        \"std\": 17672.24277058682,\n        \"min\": 0.0061253643962708,\n        \"max\": 50000.0,\n        \"num_unique_values\": 8,\n        \"samples\": [\n          1.8113451905987177,\n          0.9901882507330221,\n          50000.0\n        ],\n        \"semantic_type\": \"\",\n        \"description\": \"\"\n      }\n    },\n    {\n      \"column\": \"REPEAT_RETAILER\",\n      \"properties\": {\n        \"dtype\": \"number\",\n        \"std\": 17677.406655125193,\n        \"min\": 0.0,\n        \"max\": 50000.0,\n        \"num_unique_values\": 5,\n        \"samples\": [\n          0.88134,\n          1.0,\n          0.32339124298273875\n        ],\n        \"semantic_type\": \"\",\n        \"description\": \"\"\n      }\n    },\n    {\n      \"column\": \"USED_CHIP\",\n      \"properties\": {\n        \"dtype\": \"number\",\n        \"std\": 17677.526713617146,\n        \"min\": 0.0,\n        \"max\": 50000.0,\n        \"num_unique_values\": 5,\n        \"samples\": [\n          0.35056,\n          1.0,\n          0.47715012296424786\n        ],\n        \"semantic_type\": \"\",\n        \"description\": \"\"\n      }\n    },\n    {\n      \"column\": \"USED_PIN_NUMBER\",\n      \"properties\": {\n        \"dtype\": \"number\",\n        \"std\": 17677.598815077108,\n        \"min\": 0.0,\n        \"max\": 50000.0,\n        \"num_unique_values\": 5,\n        \"samples\": [\n          0.10006,\n          1.0,\n          0.30008298418262225\n        ],\n        \"semantic_type\": \"\",\n        \"description\": \"\"\n      }\n    },\n    {\n      \"column\": \"ONLINE_ORDER\",\n      \"properties\": {\n        \"dtype\": \"number\",\n        \"std\": 17677.461030830316,\n        \"min\": 0.0,\n        \"max\": 50000.0,\n        \"num_unique_values\": 5,\n        \"samples\": [\n          0.65174,\n          1.0,\n          0.4764236685873612\n        ],\n        \"semantic_type\": \"\",\n        \"description\": \"\"\n      }\n    },\n    {\n      \"column\": \"RATIO_TO_MEDIAN_PURCHASE_NORMALIZED\",\n      \"properties\": {\n        \"dtype\": \"number\",\n        \"std\": 17677.649144971474,\n        \"min\": 6.445609305163318e-06,\n        \"max\": 50000.0,\n        \"num_unique_values\": 8,\n        \"samples\": [\n          0.006747407701030464,\n          0.003681084296729984,\n          50000.0\n        ],\n        \"semantic_type\": \"\",\n        \"description\": \"\"\n      }\n    },\n    {\n      \"column\": \"DISTANCE_NEAR\",\n      \"properties\": {\n        \"dtype\": \"number\",\n        \"std\": 17677.533921515642,\n        \"min\": 0.0,\n        \"max\": 50000.0,\n        \"num_unique_values\": 5,\n        \"samples\": [\n          0.25126,\n          1.0,\n          0.43374206049621344\n        ],\n        \"semantic_type\": \"\",\n        \"description\": \"\"\n      }\n    },\n    {\n      \"column\": \"DISTANCE_MEDIUM\",\n      \"properties\": {\n        \"dtype\": \"number\",\n        \"std\": 17677.533964454113,\n        \"min\": 0.0,\n        \"max\": 50000.0,\n        \"num_unique_values\": 5,\n        \"samples\": [\n          0.25072,\n          1.0,\n          0.4334319310627417\n        ],\n        \"semantic_type\": \"\",\n        \"description\": \"\"\n      }\n    },\n    {\n      \"column\": \"DISTANCE_FAR\",\n      \"properties\": {\n        \"dtype\": \"number\",\n        \"std\": 17677.584598050304,\n        \"min\": 0.0,\n        \"max\": 50000.0,\n        \"num_unique_values\": 5,\n        \"samples\": [\n          0.24912,\n          1.0,\n          0.432507765085596\n        ],\n        \"semantic_type\": \"\",\n        \"description\": \"\"\n      }\n    },\n    {\n      \"column\": \"DISTANCE_VERY_FAR\",\n      \"properties\": {\n        \"dtype\": \"number\",\n        \"std\": 17677.5846156111,\n        \"min\": 0.0,\n        \"max\": 50000.0,\n        \"num_unique_values\": 5,\n        \"samples\": [\n          0.2489,\n          1.0,\n          0.43238007476129264\n        ],\n        \"semantic_type\": \"\",\n        \"description\": \"\"\n      }\n    },\n    {\n      \"column\": \"FRAUD\",\n      \"properties\": {\n        \"dtype\": \"number\",\n        \"std\": 17677.600498519492,\n        \"min\": 0.0,\n        \"max\": 50000.0,\n        \"num_unique_values\": 5,\n        \"samples\": [\n          0.08618,\n          1.0,\n          0.2806324690616783\n        ],\n        \"semantic_type\": \"\",\n        \"description\": \"\"\n      }\n    }\n  ]\n}"
            }
          },
          "metadata": {},
          "execution_count": 17
        }
      ],
      "source": [
        "subset_data.describe()"
      ]
    },
    {
      "cell_type": "markdown",
      "id": "f181f0ff",
      "metadata": {
        "papermill": {
          "duration": 0.011286,
          "end_time": "2024-05-12T01:27:46.466235",
          "exception": false,
          "start_time": "2024-05-12T01:27:46.454949",
          "status": "completed"
        },
        "tags": [],
        "id": "f181f0ff"
      },
      "source": [
        "# Bar Plot of Fraudulent vs. Non-Fraudulent Transactions"
      ]
    },
    {
      "cell_type": "code",
      "execution_count": 18,
      "id": "1073a6a5",
      "metadata": {
        "execution": {
          "iopub.execute_input": "2024-05-12T01:27:46.491519Z",
          "iopub.status.busy": "2024-05-12T01:27:46.490965Z",
          "iopub.status.idle": "2024-05-12T01:27:46.755184Z",
          "shell.execute_reply": "2024-05-12T01:27:46.754273Z"
        },
        "papermill": {
          "duration": 0.278818,
          "end_time": "2024-05-12T01:27:46.756946",
          "exception": false,
          "start_time": "2024-05-12T01:27:46.478128",
          "status": "completed"
        },
        "tags": [],
        "colab": {
          "base_uri": "https://localhost:8080/",
          "height": 564
        },
        "id": "1073a6a5",
        "outputId": "14708926-06e0-4be6-8467-532aca0ac6b9"
      },
      "outputs": [
        {
          "output_type": "display_data",
          "data": {
            "text/plain": [
              "<Figure size 800x600 with 1 Axes>"
            ],
            "image/png": "[encoded data removed]"
          },
          "metadata": {}
        }
      ],
      "source": [
        "# Set the style of the seaborn plot\n",
        "sns.set_style(\"whitegrid\")\n",
        "\n",
        "# Plotting the bar plot\n",
        "plt.figure(figsize=(8, 6))\n",
        "ax = sns.countplot(data=subset_data, x='FRAUD')\n",
        "plt.title('Non-Fraudulent Transactions vs. Fraudulent')\n",
        "plt.xlabel('FRAUD')\n",
        "plt.ylabel('Count')\n",
        "\n",
        "# Adding data labels\n",
        "for p in ax.patches:\n",
        "    ax.annotate(format(p.get_height(), '.0f'),\n",
        "                (p.get_x() + p.get_width() / 2., p.get_height()),\n",
        "                ha='center', va='center',\n",
        "                xytext=(0, 9),\n",
        "                textcoords='offset points')\n",
        "\n",
        "plt.show()"
      ]
    },
    {
      "cell_type": "markdown",
      "id": "b1cd10e9",
      "metadata": {
        "papermill": {
          "duration": 0.011899,
          "end_time": "2024-05-12T01:27:46.781086",
          "exception": false,
          "start_time": "2024-05-12T01:27:46.769187",
          "status": "completed"
        },
        "tags": [],
        "id": "b1cd10e9"
      },
      "source": [
        "# Bar Plot of Fraudulent vs. Non-Fraudulent Transactions by Purchased Method"
      ]
    },
    {
      "cell_type": "code",
      "execution_count": 19,
      "id": "d9637cdc",
      "metadata": {
        "execution": {
          "iopub.execute_input": "2024-05-12T01:27:46.806171Z",
          "iopub.status.busy": "2024-05-12T01:27:46.805889Z",
          "iopub.status.idle": "2024-05-12T01:27:47.704000Z",
          "shell.execute_reply": "2024-05-12T01:27:47.703204Z"
        },
        "papermill": {
          "duration": 0.913227,
          "end_time": "2024-05-12T01:27:47.706066",
          "exception": false,
          "start_time": "2024-05-12T01:27:46.792839",
          "status": "completed"
        },
        "tags": [],
        "colab": {
          "base_uri": "https://localhost:8080/",
          "height": 1000
        },
        "id": "d9637cdc",
        "outputId": "d53820df-133a-46f5-a4dd-9097da43550e"
      },
      "outputs": [
        {
          "output_type": "display_data",
          "data": {
            "text/plain": [
              "<Figure size 1200x1000 with 4 Axes>"
            ],
            "image/png": "[encoded data removed]"
          },
          "metadata": {}
        }
      ],
      "source": [
        "# Set the style of the seaborn plot\n",
        "sns.set_style(\"whitegrid\")\n",
        "\n",
        "# Define the categorical features you want to compare\n",
        "categorical_features = ['REPEAT_RETAILER', 'USED_CHIP', 'USED_PIN_NUMBER', 'ONLINE_ORDER']\n",
        "\n",
        "# Plotting the bar plots for each categorical feature in a 2x2 grid\n",
        "fig, axes = plt.subplots(2, 2, figsize=(12, 10))\n",
        "\n",
        "# Flatten the axes array for easier iteration\n",
        "axes = axes.flatten()\n",
        "\n",
        "for i, feature in enumerate(categorical_features):\n",
        "    ax = sns.countplot(data=subset_data, x=feature, hue='FRAUD', ax=axes[i])\n",
        "    ax.set_title(f'{feature} Counts by Non-Fraudulent Transactions vs. Fraudulent')\n",
        "    ax.set_xlabel(feature)\n",
        "    ax.set_ylabel('Count')\n",
        "    ax.legend(title='FRAUD', labels=['Non-Fraudulent', 'Fraudulent'])\n",
        "\n",
        "    # Adding data labels\n",
        "    for p in ax.patches:\n",
        "        ax.annotate(format(p.get_height(), '.0f'),\n",
        "                    (p.get_x() + p.get_width() / 2., p.get_height()),\n",
        "                    ha='center', va='center',\n",
        "                    xytext=(0, 9),\n",
        "                    textcoords='offset points')\n",
        "\n",
        "# Adjust layout to prevent overlap\n",
        "plt.tight_layout()\n",
        "plt.show()"
      ]
    },
    {
      "cell_type": "markdown",
      "id": "c69e6c64",
      "metadata": {
        "papermill": {
          "duration": 0.012562,
          "end_time": "2024-05-12T01:27:47.732098",
          "exception": false,
          "start_time": "2024-05-12T01:27:47.719536",
          "status": "completed"
        },
        "tags": [],
        "id": "c69e6c64"
      },
      "source": [
        "# Pie Diagram of Fraudulent Transactions Percentage by Purchased Methods"
      ]
    },
    {
      "cell_type": "code",
      "execution_count": 20,
      "id": "031cc18c",
      "metadata": {
        "execution": {
          "iopub.execute_input": "2024-05-12T01:27:47.759253Z",
          "iopub.status.busy": "2024-05-12T01:27:47.758955Z",
          "iopub.status.idle": "2024-05-12T01:27:47.876935Z",
          "shell.execute_reply": "2024-05-12T01:27:47.876017Z"
        },
        "papermill": {
          "duration": 0.134285,
          "end_time": "2024-05-12T01:27:47.879081",
          "exception": false,
          "start_time": "2024-05-12T01:27:47.744796",
          "status": "completed"
        },
        "tags": [],
        "colab": {
          "base_uri": "https://localhost:8080/",
          "height": 444
        },
        "id": "031cc18c",
        "outputId": "c7f778de-727c-4b67-a041-399a840ed33b"
      },
      "outputs": [
        {
          "output_type": "display_data",
          "data": {
            "text/plain": [
              "<Figure size 500x500 with 1 Axes>"
            ],
            "image/png": "[encoded data removed]"
          },
          "metadata": {}
        }
      ],
      "source": [
        "purchase_methods = ['REPEAT_RETAILER', 'USED_CHIP', 'USED_PIN_NUMBER', 'ONLINE_ORDER']\n",
        "\n",
        "# Plotting the count of fraudulent transactions for each purchase method using a pie chart\n",
        "plt.figure(figsize=(5, 5))\n",
        "\n",
        "# Iterate through each purchase method and calculate the count of fraudulent transactions\n",
        "fraudulent_counts = [subset_data[subset_data[method] == 1]['FRAUD'].sum() for method in purchase_methods]\n",
        "\n",
        "# Plot the pie chart\n",
        "plt.pie(fraudulent_counts, labels=purchase_methods, autopct='%1.1f%%', colors=['orange', 'skyblue', 'lightgreen', 'salmon'])\n",
        "\n",
        "# Set title\n",
        "plt.title('Fraudulent Transactions by Purchase Methods')\n",
        "\n",
        "plt.show()"
      ]
    },
    {
      "cell_type": "markdown",
      "id": "140be3a2",
      "metadata": {
        "papermill": {
          "duration": 0.01862,
          "end_time": "2024-05-12T01:27:47.916442",
          "exception": false,
          "start_time": "2024-05-12T01:27:47.897822",
          "status": "completed"
        },
        "tags": [],
        "id": "140be3a2"
      },
      "source": [
        "# Scatter Plot of Distance Ratio vs Purchase Methods"
      ]
    },
    {
      "cell_type": "code",
      "execution_count": 21,
      "id": "8393851d",
      "metadata": {
        "execution": {
          "iopub.execute_input": "2024-05-12T01:27:47.955158Z",
          "iopub.status.busy": "2024-05-12T01:27:47.954511Z",
          "iopub.status.idle": "2024-05-12T01:27:49.396120Z",
          "shell.execute_reply": "2024-05-12T01:27:49.395353Z"
        },
        "papermill": {
          "duration": 1.463634,
          "end_time": "2024-05-12T01:27:49.398433",
          "exception": false,
          "start_time": "2024-05-12T01:27:47.934799",
          "status": "completed"
        },
        "tags": [],
        "colab": {
          "base_uri": "https://localhost:8080/",
          "height": 1000
        },
        "id": "8393851d",
        "outputId": "7afc8bf8-c427-455f-f7a4-1308620379a9"
      },
      "outputs": [
        {
          "output_type": "display_data",
          "data": {
            "text/plain": [
              "<Figure size 1200x1000 with 4 Axes>"
            ],
            "image/png": "[encoded data removed]"
          },
          "metadata": {}
        }
      ],
      "source": [
        "# Set the style of the seaborn plot\n",
        "sns.set_style(\"whitegrid\")\n",
        "\n",
        "# Purchase methods to compare\n",
        "purchase_methods = ['REPEAT_RETAILER', 'USED_CHIP', 'USED_PIN_NUMBER', 'ONLINE_ORDER']\n",
        "\n",
        "# Create a 2x2 grid of subplots\n",
        "fig, axes = plt.subplots(2, 2, figsize=(12, 10))\n",
        "\n",
        "# Flatten the axes array for easier iteration\n",
        "axes = axes.flatten()\n",
        "\n",
        "# Iterate through each purchase method and plot the scatter plot in each subplot\n",
        "for i, method in enumerate(purchase_methods):\n",
        "    sns.scatterplot(data=subset_data, x='DISTANCE_RATIO', y=method, ax=axes[i])\n",
        "    axes[i].set_xlabel('Distance Ratio')\n",
        "    axes[i].set_ylabel(method)\n",
        "    axes[i].set_title(f'Scatter Plot of Distance Ratio vs. {method}')\n",
        "\n",
        "# Adjust layout to prevent overlap\n",
        "plt.tight_layout()\n",
        "plt.show()"
      ]
    },
    {
      "cell_type": "markdown",
      "id": "60f91dc9",
      "metadata": {
        "papermill": {
          "duration": 0.015214,
          "end_time": "2024-05-12T01:27:49.429271",
          "exception": false,
          "start_time": "2024-05-12T01:27:49.414057",
          "status": "completed"
        },
        "tags": [],
        "id": "60f91dc9"
      },
      "source": [
        "# Histogram of Distance from Home (Values < 50) vs Transaction Types"
      ]
    },
    {
      "cell_type": "code",
      "execution_count": 22,
      "id": "e4ce373b",
      "metadata": {
        "execution": {
          "iopub.execute_input": "2024-05-12T01:27:49.459661Z",
          "iopub.status.busy": "2024-05-12T01:27:49.459303Z",
          "iopub.status.idle": "2024-05-12T01:27:49.780627Z",
          "shell.execute_reply": "2024-05-12T01:27:49.779433Z"
        },
        "papermill": {
          "duration": 0.338571,
          "end_time": "2024-05-12T01:27:49.782405",
          "exception": false,
          "start_time": "2024-05-12T01:27:49.443834",
          "status": "completed"
        },
        "tags": [],
        "colab": {
          "base_uri": "https://localhost:8080/",
          "height": 564
        },
        "id": "e4ce373b",
        "outputId": "2bfec854-07df-4c1c-bd91-a96d43844aa4"
      },
      "outputs": [
        {
          "output_type": "display_data",
          "data": {
            "text/plain": [
              "<Figure size 800x600 with 1 Axes>"
            ],
            "image/png": "[encoded data removed]"
          },
          "metadata": {}
        }
      ],
      "source": [
        "# Filter data by fraud category and distance from home values less than 50\n",
        "fraudulent_transactions = subset_data[(subset_data['FRAUD'] == 1) & (subset_data['DISTANCE_FROM_HOME'] < 50)]['DISTANCE_FROM_HOME']\n",
        "non_fraudulent_transactions = subset_data[(subset_data['FRAUD'] == 0) & (subset_data['DISTANCE_FROM_HOME'] < 50)]['DISTANCE_FROM_HOME']\n",
        "\n",
        "# Create a figure with a specified size\n",
        "plt.figure(figsize=(8, 6))\n",
        "\n",
        "# Create a histogram\n",
        "plt.hist(fraudulent_transactions, bins=20, alpha=0.5, color='red', label='Fraudulent')\n",
        "plt.hist(non_fraudulent_transactions, bins=20, alpha=0.5, color='blue', label='Non-Fraudulent')\n",
        "\n",
        "plt.xlabel('Distance from Home')\n",
        "plt.ylabel('Frequency')\n",
        "plt.title('Distance from Home (< 50) vs Transaction Types')\n",
        "plt.legend()\n",
        "\n",
        "# Show the histogram\n",
        "plt.show()"
      ]
    },
    {
      "cell_type": "code",
      "execution_count": 23,
      "id": "f0c04528",
      "metadata": {
        "execution": {
          "iopub.execute_input": "2024-05-12T01:27:49.815386Z",
          "iopub.status.busy": "2024-05-12T01:27:49.814908Z",
          "iopub.status.idle": "2024-05-12T01:27:50.128119Z",
          "shell.execute_reply": "2024-05-12T01:27:50.127355Z"
        },
        "papermill": {
          "duration": 0.332199,
          "end_time": "2024-05-12T01:27:50.129803",
          "exception": false,
          "start_time": "2024-05-12T01:27:49.797604",
          "status": "completed"
        },
        "tags": [],
        "colab": {
          "base_uri": "https://localhost:8080/",
          "height": 564
        },
        "id": "f0c04528",
        "outputId": "e719fd89-8a39-4f77-bc3b-ffc23c01d8dc"
      },
      "outputs": [
        {
          "output_type": "display_data",
          "data": {
            "text/plain": [
              "<Figure size 800x600 with 1 Axes>"
            ],
            "image/png": "[encoded data removed]"
          },
          "metadata": {}
        }
      ],
      "source": [
        "# Filter data by fraud category and distance from last transaction values less than 5\n",
        "fraudulent_transactions = subset_data[(subset_data['FRAUD'] == 1) & (subset_data['DISTANCE_FROM_LAST_TRANSACTION'] < 5)]['DISTANCE_FROM_LAST_TRANSACTION']\n",
        "non_fraudulent_transactions = subset_data[(subset_data['FRAUD'] == 0) & (subset_data['DISTANCE_FROM_LAST_TRANSACTION'] < 5)]['DISTANCE_FROM_LAST_TRANSACTION']\n",
        "\n",
        "# Create a figure with a specified size\n",
        "plt.figure(figsize=(8, 6))\n",
        "\n",
        "# Create a histogram\n",
        "plt.hist(fraudulent_transactions, bins=20, alpha=0.5, color='red', label='Fraudulent')\n",
        "plt.hist(non_fraudulent_transactions, bins=20, alpha=0.5, color='blue', label='Non-Fraudulent')\n",
        "\n",
        "plt.xlabel('Distance from Last Transaction')\n",
        "plt.ylabel('Frequency')\n",
        "plt.title('Distance from Last Transaction (< 3) vs Transaction Types')\n",
        "plt.legend()\n",
        "\n",
        "# Show the histogram\n",
        "plt.show()"
      ]
    },
    {
      "cell_type": "markdown",
      "id": "22aa3fd3",
      "metadata": {
        "papermill": {
          "duration": 0.015765,
          "end_time": "2024-05-12T01:27:50.161452",
          "exception": false,
          "start_time": "2024-05-12T01:27:50.145687",
          "status": "completed"
        },
        "tags": [],
        "id": "22aa3fd3"
      },
      "source": [
        "# Correlation Heatmap"
      ]
    },
    {
      "cell_type": "code",
      "execution_count": 24,
      "id": "07945f56",
      "metadata": {
        "execution": {
          "iopub.execute_input": "2024-05-12T01:27:50.194954Z",
          "iopub.status.busy": "2024-05-12T01:27:50.194450Z",
          "iopub.status.idle": "2024-05-12T01:27:51.031214Z",
          "shell.execute_reply": "2024-05-12T01:27:51.030423Z"
        },
        "papermill": {
          "duration": 0.855589,
          "end_time": "2024-05-12T01:27:51.032833",
          "exception": false,
          "start_time": "2024-05-12T01:27:50.177244",
          "status": "completed"
        },
        "tags": [],
        "colab": {
          "base_uri": "https://localhost:8080/",
          "height": 996
        },
        "id": "07945f56",
        "outputId": "bf0b08ed-d60e-4504-92ee-e7b31ece5379"
      },
      "outputs": [
        {
          "output_type": "display_data",
          "data": {
            "text/plain": [
              "<Figure size 1200x800 with 2 Axes>"
            ],
            "image/png": "[encoded data removed]"
          },
          "metadata": {}
        }
      ],
      "source": [
        "# Calculate the correlation matrix\n",
        "correlation_matrix = subset_data.corr()\n",
        "\n",
        "# Plotting the heatmap\n",
        "plt.figure(figsize=(12, 8))\n",
        "sns.heatmap(correlation_matrix, annot=True, cmap='coolwarm', fmt='.2f')\n",
        "plt.title('Correlation Heatmap without Target Variable (FRAUD)')\n",
        "plt.show()"
      ]
    },
    {
      "cell_type": "markdown",
      "id": "23e0fd10",
      "metadata": {
        "papermill": {
          "duration": 0.01769,
          "end_time": "2024-05-12T01:27:51.068159",
          "exception": false,
          "start_time": "2024-05-12T01:27:51.050469",
          "status": "completed"
        },
        "tags": [],
        "id": "23e0fd10"
      },
      "source": [
        "# Linear Regression"
      ]
    },
    {
      "cell_type": "code",
      "execution_count": 25,
      "id": "1333b659",
      "metadata": {
        "execution": {
          "iopub.execute_input": "2024-05-12T01:27:51.104869Z",
          "iopub.status.busy": "2024-05-12T01:27:51.104387Z",
          "iopub.status.idle": "2024-05-12T01:27:51.444647Z",
          "shell.execute_reply": "2024-05-12T01:27:51.444011Z"
        },
        "papermill": {
          "duration": 0.361126,
          "end_time": "2024-05-12T01:27:51.446477",
          "exception": false,
          "start_time": "2024-05-12T01:27:51.085351",
          "status": "completed"
        },
        "tags": [],
        "id": "1333b659"
      },
      "outputs": [],
      "source": [
        "from sklearn.linear_model import LinearRegression\n",
        "from sklearn.model_selection import train_test_split\n",
        "from sklearn.metrics import mean_squared_error"
      ]
    },
    {
      "cell_type": "code",
      "execution_count": 26,
      "id": "05ab0850",
      "metadata": {
        "execution": {
          "iopub.execute_input": "2024-05-12T01:27:51.482713Z",
          "iopub.status.busy": "2024-05-12T01:27:51.482247Z",
          "iopub.status.idle": "2024-05-12T01:28:02.157796Z",
          "shell.execute_reply": "2024-05-12T01:28:02.156692Z"
        },
        "papermill": {
          "duration": 10.695915,
          "end_time": "2024-05-12T01:28:02.159985",
          "exception": false,
          "start_time": "2024-05-12T01:27:51.464070",
          "status": "completed"
        },
        "tags": [],
        "colab": {
          "base_uri": "https://localhost:8080/"
        },
        "id": "05ab0850",
        "outputId": "806a8a7d-5c0b-4928-a29f-50eeca340e1b"
      },
      "outputs": [
        {
          "output_type": "stream",
          "name": "stdout",
          "text": [
            "Collecting dmba\n",
            "  Downloading dmba-0.2.4-py3-none-any.whl (11.8 MB)\n",
            "\u001b[2K     \u001b[90m━━━━━━━━━━━━━━━━━━━━━━━━━━━━━━━━━━━━━━━━\u001b[0m \u001b[32m11.8/11.8 MB\u001b[0m \u001b[31m55.1 MB/s\u001b[0m eta \u001b[36m0:00:00\u001b[0m\n",
            "\u001b[?25hRequirement already satisfied: graphviz in /usr/local/lib/python3.10/dist-packages (from dmba) (0.20.3)\n",
            "Requirement already satisfied: matplotlib in /usr/local/lib/python3.10/dist-packages (from dmba) (3.7.1)\n",
            "Requirement already satisfied: numpy in /usr/local/lib/python3.10/dist-packages (from dmba) (1.25.2)\n",
            "Requirement already satisfied: pandas in /usr/local/lib/python3.10/dist-packages (from dmba) (2.0.3)\n",
            "Requirement already satisfied: scikit-learn in /usr/local/lib/python3.10/dist-packages (from dmba) (1.2.2)\n",
            "Requirement already satisfied: scipy in /usr/local/lib/python3.10/dist-packages (from dmba) (1.11.4)\n",
            "Requirement already satisfied: contourpy>=1.0.1 in /usr/local/lib/python3.10/dist-packages (from matplotlib->dmba) (1.2.1)\n",
            "Requirement already satisfied: cycler>=0.10 in /usr/local/lib/python3.10/dist-packages (from matplotlib->dmba) (0.12.1)\n",
            "Requirement already satisfied: fonttools>=4.22.0 in /usr/local/lib/python3.10/dist-packages (from matplotlib->dmba) (4.53.0)\n",
            "Requirement already satisfied: kiwisolver>=1.0.1 in /usr/local/lib/python3.10/dist-packages (from matplotlib->dmba) (1.4.5)\n",
            "Requirement already satisfied: packaging>=20.0 in /usr/local/lib/python3.10/dist-packages (from matplotlib->dmba) (24.1)\n",
            "Requirement already satisfied: pillow>=6.2.0 in /usr/local/lib/python3.10/dist-packages (from matplotlib->dmba) (9.4.0)\n",
            "Requirement already satisfied: pyparsing>=2.3.1 in /usr/local/lib/python3.10/dist-packages (from matplotlib->dmba) (3.1.2)\n",
            "Requirement already satisfied: python-dateutil>=2.7 in /usr/local/lib/python3.10/dist-packages (from matplotlib->dmba) (2.8.2)\n",
            "Requirement already satisfied: pytz>=2020.1 in /usr/local/lib/python3.10/dist-packages (from pandas->dmba) (2023.4)\n",
            "Requirement already satisfied: tzdata>=2022.1 in /usr/local/lib/python3.10/dist-packages (from pandas->dmba) (2024.1)\n",
            "Requirement already satisfied: joblib>=1.1.1 in /usr/local/lib/python3.10/dist-packages (from scikit-learn->dmba) (1.4.2)\n",
            "Requirement already satisfied: threadpoolctl>=2.0.0 in /usr/local/lib/python3.10/dist-packages (from scikit-learn->dmba) (3.5.0)\n",
            "Requirement already satisfied: six>=1.5 in /usr/local/lib/python3.10/dist-packages (from python-dateutil>=2.7->matplotlib->dmba) (1.16.0)\n",
            "Installing collected packages: dmba\n",
            "Successfully installed dmba-0.2.4\n"
          ]
        }
      ],
      "source": [
        "!pip install dmba"
      ]
    },
    {
      "cell_type": "code",
      "execution_count": 27,
      "id": "fc9f3508",
      "metadata": {
        "execution": {
          "iopub.execute_input": "2024-05-12T01:28:02.197598Z",
          "iopub.status.busy": "2024-05-12T01:28:02.197243Z",
          "iopub.status.idle": "2024-05-12T01:28:02.365209Z",
          "shell.execute_reply": "2024-05-12T01:28:02.363951Z"
        },
        "papermill": {
          "duration": 0.188934,
          "end_time": "2024-05-12T01:28:02.367005",
          "exception": false,
          "start_time": "2024-05-12T01:28:02.178071",
          "status": "completed"
        },
        "tags": [],
        "colab": {
          "base_uri": "https://localhost:8080/"
        },
        "id": "fc9f3508",
        "outputId": "1fc6921c-e58e-4da0-8923-1d1f397c3a0b"
      },
      "outputs": [
        {
          "output_type": "stream",
          "name": "stdout",
          "text": [
            "Colab environment detected.\n",
            "Root Mean Squared Error: 0.2442\n"
          ]
        }
      ],
      "source": [
        "from dmba import regressionSummary, classificationSummary\n",
        "\n",
        "# Specify predictors and outcome variable\n",
        "predictors = ['DISTANCE_FROM_HOME', 'DISTANCE_FROM_LAST_TRANSACTION', 'ONLINE_ORDER', 'RATIO_TO_MEDIAN_PURCHASE_NORMALIZED', 'DISTANCE_VERY_FAR']\n",
        "outcome = 'FRAUD'\n",
        "\n",
        "# Split data into training and testing sets\n",
        "X_train, X_test, y_train, y_test = train_test_split(subset_data[predictors], subset_data[outcome], test_size=0.4, random_state=42)\n",
        "\n",
        "# Fit linear regression model\n",
        "lm_model = LinearRegression()\n",
        "lm_model.fit(X_train, y_train)\n",
        "\n",
        "# Predict on the test set\n",
        "y_pred = lm_model.predict(X_test)\n",
        "\n",
        "# Calculate RMSE\n",
        "rmse = mean_squared_error(y_test, y_pred, squared=False)\n",
        "print(f\"Root Mean Squared Error: {rmse:.4f}\")"
      ]
    },
    {
      "cell_type": "code",
      "execution_count": 28,
      "id": "3905c594",
      "metadata": {
        "execution": {
          "iopub.execute_input": "2024-05-12T01:28:02.459300Z",
          "iopub.status.busy": "2024-05-12T01:28:02.458952Z",
          "iopub.status.idle": "2024-05-12T01:28:02.476668Z",
          "shell.execute_reply": "2024-05-12T01:28:02.475989Z"
        },
        "papermill": {
          "duration": 0.073873,
          "end_time": "2024-05-12T01:28:02.478619",
          "exception": false,
          "start_time": "2024-05-12T01:28:02.404746",
          "status": "completed"
        },
        "tags": [],
        "colab": {
          "base_uri": "https://localhost:8080/"
        },
        "id": "3905c594",
        "outputId": "ecdaa05d-30bd-4c8d-be3a-81efb9e5cb95"
      },
      "outputs": [
        {
          "output_type": "stream",
          "name": "stdout",
          "text": [
            "\n",
            "Regression statistics\n",
            "\n",
            "               Mean Error (ME) : 0.0000\n",
            "Root Mean Squared Error (RMSE) : 0.2335\n",
            "     Mean Absolute Error (MAE) : 0.1336\n"
          ]
        }
      ],
      "source": [
        "# Linear regression training set statistics\n",
        "regressionSummary(y_train, lm_model.predict(X_train))"
      ]
    },
    {
      "cell_type": "code",
      "execution_count": 29,
      "id": "b5d1bd54",
      "metadata": {
        "execution": {
          "iopub.execute_input": "2024-05-12T01:28:02.533133Z",
          "iopub.status.busy": "2024-05-12T01:28:02.532821Z",
          "iopub.status.idle": "2024-05-12T01:28:02.548201Z",
          "shell.execute_reply": "2024-05-12T01:28:02.547463Z"
        },
        "papermill": {
          "duration": 0.045106,
          "end_time": "2024-05-12T01:28:02.550314",
          "exception": false,
          "start_time": "2024-05-12T01:28:02.505208",
          "status": "completed"
        },
        "tags": [],
        "colab": {
          "base_uri": "https://localhost:8080/"
        },
        "id": "b5d1bd54",
        "outputId": "4f710e78-3fab-48a0-e460-ede098cfff43"
      },
      "outputs": [
        {
          "output_type": "stream",
          "name": "stdout",
          "text": [
            "\n",
            "Regression statistics\n",
            "\n",
            "               Mean Error (ME) : -0.0012\n",
            "Root Mean Squared Error (RMSE) : 0.2442\n",
            "     Mean Absolute Error (MAE) : 0.1359\n"
          ]
        }
      ],
      "source": [
        "# Linear regression testing set statistics\n",
        "regressionSummary(y_test, lm_model.predict(X_test))"
      ]
    },
    {
      "cell_type": "code",
      "execution_count": 30,
      "id": "a83e0d41",
      "metadata": {
        "execution": {
          "iopub.execute_input": "2024-05-12T01:28:02.603188Z",
          "iopub.status.busy": "2024-05-12T01:28:02.602876Z",
          "iopub.status.idle": "2024-05-12T01:28:02.616378Z",
          "shell.execute_reply": "2024-05-12T01:28:02.615679Z"
        },
        "papermill": {
          "duration": 0.042139,
          "end_time": "2024-05-12T01:28:02.618453",
          "exception": false,
          "start_time": "2024-05-12T01:28:02.576314",
          "status": "completed"
        },
        "tags": [],
        "colab": {
          "base_uri": "https://localhost:8080/"
        },
        "id": "a83e0d41",
        "outputId": "7a915b4b-4af4-4fcd-b99d-d366835fcb38"
      },
      "outputs": [
        {
          "output_type": "stream",
          "name": "stdout",
          "text": [
            "        Predicted  Actual  Residual\n",
            "307655   0.063289     0.0 -0.063289\n",
            "812167   0.051933     0.0 -0.051933\n",
            "62036    0.084719     0.0 -0.084719\n",
            "620564  -0.033361     0.0  0.033361\n",
            "256756   0.084179     0.0 -0.084179\n",
            "768798   0.057021     0.0 -0.057021\n",
            "863904   0.096770     0.0 -0.096770\n",
            "282225   0.212293     0.0 -0.212293\n",
            "480643   0.035259     0.0 -0.035259\n",
            "195897   0.224756     0.0 -0.224756\n",
            "867567   0.044653     0.0 -0.044653\n",
            "784314   0.284150     1.0  0.715850\n",
            "197692   0.149100     0.0 -0.149100\n",
            "145450   0.087809     0.0 -0.087809\n",
            "44184    0.045827     0.0 -0.045827\n",
            "296982   0.062155     0.0 -0.062155\n",
            "590909  -0.073820     0.0  0.073820\n",
            "596436   0.096875     0.0 -0.096875\n",
            "422211   0.022783     0.0 -0.022783\n",
            "922709   0.023447     0.0 -0.023447\n"
          ]
        }
      ],
      "source": [
        "# Generate predictions using the trained linear regression model and compare with actual values\n",
        "model_pred = lm_model.predict(X_test)\n",
        "result = pd.DataFrame({'Predicted': model_pred, 'Actual': y_test, 'Residual': y_test - model_pred})\n",
        "print(result.head(20))"
      ]
    },
    {
      "cell_type": "markdown",
      "id": "09049140",
      "metadata": {
        "papermill": {
          "duration": 0.025164,
          "end_time": "2024-05-12T01:28:02.669260",
          "exception": false,
          "start_time": "2024-05-12T01:28:02.644096",
          "status": "completed"
        },
        "tags": [],
        "id": "09049140"
      },
      "source": [
        "# Naive Bayes"
      ]
    },
    {
      "cell_type": "code",
      "execution_count": 31,
      "id": "1db97e77",
      "metadata": {
        "execution": {
          "iopub.execute_input": "2024-05-12T01:28:02.721169Z",
          "iopub.status.busy": "2024-05-12T01:28:02.720856Z",
          "iopub.status.idle": "2024-05-12T01:28:02.747922Z",
          "shell.execute_reply": "2024-05-12T01:28:02.746998Z"
        },
        "papermill": {
          "duration": 0.054731,
          "end_time": "2024-05-12T01:28:02.749387",
          "exception": false,
          "start_time": "2024-05-12T01:28:02.694656",
          "status": "completed"
        },
        "tags": [],
        "colab": {
          "base_uri": "https://localhost:8080/"
        },
        "id": "1db97e77",
        "outputId": "a8bb2c2c-b580-4796-dfd1-94bdaadda141"
      },
      "outputs": [
        {
          "output_type": "stream",
          "name": "stdout",
          "text": [
            "Accuracy: 0.8989\n"
          ]
        }
      ],
      "source": [
        "from sklearn.naive_bayes import MultinomialNB\n",
        "from sklearn.metrics import accuracy_score\n",
        "\n",
        "# Specify predictors and outcome variable\n",
        "predictors = ['DISTANCE_FROM_HOME', 'DISTANCE_FROM_LAST_TRANSACTION', 'ONLINE_ORDER', 'RATIO_TO_MEDIAN_PURCHASE_NORMALIZED', 'DISTANCE_VERY_FAR']\n",
        "outcome = 'FRAUD'\n",
        "\n",
        "# Extract predictors and outcome variable from the dataset\n",
        "X = subset_data[predictors]\n",
        "y = subset_data[outcome]\n",
        "\n",
        "# Split data into training and testing sets\n",
        "X_train, X_test, y_train, y1_test = train_test_split(X, y, test_size=0.4, random_state=42)\n",
        "\n",
        "# Initialize and fit Multinomial Naive Bayes classifier\n",
        "model = MultinomialNB()\n",
        "model.fit(X_train, y_train)\n",
        "\n",
        "# Predict on the test set\n",
        "y1_pred = model.predict(X_test)\n",
        "\n",
        "# Calculate accuracy\n",
        "accuracy_nb = accuracy_score(y1_test, y1_pred)\n",
        "print(\"Accuracy: {:.4f}\".format(accuracy_nb))\n"
      ]
    },
    {
      "cell_type": "code",
      "execution_count": 32,
      "id": "ac2bca3a",
      "metadata": {
        "execution": {
          "iopub.execute_input": "2024-05-12T01:28:02.788083Z",
          "iopub.status.busy": "2024-05-12T01:28:02.787244Z",
          "iopub.status.idle": "2024-05-12T01:28:02.826137Z",
          "shell.execute_reply": "2024-05-12T01:28:02.825251Z"
        },
        "papermill": {
          "duration": 0.059756,
          "end_time": "2024-05-12T01:28:02.827927",
          "exception": false,
          "start_time": "2024-05-12T01:28:02.768171",
          "status": "completed"
        },
        "tags": [],
        "colab": {
          "base_uri": "https://localhost:8080/"
        },
        "id": "ac2bca3a",
        "outputId": "971b28c6-60a9-4d75-acc7-fb0c8e8a2cf6"
      },
      "outputs": [
        {
          "output_type": "stream",
          "name": "stdout",
          "text": [
            "Classification Report:\n",
            "              precision    recall  f1-score   support\n",
            "\n",
            "         0.0       0.92      0.98      0.95     18254\n",
            "         1.0       0.28      0.10      0.14      1746\n",
            "\n",
            "    accuracy                           0.90     20000\n",
            "   macro avg       0.60      0.54      0.55     20000\n",
            "weighted avg       0.86      0.90      0.88     20000\n",
            "\n"
          ]
        }
      ],
      "source": [
        "from sklearn.metrics import classification_report\n",
        "\n",
        "# Generate classification report\n",
        "report = classification_report(y1_test, y1_pred)\n",
        "\n",
        "# Print the classification report\n",
        "print(\"Classification Report:\")\n",
        "print(report)"
      ]
    },
    {
      "cell_type": "markdown",
      "id": "73624279",
      "metadata": {
        "papermill": {
          "duration": 0.018041,
          "end_time": "2024-05-12T01:28:02.864490",
          "exception": false,
          "start_time": "2024-05-12T01:28:02.846449",
          "status": "completed"
        },
        "tags": [],
        "id": "73624279"
      },
      "source": [
        "<iframe src=\"https://www.kaggle.com/embed/imtkaggleteam/saudi-pro-league-transfer-analysis?cellIds=2&kernelSessionId=140986567\" height=\"300\" style=\"margin: 0 auto; width: 100%; max-width: 950px;\" frameborder=\"0\" scrolling=\"auto\" title=\"Saudi Pro League | Transfer Analysis 💵\"></iframe>"
      ]
    },
    {
      "cell_type": "markdown",
      "id": "7a5d6be7",
      "metadata": {
        "papermill": {
          "duration": 0.018575,
          "end_time": "2024-05-12T01:28:02.901483",
          "exception": false,
          "start_time": "2024-05-12T01:28:02.882908",
          "status": "completed"
        },
        "tags": [],
        "id": "7a5d6be7"
      },
      "source": [
        "# K-Nearest Neighbour"
      ]
    },
    {
      "cell_type": "code",
      "execution_count": 33,
      "id": "004f7494",
      "metadata": {
        "execution": {
          "iopub.execute_input": "2024-05-12T01:28:02.940516Z",
          "iopub.status.busy": "2024-05-12T01:28:02.940231Z",
          "iopub.status.idle": "2024-05-12T01:28:12.133540Z",
          "shell.execute_reply": "2024-05-12T01:28:12.132341Z"
        },
        "papermill": {
          "duration": 9.215193,
          "end_time": "2024-05-12T01:28:12.135333",
          "exception": false,
          "start_time": "2024-05-12T01:28:02.920140",
          "status": "completed"
        },
        "tags": [],
        "colab": {
          "base_uri": "https://localhost:8080/"
        },
        "id": "004f7494",
        "outputId": "66bc2792-c04f-4d72-937c-b5698ceea846"
      },
      "outputs": [
        {
          "output_type": "stream",
          "name": "stdout",
          "text": [
            "Requirement already satisfied: matplotlib in /usr/local/lib/python3.10/dist-packages (3.7.1)\n",
            "Requirement already satisfied: contourpy>=1.0.1 in /usr/local/lib/python3.10/dist-packages (from matplotlib) (1.2.1)\n",
            "Requirement already satisfied: cycler>=0.10 in /usr/local/lib/python3.10/dist-packages (from matplotlib) (0.12.1)\n",
            "Requirement already satisfied: fonttools>=4.22.0 in /usr/local/lib/python3.10/dist-packages (from matplotlib) (4.53.0)\n",
            "Requirement already satisfied: kiwisolver>=1.0.1 in /usr/local/lib/python3.10/dist-packages (from matplotlib) (1.4.5)\n",
            "Requirement already satisfied: numpy>=1.20 in /usr/local/lib/python3.10/dist-packages (from matplotlib) (1.25.2)\n",
            "Requirement already satisfied: packaging>=20.0 in /usr/local/lib/python3.10/dist-packages (from matplotlib) (24.1)\n",
            "Requirement already satisfied: pillow>=6.2.0 in /usr/local/lib/python3.10/dist-packages (from matplotlib) (9.4.0)\n",
            "Requirement already satisfied: pyparsing>=2.3.1 in /usr/local/lib/python3.10/dist-packages (from matplotlib) (3.1.2)\n",
            "Requirement already satisfied: python-dateutil>=2.7 in /usr/local/lib/python3.10/dist-packages (from matplotlib) (2.8.2)\n",
            "Requirement already satisfied: six>=1.5 in /usr/local/lib/python3.10/dist-packages (from python-dateutil>=2.7->matplotlib) (1.16.0)\n"
          ]
        }
      ],
      "source": [
        "pip install matplotlib"
      ]
    },
    {
      "cell_type": "code",
      "execution_count": 34,
      "id": "babe09aa",
      "metadata": {
        "execution": {
          "iopub.execute_input": "2024-05-12T01:28:12.212555Z",
          "iopub.status.busy": "2024-05-12T01:28:12.212237Z",
          "iopub.status.idle": "2024-05-12T01:28:23.822182Z",
          "shell.execute_reply": "2024-05-12T01:28:23.821149Z"
        },
        "papermill": {
          "duration": 11.631746,
          "end_time": "2024-05-12T01:28:23.824309",
          "exception": false,
          "start_time": "2024-05-12T01:28:12.192563",
          "status": "completed"
        },
        "tags": [],
        "colab": {
          "base_uri": "https://localhost:8080/",
          "height": 980
        },
        "id": "babe09aa",
        "outputId": "6d44c958-d0ab-40e8-a7d6-6cdd04f84d20"
      },
      "outputs": [
        {
          "output_type": "stream",
          "name": "stdout",
          "text": [
            "k = 1, Accuracy = 0.8802\n",
            "k = 2, Accuracy = 0.9109\n",
            "k = 3, Accuracy = 0.9045\n",
            "k = 4, Accuracy = 0.9117\n",
            "k = 5, Accuracy = 0.9097\n",
            "k = 6, Accuracy = 0.9133\n",
            "k = 7, Accuracy = 0.9128\n",
            "k = 8, Accuracy = 0.9141\n",
            "k = 9, Accuracy = 0.9125\n",
            "k = 10, Accuracy = 0.9135\n",
            "k = 11, Accuracy = 0.9134\n",
            "k = 12, Accuracy = 0.9134\n",
            "k = 13, Accuracy = 0.9123\n",
            "k = 14, Accuracy = 0.9127\n"
          ]
        },
        {
          "output_type": "display_data",
          "data": {
            "text/plain": [
              "<Figure size 1000x600 with 1 Axes>"
            ],
            "image/png": "[encoded data removed]"
          },
          "metadata": {}
        },
        {
          "output_type": "stream",
          "name": "stdout",
          "text": [
            "Classification Report for k = 8\n",
            "              precision    recall  f1-score   support\n",
            "\n",
            "         0.0       0.92      0.99      0.95     18254\n",
            "         1.0       0.54      0.12      0.19      1746\n",
            "\n",
            "    accuracy                           0.91     20000\n",
            "   macro avg       0.73      0.55      0.57     20000\n",
            "weighted avg       0.89      0.91      0.89     20000\n",
            "\n"
          ]
        }
      ],
      "source": [
        "from sklearn.neighbors import KNeighborsClassifier\n",
        "from sklearn.metrics import accuracy_score, classification_report\n",
        "import matplotlib.pyplot as plt\n",
        "\n",
        "# Specify predictors and outcome variable\n",
        "predictors = ['DISTANCE_FROM_HOME', 'DISTANCE_FROM_LAST_TRANSACTION', 'ONLINE_ORDER', 'RATIO_TO_MEDIAN_PURCHASE_NORMALIZED', 'DISTANCE_VERY_FAR']\n",
        "outcome = 'FRAUD'\n",
        "\n",
        "# Extract predictors and outcome variable from the dataset\n",
        "X = subset_data[predictors]\n",
        "y = subset_data[outcome]\n",
        "\n",
        "# Split data into training and validation sets\n",
        "train_X, valid_X, train_y, valid_y = train_test_split(X, y, test_size=0.4, random_state=42)\n",
        "\n",
        "# Initialize a list to store results\n",
        "results = []\n",
        "\n",
        "# Train a KNN classifier for different values of k\n",
        "for k in range(1, 15):\n",
        "    knn = KNeighborsClassifier(n_neighbors=k)\n",
        "    knn.fit(train_X, train_y)\n",
        "    y_pred = knn.predict(valid_X)\n",
        "    accuracy = accuracy_score(valid_y, y_pred)\n",
        "    results.append({'k': k, 'accuracy': accuracy})\n",
        "\n",
        "# Display the results and plot the accuracy for different values of k\n",
        "plt.figure(figsize=(10, 6))\n",
        "for result in results:\n",
        "    print(f\"k = {result['k']}, Accuracy = {result['accuracy']:.4f}\")\n",
        "\n",
        "k_values = [result['k'] for result in results]\n",
        "accuracies = [result['accuracy'] for result in results]\n",
        "plt.plot(k_values, accuracies, marker='o', linestyle='-')\n",
        "plt.title('Accuracy vs. Number of Neighbors (k)')\n",
        "plt.xlabel('Number of Neighbors (k)')\n",
        "plt.ylabel('Accuracy')\n",
        "plt.grid(True)\n",
        "plt.xticks(range(1, 15))\n",
        "plt.show()\n",
        "\n",
        "# Get the best k value\n",
        "best_k = max(results, key=lambda x: x['accuracy'])['k']\n",
        "\n",
        "# Train the KNN classifier with the best k value\n",
        "best_knn = KNeighborsClassifier(n_neighbors=best_k)\n",
        "best_knn.fit(train_X, train_y)\n",
        "\n",
        "# Get predictions on the validation set using the best k value\n",
        "best_valid_preds = best_knn.predict(valid_X)\n",
        "\n",
        "# Generate classification report for the best k value\n",
        "class_report = classification_report(valid_y, best_valid_preds)\n",
        "\n",
        "# Print the classification report\n",
        "print(\"Classification Report for k =\", best_k)\n",
        "print(class_report)"
      ]
    },
    {
      "cell_type": "markdown",
      "id": "186cb3a8",
      "metadata": {
        "papermill": {
          "duration": 0.022371,
          "end_time": "2024-05-12T01:28:23.873475",
          "exception": false,
          "start_time": "2024-05-12T01:28:23.851104",
          "status": "completed"
        },
        "tags": [],
        "id": "186cb3a8"
      },
      "source": [
        "# Decision Tree"
      ]
    },
    {
      "cell_type": "code",
      "execution_count": 35,
      "id": "3ea1814b",
      "metadata": {
        "execution": {
          "iopub.execute_input": "2024-05-12T01:28:23.911312Z",
          "iopub.status.busy": "2024-05-12T01:28:23.911008Z",
          "iopub.status.idle": "2024-05-12T01:28:23.986601Z",
          "shell.execute_reply": "2024-05-12T01:28:23.985650Z"
        },
        "papermill": {
          "duration": 0.09664,
          "end_time": "2024-05-12T01:28:23.988480",
          "exception": false,
          "start_time": "2024-05-12T01:28:23.891840",
          "status": "completed"
        },
        "tags": [],
        "colab": {
          "base_uri": "https://localhost:8080/"
        },
        "id": "3ea1814b",
        "outputId": "88dee168-5151-4408-8d4e-adb6c751176b"
      },
      "outputs": [
        {
          "output_type": "stream",
          "name": "stdout",
          "text": [
            "Accuracy: 0.9671\n"
          ]
        }
      ],
      "source": [
        "from sklearn.tree import DecisionTreeClassifier\n",
        "\n",
        "# Specify predictors and outcome variable\n",
        "predictors = ['DISTANCE_FROM_HOME', 'DISTANCE_FROM_LAST_TRANSACTION', 'ONLINE_ORDER', 'RATIO_TO_MEDIAN_PURCHASE_NORMALIZED', 'DISTANCE_VERY_FAR']\n",
        "outcome = 'FRAUD'\n",
        "\n",
        "# Extract predictors and outcome variable from the dataset\n",
        "X = subset_data[predictors]\n",
        "y = subset_data[outcome]\n",
        "\n",
        "# Split data into training and validation sets\n",
        "train_X, valid_X, train_y, valid__y = train_test_split(X, y, test_size=0.4, random_state=42)\n",
        "\n",
        "# Initialize and fit the Decision Tree classifier\n",
        "model = DecisionTreeClassifier()\n",
        "model.fit(train_X, train_y)\n",
        "\n",
        "# Predict on the validation set\n",
        "valid__preds = model.predict(valid_X)\n",
        "\n",
        "# Calculate accuracy\n",
        "accuracy_dt = accuracy_score(valid__y, valid__preds)\n",
        "print(\"Accuracy:\", round(accuracy_dt, 4))"
      ]
    },
    {
      "cell_type": "code",
      "execution_count": 36,
      "id": "62c9d669",
      "metadata": {
        "execution": {
          "iopub.execute_input": "2024-05-12T01:28:24.026878Z",
          "iopub.status.busy": "2024-05-12T01:28:24.026376Z",
          "iopub.status.idle": "2024-05-12T01:28:24.063507Z",
          "shell.execute_reply": "2024-05-12T01:28:24.062958Z"
        },
        "papermill": {
          "duration": 0.058097,
          "end_time": "2024-05-12T01:28:24.065128",
          "exception": false,
          "start_time": "2024-05-12T01:28:24.007031",
          "status": "completed"
        },
        "tags": [],
        "colab": {
          "base_uri": "https://localhost:8080/"
        },
        "id": "62c9d669",
        "outputId": "11bbd2f1-741d-4409-8a0e-eccdda2c3ee6"
      },
      "outputs": [
        {
          "output_type": "stream",
          "name": "stdout",
          "text": [
            "              precision    recall  f1-score   support\n",
            "\n",
            "         0.0       0.98      0.98      0.98     18254\n",
            "         1.0       0.82      0.81      0.81      1746\n",
            "\n",
            "    accuracy                           0.97     20000\n",
            "   macro avg       0.90      0.89      0.90     20000\n",
            "weighted avg       0.97      0.97      0.97     20000\n",
            "\n"
          ]
        }
      ],
      "source": [
        "from sklearn.metrics import classification_report\n",
        "\n",
        "# Print classification report\n",
        "print(classification_report(valid__y, valid__preds))"
      ]
    },
    {
      "cell_type": "markdown",
      "id": "e38feed8",
      "metadata": {
        "papermill": {
          "duration": 0.018315,
          "end_time": "2024-05-12T01:28:24.102335",
          "exception": false,
          "start_time": "2024-05-12T01:28:24.084020",
          "status": "completed"
        },
        "tags": [],
        "id": "e38feed8"
      },
      "source": [
        "# Logistic Regression"
      ]
    },
    {
      "cell_type": "code",
      "execution_count": 37,
      "id": "6a3961be",
      "metadata": {
        "execution": {
          "iopub.execute_input": "2024-05-12T01:28:24.141128Z",
          "iopub.status.busy": "2024-05-12T01:28:24.140834Z",
          "iopub.status.idle": "2024-05-12T01:28:26.477516Z",
          "shell.execute_reply": "2024-05-12T01:28:26.476848Z"
        },
        "papermill": {
          "duration": 2.3586,
          "end_time": "2024-05-12T01:28:26.479416",
          "exception": false,
          "start_time": "2024-05-12T01:28:24.120816",
          "status": "completed"
        },
        "tags": [],
        "colab": {
          "base_uri": "https://localhost:8080/"
        },
        "id": "6a3961be",
        "outputId": "177dc863-5620-4527-85ae-c7be4241ae67"
      },
      "outputs": [
        {
          "output_type": "stream",
          "name": "stdout",
          "text": [
            "Accuracy: 0.9353\n"
          ]
        }
      ],
      "source": [
        "from sklearn.linear_model import LogisticRegression\n",
        "\n",
        "# Specify predictors and outcome variable\n",
        "predictors = ['DISTANCE_FROM_HOME', 'DISTANCE_FROM_LAST_TRANSACTION', 'ONLINE_ORDER', 'RATIO_TO_MEDIAN_PURCHASE_NORMALIZED', 'DISTANCE_VERY_FAR']\n",
        "outcome = 'FRAUD'\n",
        "\n",
        "# Extract predictors and outcome variable from the dataset\n",
        "X = data[predictors]\n",
        "y = data[outcome]\n",
        "\n",
        "# Split data into training and validation sets\n",
        "train_X, valid_X, train_y, valid___y = train_test_split(X, y, test_size=0.4, random_state=42)\n",
        "\n",
        "# Initialize and fit the logistic regression model\n",
        "model = LogisticRegression(max_iter=1000)\n",
        "model.fit(train_X, train_y)\n",
        "\n",
        "# Predict on the validation set\n",
        "valid___preds = model.predict(valid_X)\n",
        "\n",
        "# Calculate accuracy\n",
        "accuracy_lr = accuracy_score(valid___y, valid___preds)\n",
        "print(\"Accuracy:\", round(accuracy_lr, 4))"
      ]
    },
    {
      "cell_type": "code",
      "execution_count": 38,
      "id": "f08945c9",
      "metadata": {
        "execution": {
          "iopub.execute_input": "2024-05-12T01:28:26.532165Z",
          "iopub.status.busy": "2024-05-12T01:28:26.531884Z",
          "iopub.status.idle": "2024-05-12T01:28:27.203491Z",
          "shell.execute_reply": "2024-05-12T01:28:27.202726Z"
        },
        "papermill": {
          "duration": 0.699224,
          "end_time": "2024-05-12T01:28:27.205123",
          "exception": false,
          "start_time": "2024-05-12T01:28:26.505899",
          "status": "completed"
        },
        "tags": [],
        "colab": {
          "base_uri": "https://localhost:8080/"
        },
        "id": "f08945c9",
        "outputId": "799ad0be-7fd5-4c9e-a72d-301eb4ff9d33"
      },
      "outputs": [
        {
          "output_type": "stream",
          "name": "stdout",
          "text": [
            "Classification Report:\n",
            "              precision    recall  f1-score   support\n",
            "\n",
            "         0.0       0.94      0.99      0.97    365248\n",
            "         1.0       0.79      0.35      0.48     34752\n",
            "\n",
            "    accuracy                           0.94    400000\n",
            "   macro avg       0.87      0.67      0.72    400000\n",
            "weighted avg       0.93      0.94      0.92    400000\n",
            "\n"
          ]
        }
      ],
      "source": [
        "from sklearn.metrics import classification_report\n",
        "\n",
        "# Generate classification report\n",
        "report = classification_report(valid___y, valid___preds)\n",
        "\n",
        "# Print classification report\n",
        "print(\"Classification Report:\")\n",
        "print(report)"
      ]
    },
    {
      "cell_type": "markdown",
      "source": [
        "# Random Forest"
      ],
      "metadata": {
        "id": "JneGB8Sy0OPh"
      },
      "id": "JneGB8Sy0OPh"
    },
    {
      "cell_type": "code",
      "source": [
        "from sklearn.ensemble import RandomForestClassifier\n",
        "\n",
        "# Specify predictors and outcome variable\n",
        "predictors = ['DISTANCE_FROM_HOME', 'DISTANCE_FROM_LAST_TRANSACTION', 'ONLINE_ORDER', 'RATIO_TO_MEDIAN_PURCHASE_NORMALIZED', 'DISTANCE_VERY_FAR']\n",
        "outcome = 'FRAUD'\n",
        "\n",
        "# Extract predictors and outcome variable from the dataset\n",
        "X = data[predictors]\n",
        "y = data[outcome]\n",
        "\n",
        "# Split data into training and validation sets\n",
        "train_X, valid_X, train_y, valid___y = train_test_split(X, y, test_size=0.4, random_state=42)\n",
        "\n",
        "# Initialize and fit the logistic regression model\n",
        "model = RandomForestClassifier()\n",
        "model.fit(train_X, train_y)\n",
        "\n",
        "# Predict on the validation set\n",
        "valid___preds = model.predict(valid_X)\n",
        "\n",
        "# Calculate accuracy\n",
        "accuracy_lr = accuracy_score(valid___y, valid___preds)\n",
        "print(\"Accuracy:\", round(accuracy_lr, 4))"
      ],
      "metadata": {
        "colab": {
          "base_uri": "https://localhost:8080/"
        },
        "id": "Ud_vn9KR0Mt5",
        "outputId": "b4457dda-ed35-473c-cc5c-b8c8fef71cc8"
      },
      "id": "Ud_vn9KR0Mt5",
      "execution_count": 39,
      "outputs": [
        {
          "output_type": "stream",
          "name": "stdout",
          "text": [
            "Accuracy: 0.9742\n"
          ]
        }
      ]
    },
    {
      "cell_type": "code",
      "source": [
        "from sklearn.metrics import classification_report\n",
        "\n",
        "# Generate classification report\n",
        "report = classification_report(valid___y, valid___preds)\n",
        "\n",
        "# Print classification report\n",
        "print(\"Classification Report:\")\n",
        "print(report)"
      ],
      "metadata": {
        "colab": {
          "base_uri": "https://localhost:8080/"
        },
        "id": "B1S7awQc0hyS",
        "outputId": "846e68e9-e62c-4ccb-c167-5a6dc3c0abfc"
      },
      "id": "B1S7awQc0hyS",
      "execution_count": 40,
      "outputs": [
        {
          "output_type": "stream",
          "name": "stdout",
          "text": [
            "Classification Report:\n",
            "              precision    recall  f1-score   support\n",
            "\n",
            "         0.0       0.99      0.98      0.99    365248\n",
            "         1.0       0.81      0.92      0.86     34752\n",
            "\n",
            "    accuracy                           0.97    400000\n",
            "   macro avg       0.90      0.95      0.92    400000\n",
            "weighted avg       0.98      0.97      0.98    400000\n",
            "\n"
          ]
        }
      ]
    },
    {
      "cell_type": "markdown",
      "id": "08a166a1",
      "metadata": {
        "papermill": {
          "duration": 0.01828,
          "end_time": "2024-05-12T01:28:27.242168",
          "exception": false,
          "start_time": "2024-05-12T01:28:27.223888",
          "status": "completed"
        },
        "tags": [],
        "id": "08a166a1"
      },
      "source": [
        "# Accuracy Comparisons"
      ]
    },
    {
      "cell_type": "code",
      "execution_count": 41,
      "id": "40b7d20f",
      "metadata": {
        "execution": {
          "iopub.execute_input": "2024-05-12T01:28:27.280388Z",
          "iopub.status.busy": "2024-05-12T01:28:27.280104Z",
          "iopub.status.idle": "2024-05-12T01:28:27.363630Z",
          "shell.execute_reply": "2024-05-12T01:28:27.362879Z"
        },
        "papermill": {
          "duration": 0.104974,
          "end_time": "2024-05-12T01:28:27.365513",
          "exception": false,
          "start_time": "2024-05-12T01:28:27.260539",
          "status": "completed"
        },
        "tags": [],
        "colab": {
          "base_uri": "https://localhost:8080/",
          "height": 564
        },
        "id": "40b7d20f",
        "outputId": "e0b4e099-3d29-4dd3-db19-9a1fe0eb4fa0"
      },
      "outputs": [
        {
          "output_type": "display_data",
          "data": {
            "text/plain": [
              "<Figure size 1000x600 with 1 Axes>"
            ],
            "image/png": "[encoded data removed]"
          },
          "metadata": {}
        }
      ],
      "source": [
        "import matplotlib.pyplot as plt\n",
        "\n",
        "# Scores and algorithms\n",
        "scores = [0.9742, 0.8989, 0.9141, 0.9675, 0.9353]\n",
        "algorithms = ['Random Forest','Naive Bayes', 'kNN', 'Decision Tree', 'Logistic Regression']\n",
        "\n",
        "# Plot histogram with different color schemes\n",
        "plt.figure(figsize=(10, 6))\n",
        "bars = plt.bar(algorithms, scores, color=['lightblue', 'maroon', 'orange', 'purple'])\n",
        "\n",
        "# Add labels to the bars\n",
        "for bar, score in zip(bars, scores):\n",
        "    height = bar.get_height()\n",
        "    plt.text(bar.get_x() + bar.get_width() / 2, height, f'{score:.4f}', ha='center', va='bottom')\n",
        "\n",
        "plt.xlabel('Algorithms')\n",
        "plt.ylabel('Accuracy')\n",
        "plt.title('Accuracy Comparison of Different Algorithms')\n",
        "plt.ylim(0, 1.2)\n",
        "plt.show()\n"
      ]
    },
    {
      "cell_type": "markdown",
      "id": "b7c58bc0",
      "metadata": {
        "papermill": {
          "duration": 0.026105,
          "end_time": "2024-05-12T01:28:27.418328",
          "exception": false,
          "start_time": "2024-05-12T01:28:27.392223",
          "status": "completed"
        },
        "tags": [],
        "id": "b7c58bc0"
      },
      "source": [
        "<iframe src=\"https://www.kaggle.com/embed/imtkaggleteam/saudi-pro-league-transfer-analysis?cellIds=5&kernelSessionId=140986567\" height=\"300\" style=\"margin: 0 auto; width: 100%; max-width: 950px;\" frameborder=\"0\" scrolling=\"auto\" title=\"Saudi Pro League | Transfer Analysis 💵\"></iframe>"
      ]
    },
    {
      "cell_type": "markdown",
      "id": "59276cb5",
      "metadata": {
        "papermill": {
          "duration": 0.018605,
          "end_time": "2024-05-12T01:28:27.459541",
          "exception": false,
          "start_time": "2024-05-12T01:28:27.440936",
          "status": "completed"
        },
        "tags": [],
        "id": "59276cb5"
      },
      "source": [
        "<iframe src=\"https://www.kaggle.com/embed/imtkaggleteam/saudi-pro-league-transfer-analysis?cellIds=2&kernelSessionId=140986567\" height=\"300\" style=\"margin: 0 auto; width: 100%; max-width: 950px;\" frameborder=\"0\" scrolling=\"auto\" title=\"Saudi Pro League | Transfer Analysis 💵\"></iframe>"
      ]
    }
  ],
  "metadata": {
    "kaggle": {
      "accelerator": "none",
      "dataSources": [
        {
          "datasetId": 2156255,
          "sourceId": 3594108,
          "sourceType": "datasetVersion"
        }
      ],
      "dockerImageVersionId": 30698,
      "isGpuEnabled": false,
      "isInternetEnabled": true,
      "language": "python",
      "sourceType": "notebook"
    },
    "kernelspec": {
      "display_name": "Python 3",
      "language": "python",
      "name": "python3"
    },
    "language_info": {
      "codemirror_mode": {
        "name": "ipython",
        "version": 3
      },
      "file_extension": ".py",
      "mimetype": "text/x-python",
      "name": "python",
      "nbconvert_exporter": "python",
      "pygments_lexer": "ipython3",
      "version": "3.10.13"
    },
    "papermill": {
      "default_parameters": {},
      "duration": 47.716547,
      "end_time": "2024-05-12T01:28:27.996380",
      "environment_variables": {},
      "exception": null,
      "input_path": "__notebook__.ipynb",
      "output_path": "__notebook__.ipynb",
      "parameters": {},
      "start_time": "2024-05-12T01:27:40.279833",
      "version": "2.5.0"
    },
    "colab": {
      "provenance": []
    }
  },
  "nbformat": 4,
  "nbformat_minor": 5
}