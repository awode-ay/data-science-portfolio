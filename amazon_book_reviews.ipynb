{
  "cells": [
    {
      "cell_type": "markdown",
      "id": "6c4dab2f",
      "metadata": {
        "id": "6c4dab2f",
        "papermill": {
          "duration": 0.06318,
          "end_time": "2022-03-20T07:58:23.421369",
          "exception": false,
          "start_time": "2022-03-20T07:58:23.358189",
          "status": "completed"
        },
        "tags": []
      },
      "source": [
        "# Importing necessary modules"
      ]
    },
    {
      "cell_type": "code",
      "execution_count": 44,
      "id": "7458dec0",
      "metadata": {
        "execution": {
          "iopub.execute_input": "2022-03-20T07:58:23.561315Z",
          "iopub.status.busy": "2022-03-20T07:58:23.560674Z",
          "iopub.status.idle": "2022-03-20T07:58:27.007095Z",
          "shell.execute_reply": "2022-03-20T07:58:27.006103Z",
          "shell.execute_reply.started": "2022-03-20T07:14:38.379554Z"
        },
        "id": "7458dec0",
        "papermill": {
          "duration": 3.520787,
          "end_time": "2022-03-20T07:58:27.007324",
          "exception": false,
          "start_time": "2022-03-20T07:58:23.486537",
          "status": "completed"
        },
        "tags": [],
        "colab": {
          "base_uri": "https://localhost:8080/"
        },
        "outputId": "66ef8d0e-cf60-4d1c-81ee-65efef7aa519"
      },
      "outputs": [
        {
          "output_type": "stream",
          "name": "stderr",
          "text": [
            "[nltk_data] Downloading package wordnet to /root/nltk_data...\n",
            "[nltk_data]   Package wordnet is already up-to-date!\n",
            "[nltk_data] Downloading package stopwords to /root/nltk_data...\n",
            "[nltk_data]   Package stopwords is already up-to-date!\n",
            "[nltk_data] Downloading package omw-1.4 to /root/nltk_data...\n",
            "[nltk_data]   Package omw-1.4 is already up-to-date!\n",
            "[nltk_data] Downloading package averaged_perceptron_tagger to\n",
            "[nltk_data]     /root/nltk_data...\n",
            "[nltk_data]   Package averaged_perceptron_tagger is already up-to-\n",
            "[nltk_data]       date!\n"
          ]
        }
      ],
      "source": [
        "import re\n",
        "import string\n",
        "import numpy as np\n",
        "import pandas as pd\n",
        "\n",
        "import nltk\n",
        "from nltk.corpus import wordnet\n",
        "from nltk.corpus import stopwords\n",
        "from nltk.stem import WordNetLemmatizer\n",
        "nltk.download('wordnet')\n",
        "nltk.download('stopwords')\n",
        "nltk.download('omw-1.4')\n",
        "nltk.download('averaged_perceptron_tagger')\n",
        "import seaborn as sns\n",
        "import plotly.express as px\n",
        "import matplotlib.pyplot as plt\n",
        "from wordcloud import WordCloud\n",
        "import plotly.graph_objects as go\n",
        "import warnings\n",
        "warnings.filterwarnings(\"ignore\")\n",
        "\n",
        "from sklearn import metrics\n",
        "from sklearn.metrics import ConfusionMatrixDisplay,confusion_matrix\n",
        "from sklearn.linear_model import LogisticRegression\n",
        "from sklearn.model_selection import train_test_split\n",
        "from sklearn.feature_extraction.text import CountVectorizer"
      ]
    },
    {
      "cell_type": "markdown",
      "id": "955ccdf6",
      "metadata": {
        "id": "955ccdf6",
        "papermill": {
          "duration": 0.062042,
          "end_time": "2022-03-20T07:58:27.139002",
          "exception": false,
          "start_time": "2022-03-20T07:58:27.076960",
          "status": "completed"
        },
        "tags": []
      },
      "source": [
        "# Loading our data"
      ]
    },
    {
      "cell_type": "code",
      "execution_count": 2,
      "id": "f336b292",
      "metadata": {
        "colab": {
          "base_uri": "https://localhost:8080/",
          "height": 73
        },
        "execution": {
          "iopub.execute_input": "2022-03-20T07:58:27.268556Z",
          "iopub.status.busy": "2022-03-20T07:58:27.267805Z",
          "iopub.status.idle": "2022-03-20T07:58:27.437995Z",
          "shell.execute_reply": "2022-03-20T07:58:27.437349Z",
          "shell.execute_reply.started": "2022-03-20T07:14:38.391457Z"
        },
        "id": "f336b292",
        "outputId": "efcf76dc-9be9-43d4-eccc-af0872c6e4ae",
        "papermill": {
          "duration": 0.238788,
          "end_time": "2022-03-20T07:58:27.438197",
          "exception": false,
          "start_time": "2022-03-20T07:58:27.199409",
          "status": "completed"
        },
        "tags": []
      },
      "outputs": [
        {
          "output_type": "display_data",
          "data": {
            "text/plain": [
              "<IPython.core.display.HTML object>"
            ],
            "text/html": [
              "\n",
              "     <input type=\"file\" id=\"files-35c62c18-f1cb-48cd-adcf-9cfda47920ee\" name=\"files[]\" multiple disabled\n",
              "        style=\"border:none\" />\n",
              "     <output id=\"result-35c62c18-f1cb-48cd-adcf-9cfda47920ee\">\n",
              "      Upload widget is only available when the cell has been executed in the\n",
              "      current browser session. Please rerun this cell to enable.\n",
              "      </output>\n",
              "      <script>// Copyright 2017 Google LLC\n",
              "//\n",
              "// Licensed under the Apache License, Version 2.0 (the \"License\");\n",
              "// you may not use this file except in compliance with the License.\n",
              "// You may obtain a copy of the License at\n",
              "//\n",
              "//      http://www.apache.org/licenses/LICENSE-2.0\n",
              "//\n",
              "// Unless required by applicable law or agreed to in writing, software\n",
              "// distributed under the License is distributed on an \"AS IS\" BASIS,\n",
              "// WITHOUT WARRANTIES OR CONDITIONS OF ANY KIND, either express or implied.\n",
              "// See the License for the specific language governing permissions and\n",
              "// limitations under the License.\n",
              "\n",
              "/**\n",
              " * @fileoverview Helpers for google.colab Python module.\n",
              " */\n",
              "(function(scope) {\n",
              "function span(text, styleAttributes = {}) {\n",
              "  const element = document.createElement('span');\n",
              "  element.textContent = text;\n",
              "  for (const key of Object.keys(styleAttributes)) {\n",
              "    element.style[key] = styleAttributes[key];\n",
              "  }\n",
              "  return element;\n",
              "}\n",
              "\n",
              "// Max number of bytes which will be uploaded at a time.\n",
              "const MAX_PAYLOAD_SIZE = 100 * 1024;\n",
              "\n",
              "function _uploadFiles(inputId, outputId) {\n",
              "  const steps = uploadFilesStep(inputId, outputId);\n",
              "  const outputElement = document.getElementById(outputId);\n",
              "  // Cache steps on the outputElement to make it available for the next call\n",
              "  // to uploadFilesContinue from Python.\n",
              "  outputElement.steps = steps;\n",
              "\n",
              "  return _uploadFilesContinue(outputId);\n",
              "}\n",
              "\n",
              "// This is roughly an async generator (not supported in the browser yet),\n",
              "// where there are multiple asynchronous steps and the Python side is going\n",
              "// to poll for completion of each step.\n",
              "// This uses a Promise to block the python side on completion of each step,\n",
              "// then passes the result of the previous step as the input to the next step.\n",
              "function _uploadFilesContinue(outputId) {\n",
              "  const outputElement = document.getElementById(outputId);\n",
              "  const steps = outputElement.steps;\n",
              "\n",
              "  const next = steps.next(outputElement.lastPromiseValue);\n",
              "  return Promise.resolve(next.value.promise).then((value) => {\n",
              "    // Cache the last promise value to make it available to the next\n",
              "    // step of the generator.\n",
              "    outputElement.lastPromiseValue = value;\n",
              "    return next.value.response;\n",
              "  });\n",
              "}\n",
              "\n",
              "/**\n",
              " * Generator function which is called between each async step of the upload\n",
              " * process.\n",
              " * @param {string} inputId Element ID of the input file picker element.\n",
              " * @param {string} outputId Element ID of the output display.\n",
              " * @return {!Iterable<!Object>} Iterable of next steps.\n",
              " */\n",
              "function* uploadFilesStep(inputId, outputId) {\n",
              "  const inputElement = document.getElementById(inputId);\n",
              "  inputElement.disabled = false;\n",
              "\n",
              "  const outputElement = document.getElementById(outputId);\n",
              "  outputElement.innerHTML = '';\n",
              "\n",
              "  const pickedPromise = new Promise((resolve) => {\n",
              "    inputElement.addEventListener('change', (e) => {\n",
              "      resolve(e.target.files);\n",
              "    });\n",
              "  });\n",
              "\n",
              "  const cancel = document.createElement('button');\n",
              "  inputElement.parentElement.appendChild(cancel);\n",
              "  cancel.textContent = 'Cancel upload';\n",
              "  const cancelPromise = new Promise((resolve) => {\n",
              "    cancel.onclick = () => {\n",
              "      resolve(null);\n",
              "    };\n",
              "  });\n",
              "\n",
              "  // Wait for the user to pick the files.\n",
              "  const files = yield {\n",
              "    promise: Promise.race([pickedPromise, cancelPromise]),\n",
              "    response: {\n",
              "      action: 'starting',\n",
              "    }\n",
              "  };\n",
              "\n",
              "  cancel.remove();\n",
              "\n",
              "  // Disable the input element since further picks are not allowed.\n",
              "  inputElement.disabled = true;\n",
              "\n",
              "  if (!files) {\n",
              "    return {\n",
              "      response: {\n",
              "        action: 'complete',\n",
              "      }\n",
              "    };\n",
              "  }\n",
              "\n",
              "  for (const file of files) {\n",
              "    const li = document.createElement('li');\n",
              "    li.append(span(file.name, {fontWeight: 'bold'}));\n",
              "    li.append(span(\n",
              "        `(${file.type || 'n/a'}) - ${file.size} bytes, ` +\n",
              "        `last modified: ${\n",
              "            file.lastModifiedDate ? file.lastModifiedDate.toLocaleDateString() :\n",
              "                                    'n/a'} - `));\n",
              "    const percent = span('0% done');\n",
              "    li.appendChild(percent);\n",
              "\n",
              "    outputElement.appendChild(li);\n",
              "\n",
              "    const fileDataPromise = new Promise((resolve) => {\n",
              "      const reader = new FileReader();\n",
              "      reader.onload = (e) => {\n",
              "        resolve(e.target.result);\n",
              "      };\n",
              "      reader.readAsArrayBuffer(file);\n",
              "    });\n",
              "    // Wait for the data to be ready.\n",
              "    let fileData = yield {\n",
              "      promise: fileDataPromise,\n",
              "      response: {\n",
              "        action: 'continue',\n",
              "      }\n",
              "    };\n",
              "\n",
              "    // Use a chunked sending to avoid message size limits. See b/62115660.\n",
              "    let position = 0;\n",
              "    do {\n",
              "      const length = Math.min(fileData.byteLength - position, MAX_PAYLOAD_SIZE);\n",
              "      const chunk = new Uint8Array(fileData, position, length);\n",
              "      position += length;\n",
              "\n",
              "      const base64 = btoa(String.fromCharCode.apply(null, chunk));\n",
              "      yield {\n",
              "        response: {\n",
              "          action: 'append',\n",
              "          file: file.name,\n",
              "          data: base64,\n",
              "        },\n",
              "      };\n",
              "\n",
              "      let percentDone = fileData.byteLength === 0 ?\n",
              "          100 :\n",
              "          Math.round((position / fileData.byteLength) * 100);\n",
              "      percent.textContent = `${percentDone}% done`;\n",
              "\n",
              "    } while (position < fileData.byteLength);\n",
              "  }\n",
              "\n",
              "  // All done.\n",
              "  yield {\n",
              "    response: {\n",
              "      action: 'complete',\n",
              "    }\n",
              "  };\n",
              "}\n",
              "\n",
              "scope.google = scope.google || {};\n",
              "scope.google.colab = scope.google.colab || {};\n",
              "scope.google.colab._files = {\n",
              "  _uploadFiles,\n",
              "  _uploadFilesContinue,\n",
              "};\n",
              "})(self);\n",
              "</script> "
            ]
          },
          "metadata": {}
        },
        {
          "output_type": "stream",
          "name": "stdout",
          "text": [
            "Saving preprocessed_kindle_review .csv to preprocessed_kindle_review .csv\n"
          ]
        }
      ],
      "source": [
        "from google.colab import files\n",
        "uploaded = files.upload()"
      ]
    },
    {
      "cell_type": "code",
      "execution_count": 46,
      "id": "fpcnH56QkJPM",
      "metadata": {
        "id": "fpcnH56QkJPM"
      },
      "outputs": [],
      "source": [
        "import io\n",
        "df = pd.read_csv(io.BytesIO(uploaded[\"preprocessed_kindle_review .csv\"]))"
      ]
    },
    {
      "cell_type": "markdown",
      "id": "09e9214e",
      "metadata": {
        "id": "09e9214e"
      },
      "source": [
        "## Printing dimension of the data"
      ]
    },
    {
      "cell_type": "code",
      "execution_count": 47,
      "id": "922d7e6d",
      "metadata": {
        "colab": {
          "base_uri": "https://localhost:8080/"
        },
        "execution": {
          "iopub.execute_input": "2022-03-20T07:58:27.576539Z",
          "iopub.status.busy": "2022-03-20T07:58:27.575619Z",
          "iopub.status.idle": "2022-03-20T07:58:27.579845Z",
          "shell.execute_reply": "2022-03-20T07:58:27.580334Z",
          "shell.execute_reply.started": "2022-03-20T07:14:38.522336Z"
        },
        "id": "922d7e6d",
        "outputId": "d8d2557b-7998-4ab0-92fd-bed6bbb51fb6",
        "papermill": {
          "duration": 0.077359,
          "end_time": "2022-03-20T07:58:27.580501",
          "exception": false,
          "start_time": "2022-03-20T07:58:27.503142",
          "status": "completed"
        },
        "tags": []
      },
      "outputs": [
        {
          "output_type": "execute_result",
          "data": {
            "text/plain": [
              "(12000, 4)"
            ]
          },
          "metadata": {},
          "execution_count": 47
        }
      ],
      "source": [
        "df.shape"
      ]
    },
    {
      "cell_type": "markdown",
      "id": "54d6e034",
      "metadata": {
        "id": "54d6e034"
      },
      "source": [
        "## Displaying all the columns of the dataset"
      ]
    },
    {
      "cell_type": "code",
      "execution_count": 48,
      "id": "896c6b54",
      "metadata": {
        "colab": {
          "base_uri": "https://localhost:8080/"
        },
        "execution": {
          "iopub.execute_input": "2022-03-20T07:58:27.714847Z",
          "iopub.status.busy": "2022-03-20T07:58:27.713836Z",
          "iopub.status.idle": "2022-03-20T07:58:27.719770Z",
          "shell.execute_reply": "2022-03-20T07:58:27.720360Z",
          "shell.execute_reply.started": "2022-03-20T07:14:38.532075Z"
        },
        "id": "896c6b54",
        "outputId": "cde76370-6033-46ea-ee0a-4f7caec457be",
        "papermill": {
          "duration": 0.074417,
          "end_time": "2022-03-20T07:58:27.720541",
          "exception": false,
          "start_time": "2022-03-20T07:58:27.646124",
          "status": "completed"
        },
        "tags": []
      },
      "outputs": [
        {
          "output_type": "execute_result",
          "data": {
            "text/plain": [
              "Index(['Unnamed: 0', 'rating', 'reviewText', 'summary'], dtype='object')"
            ]
          },
          "metadata": {},
          "execution_count": 48
        }
      ],
      "source": [
        "df.columns"
      ]
    },
    {
      "cell_type": "markdown",
      "id": "dc8f4b95",
      "metadata": {
        "id": "dc8f4b95"
      },
      "source": [
        "## Quick review of the dataset"
      ]
    },
    {
      "cell_type": "code",
      "execution_count": 49,
      "id": "cf10406a",
      "metadata": {
        "colab": {
          "base_uri": "https://localhost:8080/",
          "height": 206
        },
        "execution": {
          "iopub.execute_input": "2022-03-20T07:58:27.854780Z",
          "iopub.status.busy": "2022-03-20T07:58:27.853800Z",
          "iopub.status.idle": "2022-03-20T07:58:27.871548Z",
          "shell.execute_reply": "2022-03-20T07:58:27.872099Z",
          "shell.execute_reply.started": "2022-03-20T07:14:38.552293Z"
        },
        "id": "cf10406a",
        "outputId": "dea92d27-3425-4bc0-e1ed-481036784f5a",
        "papermill": {
          "duration": 0.086369,
          "end_time": "2022-03-20T07:58:27.872279",
          "exception": false,
          "start_time": "2022-03-20T07:58:27.785910",
          "status": "completed"
        },
        "tags": []
      },
      "outputs": [
        {
          "output_type": "execute_result",
          "data": {
            "text/plain": [
              "   Unnamed: 0  rating                                         reviewText  \\\n",
              "0           0       5  This book was the very first bookmobile book I...   \n",
              "1           1       1  When I read the description for this book, I c...   \n",
              "2           2       5  I just had to edit this review. This book is a...   \n",
              "3           3       5  I don't normally buy 'mystery' novels because ...   \n",
              "4           4       5  This isn't the kind of book I normally read, a...   \n",
              "\n",
              "                           summary  \n",
              "0                50 + years ago...  \n",
              "1          Boring! Boring! Boring!  \n",
              "2  Wiggleliscious/new toy ready/!!  \n",
              "3                  Very good read.  \n",
              "4                     Great Story!  "
            ],
            "text/html": [
              "\n",
              "  <div id=\"df-a4bf65bb-5634-460a-99f7-350fe2782511\">\n",
              "    <div class=\"colab-df-container\">\n",
              "      <div>\n",
              "<style scoped>\n",
              "    .dataframe tbody tr th:only-of-type {\n",
              "        vertical-align: middle;\n",
              "    }\n",
              "\n",
              "    .dataframe tbody tr th {\n",
              "        vertical-align: top;\n",
              "    }\n",
              "\n",
              "    .dataframe thead th {\n",
              "        text-align: right;\n",
              "    }\n",
              "</style>\n",
              "<table border=\"1\" class=\"dataframe\">\n",
              "  <thead>\n",
              "    <tr style=\"text-align: right;\">\n",
              "      <th></th>\n",
              "      <th>Unnamed: 0</th>\n",
              "      <th>rating</th>\n",
              "      <th>reviewText</th>\n",
              "      <th>summary</th>\n",
              "    </tr>\n",
              "  </thead>\n",
              "  <tbody>\n",
              "    <tr>\n",
              "      <th>0</th>\n",
              "      <td>0</td>\n",
              "      <td>5</td>\n",
              "      <td>This book was the very first bookmobile book I...</td>\n",
              "      <td>50 + years ago...</td>\n",
              "    </tr>\n",
              "    <tr>\n",
              "      <th>1</th>\n",
              "      <td>1</td>\n",
              "      <td>1</td>\n",
              "      <td>When I read the description for this book, I c...</td>\n",
              "      <td>Boring! Boring! Boring!</td>\n",
              "    </tr>\n",
              "    <tr>\n",
              "      <th>2</th>\n",
              "      <td>2</td>\n",
              "      <td>5</td>\n",
              "      <td>I just had to edit this review. This book is a...</td>\n",
              "      <td>Wiggleliscious/new toy ready/!!</td>\n",
              "    </tr>\n",
              "    <tr>\n",
              "      <th>3</th>\n",
              "      <td>3</td>\n",
              "      <td>5</td>\n",
              "      <td>I don't normally buy 'mystery' novels because ...</td>\n",
              "      <td>Very good read.</td>\n",
              "    </tr>\n",
              "    <tr>\n",
              "      <th>4</th>\n",
              "      <td>4</td>\n",
              "      <td>5</td>\n",
              "      <td>This isn't the kind of book I normally read, a...</td>\n",
              "      <td>Great Story!</td>\n",
              "    </tr>\n",
              "  </tbody>\n",
              "</table>\n",
              "</div>\n",
              "      <button class=\"colab-df-convert\" onclick=\"convertToInteractive('df-a4bf65bb-5634-460a-99f7-350fe2782511')\"\n",
              "              title=\"Convert this dataframe to an interactive table.\"\n",
              "              style=\"display:none;\">\n",
              "        \n",
              "  <svg xmlns=\"http://www.w3.org/2000/svg\" height=\"24px\"viewBox=\"0 0 24 24\"\n",
              "       width=\"24px\">\n",
              "    <path d=\"M0 0h24v24H0V0z\" fill=\"none\"/>\n",
              "    <path d=\"M18.56 5.44l.94 2.06.94-2.06 2.06-.94-2.06-.94-.94-2.06-.94 2.06-2.06.94zm-11 1L8.5 8.5l.94-2.06 2.06-.94-2.06-.94L8.5 2.5l-.94 2.06-2.06.94zm10 10l.94 2.06.94-2.06 2.06-.94-2.06-.94-.94-2.06-.94 2.06-2.06.94z\"/><path d=\"M17.41 7.96l-1.37-1.37c-.4-.4-.92-.59-1.43-.59-.52 0-1.04.2-1.43.59L10.3 9.45l-7.72 7.72c-.78.78-.78 2.05 0 2.83L4 21.41c.39.39.9.59 1.41.59.51 0 1.02-.2 1.41-.59l7.78-7.78 2.81-2.81c.8-.78.8-2.07 0-2.86zM5.41 20L4 18.59l7.72-7.72 1.47 1.35L5.41 20z\"/>\n",
              "  </svg>\n",
              "      </button>\n",
              "      \n",
              "  <style>\n",
              "    .colab-df-container {\n",
              "      display:flex;\n",
              "      flex-wrap:wrap;\n",
              "      gap: 12px;\n",
              "    }\n",
              "\n",
              "    .colab-df-convert {\n",
              "      background-color: #E8F0FE;\n",
              "      border: none;\n",
              "      border-radius: 50%;\n",
              "      cursor: pointer;\n",
              "      display: none;\n",
              "      fill: #1967D2;\n",
              "      height: 32px;\n",
              "      padding: 0 0 0 0;\n",
              "      width: 32px;\n",
              "    }\n",
              "\n",
              "    .colab-df-convert:hover {\n",
              "      background-color: #E2EBFA;\n",
              "      box-shadow: 0px 1px 2px rgba(60, 64, 67, 0.3), 0px 1px 3px 1px rgba(60, 64, 67, 0.15);\n",
              "      fill: #174EA6;\n",
              "    }\n",
              "\n",
              "    [theme=dark] .colab-df-convert {\n",
              "      background-color: #3B4455;\n",
              "      fill: #D2E3FC;\n",
              "    }\n",
              "\n",
              "    [theme=dark] .colab-df-convert:hover {\n",
              "      background-color: #434B5C;\n",
              "      box-shadow: 0px 1px 3px 1px rgba(0, 0, 0, 0.15);\n",
              "      filter: drop-shadow(0px 1px 2px rgba(0, 0, 0, 0.3));\n",
              "      fill: #FFFFFF;\n",
              "    }\n",
              "  </style>\n",
              "\n",
              "      <script>\n",
              "        const buttonEl =\n",
              "          document.querySelector('#df-a4bf65bb-5634-460a-99f7-350fe2782511 button.colab-df-convert');\n",
              "        buttonEl.style.display =\n",
              "          google.colab.kernel.accessAllowed ? 'block' : 'none';\n",
              "\n",
              "        async function convertToInteractive(key) {\n",
              "          const element = document.querySelector('#df-a4bf65bb-5634-460a-99f7-350fe2782511');\n",
              "          const dataTable =\n",
              "            await google.colab.kernel.invokeFunction('convertToInteractive',\n",
              "                                                     [key], {});\n",
              "          if (!dataTable) return;\n",
              "\n",
              "          const docLinkHtml = 'Like what you see? Visit the ' +\n",
              "            '<a target=\"_blank\" href=https://colab.research.google.com/notebooks/data_table.ipynb>data table notebook</a>'\n",
              "            + ' to learn more about interactive tables.';\n",
              "          element.innerHTML = '';\n",
              "          dataTable['output_type'] = 'display_data';\n",
              "          await google.colab.output.renderOutput(dataTable, element);\n",
              "          const docLink = document.createElement('div');\n",
              "          docLink.innerHTML = docLinkHtml;\n",
              "          element.appendChild(docLink);\n",
              "        }\n",
              "      </script>\n",
              "    </div>\n",
              "  </div>\n",
              "  "
            ]
          },
          "metadata": {},
          "execution_count": 49
        }
      ],
      "source": [
        "df.head()"
      ]
    },
    {
      "cell_type": "markdown",
      "id": "1830c025",
      "metadata": {
        "id": "1830c025"
      },
      "source": [
        "## Printing the first review from the dataset"
      ]
    },
    {
      "cell_type": "code",
      "execution_count": 50,
      "id": "83c7ae5f",
      "metadata": {
        "colab": {
          "base_uri": "https://localhost:8080/",
          "height": 54
        },
        "execution": {
          "iopub.execute_input": "2022-03-20T07:58:28.010266Z",
          "iopub.status.busy": "2022-03-20T07:58:28.009299Z",
          "iopub.status.idle": "2022-03-20T07:58:28.017561Z",
          "shell.execute_reply": "2022-03-20T07:58:28.018134Z",
          "shell.execute_reply.started": "2022-03-20T07:14:38.574401Z"
        },
        "id": "83c7ae5f",
        "outputId": "4ce3ef42-4977-48fc-a378-338e42972804",
        "papermill": {
          "duration": 0.07838,
          "end_time": "2022-03-20T07:58:28.018308",
          "exception": false,
          "start_time": "2022-03-20T07:58:27.939928",
          "status": "completed"
        },
        "tags": []
      },
      "outputs": [
        {
          "output_type": "execute_result",
          "data": {
            "text/plain": [
              "'This book was the very first bookmobile book I bought when I was in the school book club. I loved the story then and I bet a dollar to a donut I will love it again. If my memory serves, I bought this book in 5th grade. That would have been about 1961. I am looking forward to reliving the memories.'"
            ],
            "application/vnd.google.colaboratory.intrinsic+json": {
              "type": "string"
            }
          },
          "metadata": {},
          "execution_count": 50
        }
      ],
      "source": [
        "df.reviewText[0]"
      ]
    },
    {
      "cell_type": "markdown",
      "id": "50d1f094",
      "metadata": {
        "id": "50d1f094"
      },
      "source": [
        "## Checking for null values"
      ]
    },
    {
      "cell_type": "code",
      "execution_count": 51,
      "id": "f5f11163",
      "metadata": {
        "colab": {
          "base_uri": "https://localhost:8080/"
        },
        "execution": {
          "iopub.execute_input": "2022-03-20T07:58:28.310626Z",
          "iopub.status.busy": "2022-03-20T07:58:28.309752Z",
          "iopub.status.idle": "2022-03-20T07:58:28.313036Z",
          "shell.execute_reply": "2022-03-20T07:58:28.313532Z",
          "shell.execute_reply.started": "2022-03-20T07:14:38.60517Z"
        },
        "id": "f5f11163",
        "outputId": "8771a957-f507-4777-d663-416622695c48",
        "papermill": {
          "duration": 0.082322,
          "end_time": "2022-03-20T07:58:28.313722",
          "exception": false,
          "start_time": "2022-03-20T07:58:28.231400",
          "status": "completed"
        },
        "tags": []
      },
      "outputs": [
        {
          "output_type": "execute_result",
          "data": {
            "text/plain": [
              "Unnamed: 0    0\n",
              "rating        0\n",
              "reviewText    0\n",
              "summary       0\n",
              "dtype: int64"
            ]
          },
          "metadata": {},
          "execution_count": 51
        }
      ],
      "source": [
        "df.isnull().sum()"
      ]
    },
    {
      "cell_type": "markdown",
      "id": "45477daa",
      "metadata": {
        "id": "45477daa"
      },
      "source": [
        "## The number of each rating"
      ]
    },
    {
      "cell_type": "code",
      "execution_count": 52,
      "id": "42778d18",
      "metadata": {
        "colab": {
          "base_uri": "https://localhost:8080/"
        },
        "execution": {
          "iopub.execute_input": "2022-03-20T07:58:28.154508Z",
          "iopub.status.busy": "2022-03-20T07:58:28.153542Z",
          "iopub.status.idle": "2022-03-20T07:58:28.164388Z",
          "shell.execute_reply": "2022-03-20T07:58:28.164982Z",
          "shell.execute_reply.started": "2022-03-20T07:14:38.585321Z"
        },
        "id": "42778d18",
        "outputId": "0e3e650b-71ab-49a9-95e9-e8677c9efff6",
        "papermill": {
          "duration": 0.079856,
          "end_time": "2022-03-20T07:58:28.165157",
          "exception": false,
          "start_time": "2022-03-20T07:58:28.085301",
          "status": "completed"
        },
        "tags": []
      },
      "outputs": [
        {
          "output_type": "execute_result",
          "data": {
            "text/plain": [
              "5    3000\n",
              "4    3000\n",
              "1    2000\n",
              "3    2000\n",
              "2    2000\n",
              "Name: rating, dtype: int64"
            ]
          },
          "metadata": {},
          "execution_count": 52
        }
      ],
      "source": [
        "# value_counts() function returns object containing counts of unique values. \n",
        "# The resulting object will be in descending order so that the first element is the most frequently-occurring element.\n",
        "\n",
        "a = df.rating.value_counts()\n",
        "a"
      ]
    },
    {
      "cell_type": "markdown",
      "id": "7610b5dc",
      "metadata": {
        "id": "7610b5dc"
      },
      "source": [
        "## Distribution of rating"
      ]
    },
    {
      "cell_type": "code",
      "execution_count": 53,
      "id": "dc4cd1fb",
      "metadata": {
        "_kg_hide-input": true,
        "colab": {
          "base_uri": "https://localhost:8080/",
          "height": 295
        },
        "execution": {
          "iopub.execute_input": "2022-03-20T07:58:28.453748Z",
          "iopub.status.busy": "2022-03-20T07:58:28.452603Z",
          "iopub.status.idle": "2022-03-20T07:58:28.671750Z",
          "shell.execute_reply": "2022-03-20T07:58:28.671216Z",
          "shell.execute_reply.started": "2022-03-20T07:14:38.630423Z"
        },
        "id": "dc4cd1fb",
        "outputId": "5a9f306b-757d-4655-8fd3-c37af6910820",
        "papermill": {
          "duration": 0.288667,
          "end_time": "2022-03-20T07:58:28.671899",
          "exception": false,
          "start_time": "2022-03-20T07:58:28.383232",
          "status": "completed"
        },
        "tags": []
      },
      "outputs": [
        {
          "output_type": "display_data",
          "data": {
            "text/plain": [
              "<Figure size 432x288 with 1 Axes>"
            ],
            "image/png": "[encoded data removed]"
          },
          "metadata": {}
        }
      ],
      "source": [
        "# PLotting Rating histogram\n",
        "\n",
        "sns.countplot(df.rating)\n",
        "sns.set_style('whitegrid')\n",
        "plt.title(\"Distribution of rating using Matplotlib\")\n",
        "plt.show()"
      ]
    },
    {
      "cell_type": "code",
      "execution_count": 54,
      "id": "5fb2d983",
      "metadata": {
        "colab": {
          "base_uri": "https://localhost:8080/",
          "height": 542
        },
        "execution": {
          "iopub.execute_input": "2022-03-20T07:58:28.808895Z",
          "iopub.status.busy": "2022-03-20T07:58:28.807947Z",
          "iopub.status.idle": "2022-03-20T07:58:28.903135Z",
          "shell.execute_reply": "2022-03-20T07:58:28.903848Z",
          "shell.execute_reply.started": "2022-03-20T07:14:38.875492Z"
        },
        "id": "5fb2d983",
        "outputId": "9baccd33-c484-4201-a594-3291005f059e",
        "papermill": {
          "duration": 0.16652,
          "end_time": "2022-03-20T07:58:28.904065",
          "exception": false,
          "start_time": "2022-03-20T07:58:28.737545",
          "status": "completed"
        },
        "tags": []
      },
      "outputs": [
        {
          "output_type": "display_data",
          "data": {
            "text/html": [
              "<html>\n",
              "<head><meta charset=\"utf-8\" /></head>\n",
              "<body>\n",
              "    <div>            <script src=\"https://cdnjs.cloudflare.com/ajax/libs/mathjax/2.7.5/MathJax.js?config=TeX-AMS-MML_SVG\"></script><script type=\"text/javascript\">if (window.MathJax) {MathJax.Hub.Config({SVG: {font: \"STIX-Web\"}});}</script>                <script type=\"text/javascript\">window.PlotlyConfig = {MathJaxConfig: 'local'};</script>\n",
              "        <script src=\"https://cdn.plot.ly/plotly-2.8.3.min.js\"></script>                <div id=\"86bb8323-1d79-4e23-b88a-4547e37f5308\" class=\"plotly-graph-div\" style=\"height:525px; width:100%;\"></div>            <script type=\"text/javascript\">                                    window.PLOTLYENV=window.PLOTLYENV || {};                                    if (document.getElementById(\"86bb8323-1d79-4e23-b88a-4547e37f5308\")) {                    Plotly.newPlot(                        \"86bb8323-1d79-4e23-b88a-4547e37f5308\",                        [{\"text\":[3000.0,3000.0,2000.0,2000.0,2000.0],\"x\":[5,4,1,3,2],\"y\":[3000,3000,2000,2000,2000],\"type\":\"bar\"}],                        {\"template\":{\"data\":{\"bar\":[{\"error_x\":{\"color\":\"#2a3f5f\"},\"error_y\":{\"color\":\"#2a3f5f\"},\"marker\":{\"line\":{\"color\":\"#E5ECF6\",\"width\":0.5},\"pattern\":{\"fillmode\":\"overlay\",\"size\":10,\"solidity\":0.2}},\"type\":\"bar\"}],\"barpolar\":[{\"marker\":{\"line\":{\"color\":\"#E5ECF6\",\"width\":0.5},\"pattern\":{\"fillmode\":\"overlay\",\"size\":10,\"solidity\":0.2}},\"type\":\"barpolar\"}],\"carpet\":[{\"aaxis\":{\"endlinecolor\":\"#2a3f5f\",\"gridcolor\":\"white\",\"linecolor\":\"white\",\"minorgridcolor\":\"white\",\"startlinecolor\":\"#2a3f5f\"},\"baxis\":{\"endlinecolor\":\"#2a3f5f\",\"gridcolor\":\"white\",\"linecolor\":\"white\",\"minorgridcolor\":\"white\",\"startlinecolor\":\"#2a3f5f\"},\"type\":\"carpet\"}],\"choropleth\":[{\"colorbar\":{\"outlinewidth\":0,\"ticks\":\"\"},\"type\":\"choropleth\"}],\"contour\":[{\"colorbar\":{\"outlinewidth\":0,\"ticks\":\"\"},\"colorscale\":[[0.0,\"#0d0887\"],[0.1111111111111111,\"#46039f\"],[0.2222222222222222,\"#7201a8\"],[0.3333333333333333,\"#9c179e\"],[0.4444444444444444,\"#bd3786\"],[0.5555555555555556,\"#d8576b\"],[0.6666666666666666,\"#ed7953\"],[0.7777777777777778,\"#fb9f3a\"],[0.8888888888888888,\"#fdca26\"],[1.0,\"#f0f921\"]],\"type\":\"contour\"}],\"contourcarpet\":[{\"colorbar\":{\"outlinewidth\":0,\"ticks\":\"\"},\"type\":\"contourcarpet\"}],\"heatmap\":[{\"colorbar\":{\"outlinewidth\":0,\"ticks\":\"\"},\"colorscale\":[[0.0,\"#0d0887\"],[0.1111111111111111,\"#46039f\"],[0.2222222222222222,\"#7201a8\"],[0.3333333333333333,\"#9c179e\"],[0.4444444444444444,\"#bd3786\"],[0.5555555555555556,\"#d8576b\"],[0.6666666666666666,\"#ed7953\"],[0.7777777777777778,\"#fb9f3a\"],[0.8888888888888888,\"#fdca26\"],[1.0,\"#f0f921\"]],\"type\":\"heatmap\"}],\"heatmapgl\":[{\"colorbar\":{\"outlinewidth\":0,\"ticks\":\"\"},\"colorscale\":[[0.0,\"#0d0887\"],[0.1111111111111111,\"#46039f\"],[0.2222222222222222,\"#7201a8\"],[0.3333333333333333,\"#9c179e\"],[0.4444444444444444,\"#bd3786\"],[0.5555555555555556,\"#d8576b\"],[0.6666666666666666,\"#ed7953\"],[0.7777777777777778,\"#fb9f3a\"],[0.8888888888888888,\"#fdca26\"],[1.0,\"#f0f921\"]],\"type\":\"heatmapgl\"}],\"histogram\":[{\"marker\":{\"pattern\":{\"fillmode\":\"overlay\",\"size\":10,\"solidity\":0.2}},\"type\":\"histogram\"}],\"histogram2d\":[{\"colorbar\":{\"outlinewidth\":0,\"ticks\":\"\"},\"colorscale\":[[0.0,\"#0d0887\"],[0.1111111111111111,\"#46039f\"],[0.2222222222222222,\"#7201a8\"],[0.3333333333333333,\"#9c179e\"],[0.4444444444444444,\"#bd3786\"],[0.5555555555555556,\"#d8576b\"],[0.6666666666666666,\"#ed7953\"],[0.7777777777777778,\"#fb9f3a\"],[0.8888888888888888,\"#fdca26\"],[1.0,\"#f0f921\"]],\"type\":\"histogram2d\"}],\"histogram2dcontour\":[{\"colorbar\":{\"outlinewidth\":0,\"ticks\":\"\"},\"colorscale\":[[0.0,\"#0d0887\"],[0.1111111111111111,\"#46039f\"],[0.2222222222222222,\"#7201a8\"],[0.3333333333333333,\"#9c179e\"],[0.4444444444444444,\"#bd3786\"],[0.5555555555555556,\"#d8576b\"],[0.6666666666666666,\"#ed7953\"],[0.7777777777777778,\"#fb9f3a\"],[0.8888888888888888,\"#fdca26\"],[1.0,\"#f0f921\"]],\"type\":\"histogram2dcontour\"}],\"mesh3d\":[{\"colorbar\":{\"outlinewidth\":0,\"ticks\":\"\"},\"type\":\"mesh3d\"}],\"parcoords\":[{\"line\":{\"colorbar\":{\"outlinewidth\":0,\"ticks\":\"\"}},\"type\":\"parcoords\"}],\"pie\":[{\"automargin\":true,\"type\":\"pie\"}],\"scatter\":[{\"marker\":{\"colorbar\":{\"outlinewidth\":0,\"ticks\":\"\"}},\"type\":\"scatter\"}],\"scatter3d\":[{\"line\":{\"colorbar\":{\"outlinewidth\":0,\"ticks\":\"\"}},\"marker\":{\"colorbar\":{\"outlinewidth\":0,\"ticks\":\"\"}},\"type\":\"scatter3d\"}],\"scattercarpet\":[{\"marker\":{\"colorbar\":{\"outlinewidth\":0,\"ticks\":\"\"}},\"type\":\"scattercarpet\"}],\"scattergeo\":[{\"marker\":{\"colorbar\":{\"outlinewidth\":0,\"ticks\":\"\"}},\"type\":\"scattergeo\"}],\"scattergl\":[{\"marker\":{\"colorbar\":{\"outlinewidth\":0,\"ticks\":\"\"}},\"type\":\"scattergl\"}],\"scattermapbox\":[{\"marker\":{\"colorbar\":{\"outlinewidth\":0,\"ticks\":\"\"}},\"type\":\"scattermapbox\"}],\"scatterpolar\":[{\"marker\":{\"colorbar\":{\"outlinewidth\":0,\"ticks\":\"\"}},\"type\":\"scatterpolar\"}],\"scatterpolargl\":[{\"marker\":{\"colorbar\":{\"outlinewidth\":0,\"ticks\":\"\"}},\"type\":\"scatterpolargl\"}],\"scatterternary\":[{\"marker\":{\"colorbar\":{\"outlinewidth\":0,\"ticks\":\"\"}},\"type\":\"scatterternary\"}],\"surface\":[{\"colorbar\":{\"outlinewidth\":0,\"ticks\":\"\"},\"colorscale\":[[0.0,\"#0d0887\"],[0.1111111111111111,\"#46039f\"],[0.2222222222222222,\"#7201a8\"],[0.3333333333333333,\"#9c179e\"],[0.4444444444444444,\"#bd3786\"],[0.5555555555555556,\"#d8576b\"],[0.6666666666666666,\"#ed7953\"],[0.7777777777777778,\"#fb9f3a\"],[0.8888888888888888,\"#fdca26\"],[1.0,\"#f0f921\"]],\"type\":\"surface\"}],\"table\":[{\"cells\":{\"fill\":{\"color\":\"#EBF0F8\"},\"line\":{\"color\":\"white\"}},\"header\":{\"fill\":{\"color\":\"#C8D4E3\"},\"line\":{\"color\":\"white\"}},\"type\":\"table\"}]},\"layout\":{\"annotationdefaults\":{\"arrowcolor\":\"#2a3f5f\",\"arrowhead\":0,\"arrowwidth\":1},\"autotypenumbers\":\"strict\",\"coloraxis\":{\"colorbar\":{\"outlinewidth\":0,\"ticks\":\"\"}},\"colorscale\":{\"diverging\":[[0,\"#8e0152\"],[0.1,\"#c51b7d\"],[0.2,\"#de77ae\"],[0.3,\"#f1b6da\"],[0.4,\"#fde0ef\"],[0.5,\"#f7f7f7\"],[0.6,\"#e6f5d0\"],[0.7,\"#b8e186\"],[0.8,\"#7fbc41\"],[0.9,\"#4d9221\"],[1,\"#276419\"]],\"sequential\":[[0.0,\"#0d0887\"],[0.1111111111111111,\"#46039f\"],[0.2222222222222222,\"#7201a8\"],[0.3333333333333333,\"#9c179e\"],[0.4444444444444444,\"#bd3786\"],[0.5555555555555556,\"#d8576b\"],[0.6666666666666666,\"#ed7953\"],[0.7777777777777778,\"#fb9f3a\"],[0.8888888888888888,\"#fdca26\"],[1.0,\"#f0f921\"]],\"sequentialminus\":[[0.0,\"#0d0887\"],[0.1111111111111111,\"#46039f\"],[0.2222222222222222,\"#7201a8\"],[0.3333333333333333,\"#9c179e\"],[0.4444444444444444,\"#bd3786\"],[0.5555555555555556,\"#d8576b\"],[0.6666666666666666,\"#ed7953\"],[0.7777777777777778,\"#fb9f3a\"],[0.8888888888888888,\"#fdca26\"],[1.0,\"#f0f921\"]]},\"colorway\":[\"#636efa\",\"#EF553B\",\"#00cc96\",\"#ab63fa\",\"#FFA15A\",\"#19d3f3\",\"#FF6692\",\"#B6E880\",\"#FF97FF\",\"#FECB52\"],\"font\":{\"color\":\"#2a3f5f\"},\"geo\":{\"bgcolor\":\"white\",\"lakecolor\":\"white\",\"landcolor\":\"#E5ECF6\",\"showlakes\":true,\"showland\":true,\"subunitcolor\":\"white\"},\"hoverlabel\":{\"align\":\"left\"},\"hovermode\":\"closest\",\"mapbox\":{\"style\":\"light\"},\"paper_bgcolor\":\"white\",\"plot_bgcolor\":\"#E5ECF6\",\"polar\":{\"angularaxis\":{\"gridcolor\":\"white\",\"linecolor\":\"white\",\"ticks\":\"\"},\"bgcolor\":\"#E5ECF6\",\"radialaxis\":{\"gridcolor\":\"white\",\"linecolor\":\"white\",\"ticks\":\"\"}},\"scene\":{\"xaxis\":{\"backgroundcolor\":\"#E5ECF6\",\"gridcolor\":\"white\",\"gridwidth\":2,\"linecolor\":\"white\",\"showbackground\":true,\"ticks\":\"\",\"zerolinecolor\":\"white\"},\"yaxis\":{\"backgroundcolor\":\"#E5ECF6\",\"gridcolor\":\"white\",\"gridwidth\":2,\"linecolor\":\"white\",\"showbackground\":true,\"ticks\":\"\",\"zerolinecolor\":\"white\"},\"zaxis\":{\"backgroundcolor\":\"#E5ECF6\",\"gridcolor\":\"white\",\"gridwidth\":2,\"linecolor\":\"white\",\"showbackground\":true,\"ticks\":\"\",\"zerolinecolor\":\"white\"}},\"shapedefaults\":{\"line\":{\"color\":\"#2a3f5f\"}},\"ternary\":{\"aaxis\":{\"gridcolor\":\"white\",\"linecolor\":\"white\",\"ticks\":\"\"},\"baxis\":{\"gridcolor\":\"white\",\"linecolor\":\"white\",\"ticks\":\"\"},\"bgcolor\":\"#E5ECF6\",\"caxis\":{\"gridcolor\":\"white\",\"linecolor\":\"white\",\"ticks\":\"\"}},\"title\":{\"x\":0.05},\"xaxis\":{\"automargin\":true,\"gridcolor\":\"white\",\"linecolor\":\"white\",\"ticks\":\"\",\"title\":{\"standoff\":15},\"zerolinecolor\":\"white\",\"zerolinewidth\":2},\"yaxis\":{\"automargin\":true,\"gridcolor\":\"white\",\"linecolor\":\"white\",\"ticks\":\"\",\"title\":{\"standoff\":15},\"zerolinecolor\":\"white\",\"zerolinewidth\":2}}},\"title\":{\"text\":\"Distribution of the Rating using ploty\"}},                        {\"responsive\": true}                    ).then(function(){\n",
              "                            \n",
              "var gd = document.getElementById('86bb8323-1d79-4e23-b88a-4547e37f5308');\n",
              "var x = new MutationObserver(function (mutations, observer) {{\n",
              "        var display = window.getComputedStyle(gd).display;\n",
              "        if (!display || display === 'none') {{\n",
              "            console.log([gd, 'removed!']);\n",
              "            Plotly.purge(gd);\n",
              "            observer.disconnect();\n",
              "        }}\n",
              "}});\n",
              "\n",
              "// Listen for the removal of the full notebook cells\n",
              "var notebookContainer = gd.closest('#notebook-container');\n",
              "if (notebookContainer) {{\n",
              "    x.observe(notebookContainer, {childList: true});\n",
              "}}\n",
              "\n",
              "// Listen for the clearing of the current output cell\n",
              "var outputEl = gd.closest('.output');\n",
              "if (outputEl) {{\n",
              "    x.observe(outputEl, {childList: true});\n",
              "}}\n",
              "\n",
              "                        })                };                            </script>        </div>\n",
              "</body>\n",
              "</html>"
            ]
          },
          "metadata": {}
        }
      ],
      "source": [
        "# PLotting Rating using ploty\n",
        "\n",
        "fig = go.Figure([go.Bar(x=a.index, y=a.values,text=a.values)])\n",
        "fig.update_layout(title='Distribution of the Rating using ploty')\n",
        "fig.show()"
      ]
    },
    {
      "cell_type": "markdown",
      "id": "88f5e507",
      "metadata": {
        "id": "88f5e507",
        "papermill": {
          "duration": 0.070161,
          "end_time": "2022-03-20T07:58:29.043083",
          "exception": false,
          "start_time": "2022-03-20T07:58:28.972922",
          "status": "completed"
        },
        "tags": []
      },
      "source": [
        "# Preprocessing Data"
      ]
    },
    {
      "cell_type": "markdown",
      "id": "d3b8c94f",
      "metadata": {
        "id": "d3b8c94f",
        "papermill": {
          "duration": 0.066099,
          "end_time": "2022-03-20T07:58:29.178768",
          "exception": false,
          "start_time": "2022-03-20T07:58:29.112669",
          "status": "completed"
        },
        "tags": []
      },
      "source": [
        "### Dropping columns that are not needed"
      ]
    },
    {
      "cell_type": "code",
      "execution_count": 55,
      "id": "2ec7bb72",
      "metadata": {
        "_kg_hide-input": true,
        "colab": {
          "base_uri": "https://localhost:8080/"
        },
        "execution": {
          "iopub.execute_input": "2022-03-20T07:58:29.320365Z",
          "iopub.status.busy": "2022-03-20T07:58:29.319362Z",
          "iopub.status.idle": "2022-03-20T07:58:29.325068Z",
          "shell.execute_reply": "2022-03-20T07:58:29.325534Z",
          "shell.execute_reply.started": "2022-03-20T07:14:38.895572Z"
        },
        "id": "2ec7bb72",
        "outputId": "be3370f8-08cf-4845-d33a-172f38246829",
        "papermill": {
          "duration": 0.076895,
          "end_time": "2022-03-20T07:58:29.325735",
          "exception": false,
          "start_time": "2022-03-20T07:58:29.248840",
          "status": "completed"
        },
        "tags": []
      },
      "outputs": [
        {
          "output_type": "execute_result",
          "data": {
            "text/plain": [
              "Index(['Unnamed: 0', 'rating', 'reviewText', 'summary'], dtype='object')"
            ]
          },
          "metadata": {},
          "execution_count": 55
        }
      ],
      "source": [
        "df.columns"
      ]
    },
    {
      "cell_type": "code",
      "execution_count": 56,
      "id": "8385b33c",
      "metadata": {
        "execution": {
          "iopub.execute_input": "2022-03-20T07:58:29.464886Z",
          "iopub.status.busy": "2022-03-20T07:58:29.463881Z",
          "iopub.status.idle": "2022-03-20T07:58:29.473449Z",
          "shell.execute_reply": "2022-03-20T07:58:29.472748Z",
          "shell.execute_reply.started": "2022-03-20T07:14:38.906808Z"
        },
        "id": "8385b33c",
        "papermill": {
          "duration": 0.079725,
          "end_time": "2022-03-20T07:58:29.473616",
          "exception": false,
          "start_time": "2022-03-20T07:58:29.393891",
          "status": "completed"
        },
        "tags": []
      },
      "outputs": [],
      "source": [
        "df = df.drop(['Unnamed: 0', 'summary'], axis=1)"
      ]
    },
    {
      "cell_type": "markdown",
      "id": "00a0ffb7",
      "metadata": {
        "id": "00a0ffb7"
      },
      "source": [
        "## Preview of the dataset"
      ]
    },
    {
      "cell_type": "code",
      "execution_count": 57,
      "id": "6f5c139f",
      "metadata": {
        "colab": {
          "base_uri": "https://localhost:8080/",
          "height": 206
        },
        "execution": {
          "iopub.execute_input": "2022-03-20T07:58:29.620443Z",
          "iopub.status.busy": "2022-03-20T07:58:29.619460Z",
          "iopub.status.idle": "2022-03-20T07:58:29.622983Z",
          "shell.execute_reply": "2022-03-20T07:58:29.623484Z",
          "shell.execute_reply.started": "2022-03-20T07:14:38.923662Z"
        },
        "id": "6f5c139f",
        "outputId": "88bd3ae5-116e-4c36-b618-52c7e4dbf6e0",
        "papermill": {
          "duration": 0.082058,
          "end_time": "2022-03-20T07:58:29.623657",
          "exception": false,
          "start_time": "2022-03-20T07:58:29.541599",
          "status": "completed"
        },
        "tags": []
      },
      "outputs": [
        {
          "output_type": "execute_result",
          "data": {
            "text/plain": [
              "   rating                                         reviewText\n",
              "0       5  This book was the very first bookmobile book I...\n",
              "1       1  When I read the description for this book, I c...\n",
              "2       5  I just had to edit this review. This book is a...\n",
              "3       5  I don't normally buy 'mystery' novels because ...\n",
              "4       5  This isn't the kind of book I normally read, a..."
            ],
            "text/html": [
              "\n",
              "  <div id=\"df-9e035279-7405-49d4-b841-a47650cfb5ee\">\n",
              "    <div class=\"colab-df-container\">\n",
              "      <div>\n",
              "<style scoped>\n",
              "    .dataframe tbody tr th:only-of-type {\n",
              "        vertical-align: middle;\n",
              "    }\n",
              "\n",
              "    .dataframe tbody tr th {\n",
              "        vertical-align: top;\n",
              "    }\n",
              "\n",
              "    .dataframe thead th {\n",
              "        text-align: right;\n",
              "    }\n",
              "</style>\n",
              "<table border=\"1\" class=\"dataframe\">\n",
              "  <thead>\n",
              "    <tr style=\"text-align: right;\">\n",
              "      <th></th>\n",
              "      <th>rating</th>\n",
              "      <th>reviewText</th>\n",
              "    </tr>\n",
              "  </thead>\n",
              "  <tbody>\n",
              "    <tr>\n",
              "      <th>0</th>\n",
              "      <td>5</td>\n",
              "      <td>This book was the very first bookmobile book I...</td>\n",
              "    </tr>\n",
              "    <tr>\n",
              "      <th>1</th>\n",
              "      <td>1</td>\n",
              "      <td>When I read the description for this book, I c...</td>\n",
              "    </tr>\n",
              "    <tr>\n",
              "      <th>2</th>\n",
              "      <td>5</td>\n",
              "      <td>I just had to edit this review. This book is a...</td>\n",
              "    </tr>\n",
              "    <tr>\n",
              "      <th>3</th>\n",
              "      <td>5</td>\n",
              "      <td>I don't normally buy 'mystery' novels because ...</td>\n",
              "    </tr>\n",
              "    <tr>\n",
              "      <th>4</th>\n",
              "      <td>5</td>\n",
              "      <td>This isn't the kind of book I normally read, a...</td>\n",
              "    </tr>\n",
              "  </tbody>\n",
              "</table>\n",
              "</div>\n",
              "      <button class=\"colab-df-convert\" onclick=\"convertToInteractive('df-9e035279-7405-49d4-b841-a47650cfb5ee')\"\n",
              "              title=\"Convert this dataframe to an interactive table.\"\n",
              "              style=\"display:none;\">\n",
              "        \n",
              "  <svg xmlns=\"http://www.w3.org/2000/svg\" height=\"24px\"viewBox=\"0 0 24 24\"\n",
              "       width=\"24px\">\n",
              "    <path d=\"M0 0h24v24H0V0z\" fill=\"none\"/>\n",
              "    <path d=\"M18.56 5.44l.94 2.06.94-2.06 2.06-.94-2.06-.94-.94-2.06-.94 2.06-2.06.94zm-11 1L8.5 8.5l.94-2.06 2.06-.94-2.06-.94L8.5 2.5l-.94 2.06-2.06.94zm10 10l.94 2.06.94-2.06 2.06-.94-2.06-.94-.94-2.06-.94 2.06-2.06.94z\"/><path d=\"M17.41 7.96l-1.37-1.37c-.4-.4-.92-.59-1.43-.59-.52 0-1.04.2-1.43.59L10.3 9.45l-7.72 7.72c-.78.78-.78 2.05 0 2.83L4 21.41c.39.39.9.59 1.41.59.51 0 1.02-.2 1.41-.59l7.78-7.78 2.81-2.81c.8-.78.8-2.07 0-2.86zM5.41 20L4 18.59l7.72-7.72 1.47 1.35L5.41 20z\"/>\n",
              "  </svg>\n",
              "      </button>\n",
              "      \n",
              "  <style>\n",
              "    .colab-df-container {\n",
              "      display:flex;\n",
              "      flex-wrap:wrap;\n",
              "      gap: 12px;\n",
              "    }\n",
              "\n",
              "    .colab-df-convert {\n",
              "      background-color: #E8F0FE;\n",
              "      border: none;\n",
              "      border-radius: 50%;\n",
              "      cursor: pointer;\n",
              "      display: none;\n",
              "      fill: #1967D2;\n",
              "      height: 32px;\n",
              "      padding: 0 0 0 0;\n",
              "      width: 32px;\n",
              "    }\n",
              "\n",
              "    .colab-df-convert:hover {\n",
              "      background-color: #E2EBFA;\n",
              "      box-shadow: 0px 1px 2px rgba(60, 64, 67, 0.3), 0px 1px 3px 1px rgba(60, 64, 67, 0.15);\n",
              "      fill: #174EA6;\n",
              "    }\n",
              "\n",
              "    [theme=dark] .colab-df-convert {\n",
              "      background-color: #3B4455;\n",
              "      fill: #D2E3FC;\n",
              "    }\n",
              "\n",
              "    [theme=dark] .colab-df-convert:hover {\n",
              "      background-color: #434B5C;\n",
              "      box-shadow: 0px 1px 3px 1px rgba(0, 0, 0, 0.15);\n",
              "      filter: drop-shadow(0px 1px 2px rgba(0, 0, 0, 0.3));\n",
              "      fill: #FFFFFF;\n",
              "    }\n",
              "  </style>\n",
              "\n",
              "      <script>\n",
              "        const buttonEl =\n",
              "          document.querySelector('#df-9e035279-7405-49d4-b841-a47650cfb5ee button.colab-df-convert');\n",
              "        buttonEl.style.display =\n",
              "          google.colab.kernel.accessAllowed ? 'block' : 'none';\n",
              "\n",
              "        async function convertToInteractive(key) {\n",
              "          const element = document.querySelector('#df-9e035279-7405-49d4-b841-a47650cfb5ee');\n",
              "          const dataTable =\n",
              "            await google.colab.kernel.invokeFunction('convertToInteractive',\n",
              "                                                     [key], {});\n",
              "          if (!dataTable) return;\n",
              "\n",
              "          const docLinkHtml = 'Like what you see? Visit the ' +\n",
              "            '<a target=\"_blank\" href=https://colab.research.google.com/notebooks/data_table.ipynb>data table notebook</a>'\n",
              "            + ' to learn more about interactive tables.';\n",
              "          element.innerHTML = '';\n",
              "          dataTable['output_type'] = 'display_data';\n",
              "          await google.colab.output.renderOutput(dataTable, element);\n",
              "          const docLink = document.createElement('div');\n",
              "          docLink.innerHTML = docLinkHtml;\n",
              "          element.appendChild(docLink);\n",
              "        }\n",
              "      </script>\n",
              "    </div>\n",
              "  </div>\n",
              "  "
            ]
          },
          "metadata": {},
          "execution_count": 57
        }
      ],
      "source": [
        "df.head()"
      ]
    },
    {
      "cell_type": "markdown",
      "id": "eeadd6b6",
      "metadata": {
        "id": "eeadd6b6",
        "papermill": {
          "duration": 0.068527,
          "end_time": "2022-03-20T07:58:29.761377",
          "exception": false,
          "start_time": "2022-03-20T07:58:29.692850",
          "status": "completed"
        },
        "tags": []
      },
      "source": [
        "## Converting rating to 0 and 1 from 1-5"
      ]
    },
    {
      "cell_type": "markdown",
      "id": "185ccf04",
      "metadata": {
        "id": "185ccf04"
      },
      "source": [
        "#### where 0 is positive and 1 is negative"
      ]
    },
    {
      "cell_type": "code",
      "execution_count": 58,
      "id": "0e734994",
      "metadata": {
        "colab": {
          "base_uri": "https://localhost:8080/",
          "height": 423
        },
        "execution": {
          "iopub.execute_input": "2022-03-20T07:58:29.908497Z",
          "iopub.status.busy": "2022-03-20T07:58:29.907457Z",
          "iopub.status.idle": "2022-03-20T07:58:29.929444Z",
          "shell.execute_reply": "2022-03-20T07:58:29.930004Z",
          "shell.execute_reply.started": "2022-03-20T07:14:38.944732Z"
        },
        "id": "0e734994",
        "outputId": "69774868-c55b-45b2-80ff-3bdae6685d70",
        "papermill": {
          "duration": 0.100621,
          "end_time": "2022-03-20T07:58:29.930184",
          "exception": false,
          "start_time": "2022-03-20T07:58:29.829563",
          "status": "completed"
        },
        "tags": []
      },
      "outputs": [
        {
          "output_type": "execute_result",
          "data": {
            "text/plain": [
              "       rating                                         reviewText\n",
              "0           0  This book was the very first bookmobile book I...\n",
              "1           1  When I read the description for this book, I c...\n",
              "2           0  I just had to edit this review. This book is a...\n",
              "3           0  I don't normally buy 'mystery' novels because ...\n",
              "4           0  This isn't the kind of book I normally read, a...\n",
              "...       ...                                                ...\n",
              "11995       1  Had to read certain passages twice--typos.  Wi...\n",
              "11996       0  Not what i expected. yet a very interesting bo...\n",
              "11997       0  Dragon Knights is a world where Knights ride d...\n",
              "11998       0  Since this story is very short, it's hard to s...\n",
              "11999       0  from 1922 an amazing collection of info on sym...\n",
              "\n",
              "[12000 rows x 2 columns]"
            ],
            "text/html": [
              "\n",
              "  <div id=\"df-aa9971d4-bcaf-43bc-9630-5e11aad79961\">\n",
              "    <div class=\"colab-df-container\">\n",
              "      <div>\n",
              "<style scoped>\n",
              "    .dataframe tbody tr th:only-of-type {\n",
              "        vertical-align: middle;\n",
              "    }\n",
              "\n",
              "    .dataframe tbody tr th {\n",
              "        vertical-align: top;\n",
              "    }\n",
              "\n",
              "    .dataframe thead th {\n",
              "        text-align: right;\n",
              "    }\n",
              "</style>\n",
              "<table border=\"1\" class=\"dataframe\">\n",
              "  <thead>\n",
              "    <tr style=\"text-align: right;\">\n",
              "      <th></th>\n",
              "      <th>rating</th>\n",
              "      <th>reviewText</th>\n",
              "    </tr>\n",
              "  </thead>\n",
              "  <tbody>\n",
              "    <tr>\n",
              "      <th>0</th>\n",
              "      <td>0</td>\n",
              "      <td>This book was the very first bookmobile book I...</td>\n",
              "    </tr>\n",
              "    <tr>\n",
              "      <th>1</th>\n",
              "      <td>1</td>\n",
              "      <td>When I read the description for this book, I c...</td>\n",
              "    </tr>\n",
              "    <tr>\n",
              "      <th>2</th>\n",
              "      <td>0</td>\n",
              "      <td>I just had to edit this review. This book is a...</td>\n",
              "    </tr>\n",
              "    <tr>\n",
              "      <th>3</th>\n",
              "      <td>0</td>\n",
              "      <td>I don't normally buy 'mystery' novels because ...</td>\n",
              "    </tr>\n",
              "    <tr>\n",
              "      <th>4</th>\n",
              "      <td>0</td>\n",
              "      <td>This isn't the kind of book I normally read, a...</td>\n",
              "    </tr>\n",
              "    <tr>\n",
              "      <th>...</th>\n",
              "      <td>...</td>\n",
              "      <td>...</td>\n",
              "    </tr>\n",
              "    <tr>\n",
              "      <th>11995</th>\n",
              "      <td>1</td>\n",
              "      <td>Had to read certain passages twice--typos.  Wi...</td>\n",
              "    </tr>\n",
              "    <tr>\n",
              "      <th>11996</th>\n",
              "      <td>0</td>\n",
              "      <td>Not what i expected. yet a very interesting bo...</td>\n",
              "    </tr>\n",
              "    <tr>\n",
              "      <th>11997</th>\n",
              "      <td>0</td>\n",
              "      <td>Dragon Knights is a world where Knights ride d...</td>\n",
              "    </tr>\n",
              "    <tr>\n",
              "      <th>11998</th>\n",
              "      <td>0</td>\n",
              "      <td>Since this story is very short, it's hard to s...</td>\n",
              "    </tr>\n",
              "    <tr>\n",
              "      <th>11999</th>\n",
              "      <td>0</td>\n",
              "      <td>from 1922 an amazing collection of info on sym...</td>\n",
              "    </tr>\n",
              "  </tbody>\n",
              "</table>\n",
              "<p>12000 rows × 2 columns</p>\n",
              "</div>\n",
              "      <button class=\"colab-df-convert\" onclick=\"convertToInteractive('df-aa9971d4-bcaf-43bc-9630-5e11aad79961')\"\n",
              "              title=\"Convert this dataframe to an interactive table.\"\n",
              "              style=\"display:none;\">\n",
              "        \n",
              "  <svg xmlns=\"http://www.w3.org/2000/svg\" height=\"24px\"viewBox=\"0 0 24 24\"\n",
              "       width=\"24px\">\n",
              "    <path d=\"M0 0h24v24H0V0z\" fill=\"none\"/>\n",
              "    <path d=\"M18.56 5.44l.94 2.06.94-2.06 2.06-.94-2.06-.94-.94-2.06-.94 2.06-2.06.94zm-11 1L8.5 8.5l.94-2.06 2.06-.94-2.06-.94L8.5 2.5l-.94 2.06-2.06.94zm10 10l.94 2.06.94-2.06 2.06-.94-2.06-.94-.94-2.06-.94 2.06-2.06.94z\"/><path d=\"M17.41 7.96l-1.37-1.37c-.4-.4-.92-.59-1.43-.59-.52 0-1.04.2-1.43.59L10.3 9.45l-7.72 7.72c-.78.78-.78 2.05 0 2.83L4 21.41c.39.39.9.59 1.41.59.51 0 1.02-.2 1.41-.59l7.78-7.78 2.81-2.81c.8-.78.8-2.07 0-2.86zM5.41 20L4 18.59l7.72-7.72 1.47 1.35L5.41 20z\"/>\n",
              "  </svg>\n",
              "      </button>\n",
              "      \n",
              "  <style>\n",
              "    .colab-df-container {\n",
              "      display:flex;\n",
              "      flex-wrap:wrap;\n",
              "      gap: 12px;\n",
              "    }\n",
              "\n",
              "    .colab-df-convert {\n",
              "      background-color: #E8F0FE;\n",
              "      border: none;\n",
              "      border-radius: 50%;\n",
              "      cursor: pointer;\n",
              "      display: none;\n",
              "      fill: #1967D2;\n",
              "      height: 32px;\n",
              "      padding: 0 0 0 0;\n",
              "      width: 32px;\n",
              "    }\n",
              "\n",
              "    .colab-df-convert:hover {\n",
              "      background-color: #E2EBFA;\n",
              "      box-shadow: 0px 1px 2px rgba(60, 64, 67, 0.3), 0px 1px 3px 1px rgba(60, 64, 67, 0.15);\n",
              "      fill: #174EA6;\n",
              "    }\n",
              "\n",
              "    [theme=dark] .colab-df-convert {\n",
              "      background-color: #3B4455;\n",
              "      fill: #D2E3FC;\n",
              "    }\n",
              "\n",
              "    [theme=dark] .colab-df-convert:hover {\n",
              "      background-color: #434B5C;\n",
              "      box-shadow: 0px 1px 3px 1px rgba(0, 0, 0, 0.15);\n",
              "      filter: drop-shadow(0px 1px 2px rgba(0, 0, 0, 0.3));\n",
              "      fill: #FFFFFF;\n",
              "    }\n",
              "  </style>\n",
              "\n",
              "      <script>\n",
              "        const buttonEl =\n",
              "          document.querySelector('#df-aa9971d4-bcaf-43bc-9630-5e11aad79961 button.colab-df-convert');\n",
              "        buttonEl.style.display =\n",
              "          google.colab.kernel.accessAllowed ? 'block' : 'none';\n",
              "\n",
              "        async function convertToInteractive(key) {\n",
              "          const element = document.querySelector('#df-aa9971d4-bcaf-43bc-9630-5e11aad79961');\n",
              "          const dataTable =\n",
              "            await google.colab.kernel.invokeFunction('convertToInteractive',\n",
              "                                                     [key], {});\n",
              "          if (!dataTable) return;\n",
              "\n",
              "          const docLinkHtml = 'Like what you see? Visit the ' +\n",
              "            '<a target=\"_blank\" href=https://colab.research.google.com/notebooks/data_table.ipynb>data table notebook</a>'\n",
              "            + ' to learn more about interactive tables.';\n",
              "          element.innerHTML = '';\n",
              "          dataTable['output_type'] = 'display_data';\n",
              "          await google.colab.output.renderOutput(dataTable, element);\n",
              "          const docLink = document.createElement('div');\n",
              "          docLink.innerHTML = docLinkHtml;\n",
              "          element.appendChild(docLink);\n",
              "        }\n",
              "      </script>\n",
              "    </div>\n",
              "  </div>\n",
              "  "
            ]
          },
          "metadata": {},
          "execution_count": 58
        }
      ],
      "source": [
        "# if rating is above 3 we will consider it as 1 else 0.\n",
        "\n",
        "df[\"rating\"] = df[\"rating\"].apply(lambda x: 1 if x < 3  else 0)\n",
        "df"
      ]
    },
    {
      "cell_type": "markdown",
      "id": "3e5c2636",
      "metadata": {
        "id": "3e5c2636"
      },
      "source": [
        "## Lowering the case of text"
      ]
    },
    {
      "cell_type": "code",
      "execution_count": 59,
      "id": "fef57785",
      "metadata": {
        "colab": {
          "base_uri": "https://localhost:8080/",
          "height": 206
        },
        "execution": {
          "iopub.execute_input": "2022-03-20T07:58:30.074119Z",
          "iopub.status.busy": "2022-03-20T07:58:30.072650Z",
          "iopub.status.idle": "2022-03-20T07:58:30.107091Z",
          "shell.execute_reply": "2022-03-20T07:58:30.107671Z",
          "shell.execute_reply.started": "2022-03-20T07:14:38.97415Z"
        },
        "id": "fef57785",
        "outputId": "ef518867-a305-4446-fbf0-8a008a56a07f",
        "papermill": {
          "duration": 0.10552,
          "end_time": "2022-03-20T07:58:30.107860",
          "exception": false,
          "start_time": "2022-03-20T07:58:30.002340",
          "status": "completed"
        },
        "tags": []
      },
      "outputs": [
        {
          "output_type": "execute_result",
          "data": {
            "text/plain": [
              "   rating                                         reviewText\n",
              "0       0  this book was the very first bookmobile book i...\n",
              "1       1  when i read the description for this book, i c...\n",
              "2       0  i just had to edit this review. this book is a...\n",
              "3       0  i don't normally buy 'mystery' novels because ...\n",
              "4       0  this isn't the kind of book i normally read, a..."
            ],
            "text/html": [
              "\n",
              "  <div id=\"df-2b77986c-2aff-496a-a291-d7c6b83ea0ab\">\n",
              "    <div class=\"colab-df-container\">\n",
              "      <div>\n",
              "<style scoped>\n",
              "    .dataframe tbody tr th:only-of-type {\n",
              "        vertical-align: middle;\n",
              "    }\n",
              "\n",
              "    .dataframe tbody tr th {\n",
              "        vertical-align: top;\n",
              "    }\n",
              "\n",
              "    .dataframe thead th {\n",
              "        text-align: right;\n",
              "    }\n",
              "</style>\n",
              "<table border=\"1\" class=\"dataframe\">\n",
              "  <thead>\n",
              "    <tr style=\"text-align: right;\">\n",
              "      <th></th>\n",
              "      <th>rating</th>\n",
              "      <th>reviewText</th>\n",
              "    </tr>\n",
              "  </thead>\n",
              "  <tbody>\n",
              "    <tr>\n",
              "      <th>0</th>\n",
              "      <td>0</td>\n",
              "      <td>this book was the very first bookmobile book i...</td>\n",
              "    </tr>\n",
              "    <tr>\n",
              "      <th>1</th>\n",
              "      <td>1</td>\n",
              "      <td>when i read the description for this book, i c...</td>\n",
              "    </tr>\n",
              "    <tr>\n",
              "      <th>2</th>\n",
              "      <td>0</td>\n",
              "      <td>i just had to edit this review. this book is a...</td>\n",
              "    </tr>\n",
              "    <tr>\n",
              "      <th>3</th>\n",
              "      <td>0</td>\n",
              "      <td>i don't normally buy 'mystery' novels because ...</td>\n",
              "    </tr>\n",
              "    <tr>\n",
              "      <th>4</th>\n",
              "      <td>0</td>\n",
              "      <td>this isn't the kind of book i normally read, a...</td>\n",
              "    </tr>\n",
              "  </tbody>\n",
              "</table>\n",
              "</div>\n",
              "      <button class=\"colab-df-convert\" onclick=\"convertToInteractive('df-2b77986c-2aff-496a-a291-d7c6b83ea0ab')\"\n",
              "              title=\"Convert this dataframe to an interactive table.\"\n",
              "              style=\"display:none;\">\n",
              "        \n",
              "  <svg xmlns=\"http://www.w3.org/2000/svg\" height=\"24px\"viewBox=\"0 0 24 24\"\n",
              "       width=\"24px\">\n",
              "    <path d=\"M0 0h24v24H0V0z\" fill=\"none\"/>\n",
              "    <path d=\"M18.56 5.44l.94 2.06.94-2.06 2.06-.94-2.06-.94-.94-2.06-.94 2.06-2.06.94zm-11 1L8.5 8.5l.94-2.06 2.06-.94-2.06-.94L8.5 2.5l-.94 2.06-2.06.94zm10 10l.94 2.06.94-2.06 2.06-.94-2.06-.94-.94-2.06-.94 2.06-2.06.94z\"/><path d=\"M17.41 7.96l-1.37-1.37c-.4-.4-.92-.59-1.43-.59-.52 0-1.04.2-1.43.59L10.3 9.45l-7.72 7.72c-.78.78-.78 2.05 0 2.83L4 21.41c.39.39.9.59 1.41.59.51 0 1.02-.2 1.41-.59l7.78-7.78 2.81-2.81c.8-.78.8-2.07 0-2.86zM5.41 20L4 18.59l7.72-7.72 1.47 1.35L5.41 20z\"/>\n",
              "  </svg>\n",
              "      </button>\n",
              "      \n",
              "  <style>\n",
              "    .colab-df-container {\n",
              "      display:flex;\n",
              "      flex-wrap:wrap;\n",
              "      gap: 12px;\n",
              "    }\n",
              "\n",
              "    .colab-df-convert {\n",
              "      background-color: #E8F0FE;\n",
              "      border: none;\n",
              "      border-radius: 50%;\n",
              "      cursor: pointer;\n",
              "      display: none;\n",
              "      fill: #1967D2;\n",
              "      height: 32px;\n",
              "      padding: 0 0 0 0;\n",
              "      width: 32px;\n",
              "    }\n",
              "\n",
              "    .colab-df-convert:hover {\n",
              "      background-color: #E2EBFA;\n",
              "      box-shadow: 0px 1px 2px rgba(60, 64, 67, 0.3), 0px 1px 3px 1px rgba(60, 64, 67, 0.15);\n",
              "      fill: #174EA6;\n",
              "    }\n",
              "\n",
              "    [theme=dark] .colab-df-convert {\n",
              "      background-color: #3B4455;\n",
              "      fill: #D2E3FC;\n",
              "    }\n",
              "\n",
              "    [theme=dark] .colab-df-convert:hover {\n",
              "      background-color: #434B5C;\n",
              "      box-shadow: 0px 1px 3px 1px rgba(0, 0, 0, 0.15);\n",
              "      filter: drop-shadow(0px 1px 2px rgba(0, 0, 0, 0.3));\n",
              "      fill: #FFFFFF;\n",
              "    }\n",
              "  </style>\n",
              "\n",
              "      <script>\n",
              "        const buttonEl =\n",
              "          document.querySelector('#df-2b77986c-2aff-496a-a291-d7c6b83ea0ab button.colab-df-convert');\n",
              "        buttonEl.style.display =\n",
              "          google.colab.kernel.accessAllowed ? 'block' : 'none';\n",
              "\n",
              "        async function convertToInteractive(key) {\n",
              "          const element = document.querySelector('#df-2b77986c-2aff-496a-a291-d7c6b83ea0ab');\n",
              "          const dataTable =\n",
              "            await google.colab.kernel.invokeFunction('convertToInteractive',\n",
              "                                                     [key], {});\n",
              "          if (!dataTable) return;\n",
              "\n",
              "          const docLinkHtml = 'Like what you see? Visit the ' +\n",
              "            '<a target=\"_blank\" href=https://colab.research.google.com/notebooks/data_table.ipynb>data table notebook</a>'\n",
              "            + ' to learn more about interactive tables.';\n",
              "          element.innerHTML = '';\n",
              "          dataTable['output_type'] = 'display_data';\n",
              "          await google.colab.output.renderOutput(dataTable, element);\n",
              "          const docLink = document.createElement('div');\n",
              "          docLink.innerHTML = docLinkHtml;\n",
              "          element.appendChild(docLink);\n",
              "        }\n",
              "      </script>\n",
              "    </div>\n",
              "  </div>\n",
              "  "
            ]
          },
          "metadata": {},
          "execution_count": 59
        }
      ],
      "source": [
        "df[\"reviewText\"] = df[\"reviewText\"].str.lower()\n",
        "df.head()"
      ]
    },
    {
      "cell_type": "markdown",
      "id": "548f20eb",
      "metadata": {
        "id": "548f20eb"
      },
      "source": [
        "##  Removing punctuation from text\n"
      ]
    },
    {
      "cell_type": "code",
      "execution_count": 60,
      "id": "1e0424aa",
      "metadata": {
        "colab": {
          "base_uri": "https://localhost:8080/",
          "height": 206
        },
        "execution": {
          "iopub.execute_input": "2022-03-20T07:58:30.256915Z",
          "iopub.status.busy": "2022-03-20T07:58:30.255910Z",
          "iopub.status.idle": "2022-03-20T07:58:30.353164Z",
          "shell.execute_reply": "2022-03-20T07:58:30.353820Z",
          "shell.execute_reply.started": "2022-03-20T07:14:39.007674Z"
        },
        "id": "1e0424aa",
        "outputId": "435cf5e3-5c4f-4f49-c9c1-c4d23ec1477c",
        "papermill": {
          "duration": 0.175173,
          "end_time": "2022-03-20T07:58:30.354004",
          "exception": false,
          "start_time": "2022-03-20T07:58:30.178831",
          "status": "completed"
        },
        "tags": []
      },
      "outputs": [
        {
          "output_type": "execute_result",
          "data": {
            "text/plain": [
              "   rating                                         reviewText\n",
              "0       0  this book was the very first bookmobile book i...\n",
              "1       1  when i read the description for this book i co...\n",
              "2       0  i just had to edit this review this book is an...\n",
              "3       0  i dont normally buy mystery novels because i j...\n",
              "4       0  this isnt the kind of book i normally read alt..."
            ],
            "text/html": [
              "\n",
              "  <div id=\"df-e56072e5-3ed4-4ab5-9f03-a2c57ce620af\">\n",
              "    <div class=\"colab-df-container\">\n",
              "      <div>\n",
              "<style scoped>\n",
              "    .dataframe tbody tr th:only-of-type {\n",
              "        vertical-align: middle;\n",
              "    }\n",
              "\n",
              "    .dataframe tbody tr th {\n",
              "        vertical-align: top;\n",
              "    }\n",
              "\n",
              "    .dataframe thead th {\n",
              "        text-align: right;\n",
              "    }\n",
              "</style>\n",
              "<table border=\"1\" class=\"dataframe\">\n",
              "  <thead>\n",
              "    <tr style=\"text-align: right;\">\n",
              "      <th></th>\n",
              "      <th>rating</th>\n",
              "      <th>reviewText</th>\n",
              "    </tr>\n",
              "  </thead>\n",
              "  <tbody>\n",
              "    <tr>\n",
              "      <th>0</th>\n",
              "      <td>0</td>\n",
              "      <td>this book was the very first bookmobile book i...</td>\n",
              "    </tr>\n",
              "    <tr>\n",
              "      <th>1</th>\n",
              "      <td>1</td>\n",
              "      <td>when i read the description for this book i co...</td>\n",
              "    </tr>\n",
              "    <tr>\n",
              "      <th>2</th>\n",
              "      <td>0</td>\n",
              "      <td>i just had to edit this review this book is an...</td>\n",
              "    </tr>\n",
              "    <tr>\n",
              "      <th>3</th>\n",
              "      <td>0</td>\n",
              "      <td>i dont normally buy mystery novels because i j...</td>\n",
              "    </tr>\n",
              "    <tr>\n",
              "      <th>4</th>\n",
              "      <td>0</td>\n",
              "      <td>this isnt the kind of book i normally read alt...</td>\n",
              "    </tr>\n",
              "  </tbody>\n",
              "</table>\n",
              "</div>\n",
              "      <button class=\"colab-df-convert\" onclick=\"convertToInteractive('df-e56072e5-3ed4-4ab5-9f03-a2c57ce620af')\"\n",
              "              title=\"Convert this dataframe to an interactive table.\"\n",
              "              style=\"display:none;\">\n",
              "        \n",
              "  <svg xmlns=\"http://www.w3.org/2000/svg\" height=\"24px\"viewBox=\"0 0 24 24\"\n",
              "       width=\"24px\">\n",
              "    <path d=\"M0 0h24v24H0V0z\" fill=\"none\"/>\n",
              "    <path d=\"M18.56 5.44l.94 2.06.94-2.06 2.06-.94-2.06-.94-.94-2.06-.94 2.06-2.06.94zm-11 1L8.5 8.5l.94-2.06 2.06-.94-2.06-.94L8.5 2.5l-.94 2.06-2.06.94zm10 10l.94 2.06.94-2.06 2.06-.94-2.06-.94-.94-2.06-.94 2.06-2.06.94z\"/><path d=\"M17.41 7.96l-1.37-1.37c-.4-.4-.92-.59-1.43-.59-.52 0-1.04.2-1.43.59L10.3 9.45l-7.72 7.72c-.78.78-.78 2.05 0 2.83L4 21.41c.39.39.9.59 1.41.59.51 0 1.02-.2 1.41-.59l7.78-7.78 2.81-2.81c.8-.78.8-2.07 0-2.86zM5.41 20L4 18.59l7.72-7.72 1.47 1.35L5.41 20z\"/>\n",
              "  </svg>\n",
              "      </button>\n",
              "      \n",
              "  <style>\n",
              "    .colab-df-container {\n",
              "      display:flex;\n",
              "      flex-wrap:wrap;\n",
              "      gap: 12px;\n",
              "    }\n",
              "\n",
              "    .colab-df-convert {\n",
              "      background-color: #E8F0FE;\n",
              "      border: none;\n",
              "      border-radius: 50%;\n",
              "      cursor: pointer;\n",
              "      display: none;\n",
              "      fill: #1967D2;\n",
              "      height: 32px;\n",
              "      padding: 0 0 0 0;\n",
              "      width: 32px;\n",
              "    }\n",
              "\n",
              "    .colab-df-convert:hover {\n",
              "      background-color: #E2EBFA;\n",
              "      box-shadow: 0px 1px 2px rgba(60, 64, 67, 0.3), 0px 1px 3px 1px rgba(60, 64, 67, 0.15);\n",
              "      fill: #174EA6;\n",
              "    }\n",
              "\n",
              "    [theme=dark] .colab-df-convert {\n",
              "      background-color: #3B4455;\n",
              "      fill: #D2E3FC;\n",
              "    }\n",
              "\n",
              "    [theme=dark] .colab-df-convert:hover {\n",
              "      background-color: #434B5C;\n",
              "      box-shadow: 0px 1px 3px 1px rgba(0, 0, 0, 0.15);\n",
              "      filter: drop-shadow(0px 1px 2px rgba(0, 0, 0, 0.3));\n",
              "      fill: #FFFFFF;\n",
              "    }\n",
              "  </style>\n",
              "\n",
              "      <script>\n",
              "        const buttonEl =\n",
              "          document.querySelector('#df-e56072e5-3ed4-4ab5-9f03-a2c57ce620af button.colab-df-convert');\n",
              "        buttonEl.style.display =\n",
              "          google.colab.kernel.accessAllowed ? 'block' : 'none';\n",
              "\n",
              "        async function convertToInteractive(key) {\n",
              "          const element = document.querySelector('#df-e56072e5-3ed4-4ab5-9f03-a2c57ce620af');\n",
              "          const dataTable =\n",
              "            await google.colab.kernel.invokeFunction('convertToInteractive',\n",
              "                                                     [key], {});\n",
              "          if (!dataTable) return;\n",
              "\n",
              "          const docLinkHtml = 'Like what you see? Visit the ' +\n",
              "            '<a target=\"_blank\" href=https://colab.research.google.com/notebooks/data_table.ipynb>data table notebook</a>'\n",
              "            + ' to learn more about interactive tables.';\n",
              "          element.innerHTML = '';\n",
              "          dataTable['output_type'] = 'display_data';\n",
              "          await google.colab.output.renderOutput(dataTable, element);\n",
              "          const docLink = document.createElement('div');\n",
              "          docLink.innerHTML = docLinkHtml;\n",
              "          element.appendChild(docLink);\n",
              "        }\n",
              "      </script>\n",
              "    </div>\n",
              "  </div>\n",
              "  "
            ]
          },
          "metadata": {},
          "execution_count": 60
        }
      ],
      "source": [
        "PUNCT_TO_REMOVE = string.punctuation\n",
        "def remove_punctuation(text):\n",
        "    \"\"\"custom function to remove the punctuation\"\"\"\n",
        "    return text.translate(str.maketrans('', '', PUNCT_TO_REMOVE))\n",
        "\n",
        "df[\"reviewText\"] = df[\"reviewText\"].apply(lambda text: remove_punctuation(text))\n",
        "df.head()"
      ]
    },
    {
      "cell_type": "markdown",
      "id": "590e1bd6",
      "metadata": {
        "id": "590e1bd6"
      },
      "source": [
        "## Removing stop words from the text"
      ]
    },
    {
      "cell_type": "code",
      "execution_count": 61,
      "id": "2ed1f3c4",
      "metadata": {
        "colab": {
          "base_uri": "https://localhost:8080/",
          "height": 206
        },
        "execution": {
          "iopub.execute_input": "2022-03-20T07:58:30.498134Z",
          "iopub.status.busy": "2022-03-20T07:58:30.497103Z",
          "iopub.status.idle": "2022-03-20T07:58:30.797752Z",
          "shell.execute_reply": "2022-03-20T07:58:30.798351Z",
          "shell.execute_reply.started": "2022-03-20T07:14:39.108919Z"
        },
        "id": "2ed1f3c4",
        "outputId": "df36402c-1c25-42d9-d687-a8c24127e2ad",
        "papermill": {
          "duration": 0.37584,
          "end_time": "2022-03-20T07:58:30.798525",
          "exception": false,
          "start_time": "2022-03-20T07:58:30.422685",
          "status": "completed"
        },
        "tags": []
      },
      "outputs": [
        {
          "output_type": "execute_result",
          "data": {
            "text/plain": [
              "   rating                                         reviewText\n",
              "0       0  book first bookmobile book bought school book ...\n",
              "1       1  read description book couldnt wait read downlo...\n",
              "2       0  edit review book believe got right updated rew...\n",
              "3       0  dont normally buy mystery novels dont like how...\n",
              "4       0  isnt kind book normally read although try limi..."
            ],
            "text/html": [
              "\n",
              "  <div id=\"df-610cd90c-e566-4f5b-a456-4f53e1f088f5\">\n",
              "    <div class=\"colab-df-container\">\n",
              "      <div>\n",
              "<style scoped>\n",
              "    .dataframe tbody tr th:only-of-type {\n",
              "        vertical-align: middle;\n",
              "    }\n",
              "\n",
              "    .dataframe tbody tr th {\n",
              "        vertical-align: top;\n",
              "    }\n",
              "\n",
              "    .dataframe thead th {\n",
              "        text-align: right;\n",
              "    }\n",
              "</style>\n",
              "<table border=\"1\" class=\"dataframe\">\n",
              "  <thead>\n",
              "    <tr style=\"text-align: right;\">\n",
              "      <th></th>\n",
              "      <th>rating</th>\n",
              "      <th>reviewText</th>\n",
              "    </tr>\n",
              "  </thead>\n",
              "  <tbody>\n",
              "    <tr>\n",
              "      <th>0</th>\n",
              "      <td>0</td>\n",
              "      <td>book first bookmobile book bought school book ...</td>\n",
              "    </tr>\n",
              "    <tr>\n",
              "      <th>1</th>\n",
              "      <td>1</td>\n",
              "      <td>read description book couldnt wait read downlo...</td>\n",
              "    </tr>\n",
              "    <tr>\n",
              "      <th>2</th>\n",
              "      <td>0</td>\n",
              "      <td>edit review book believe got right updated rew...</td>\n",
              "    </tr>\n",
              "    <tr>\n",
              "      <th>3</th>\n",
              "      <td>0</td>\n",
              "      <td>dont normally buy mystery novels dont like how...</td>\n",
              "    </tr>\n",
              "    <tr>\n",
              "      <th>4</th>\n",
              "      <td>0</td>\n",
              "      <td>isnt kind book normally read although try limi...</td>\n",
              "    </tr>\n",
              "  </tbody>\n",
              "</table>\n",
              "</div>\n",
              "      <button class=\"colab-df-convert\" onclick=\"convertToInteractive('df-610cd90c-e566-4f5b-a456-4f53e1f088f5')\"\n",
              "              title=\"Convert this dataframe to an interactive table.\"\n",
              "              style=\"display:none;\">\n",
              "        \n",
              "  <svg xmlns=\"http://www.w3.org/2000/svg\" height=\"24px\"viewBox=\"0 0 24 24\"\n",
              "       width=\"24px\">\n",
              "    <path d=\"M0 0h24v24H0V0z\" fill=\"none\"/>\n",
              "    <path d=\"M18.56 5.44l.94 2.06.94-2.06 2.06-.94-2.06-.94-.94-2.06-.94 2.06-2.06.94zm-11 1L8.5 8.5l.94-2.06 2.06-.94-2.06-.94L8.5 2.5l-.94 2.06-2.06.94zm10 10l.94 2.06.94-2.06 2.06-.94-2.06-.94-.94-2.06-.94 2.06-2.06.94z\"/><path d=\"M17.41 7.96l-1.37-1.37c-.4-.4-.92-.59-1.43-.59-.52 0-1.04.2-1.43.59L10.3 9.45l-7.72 7.72c-.78.78-.78 2.05 0 2.83L4 21.41c.39.39.9.59 1.41.59.51 0 1.02-.2 1.41-.59l7.78-7.78 2.81-2.81c.8-.78.8-2.07 0-2.86zM5.41 20L4 18.59l7.72-7.72 1.47 1.35L5.41 20z\"/>\n",
              "  </svg>\n",
              "      </button>\n",
              "      \n",
              "  <style>\n",
              "    .colab-df-container {\n",
              "      display:flex;\n",
              "      flex-wrap:wrap;\n",
              "      gap: 12px;\n",
              "    }\n",
              "\n",
              "    .colab-df-convert {\n",
              "      background-color: #E8F0FE;\n",
              "      border: none;\n",
              "      border-radius: 50%;\n",
              "      cursor: pointer;\n",
              "      display: none;\n",
              "      fill: #1967D2;\n",
              "      height: 32px;\n",
              "      padding: 0 0 0 0;\n",
              "      width: 32px;\n",
              "    }\n",
              "\n",
              "    .colab-df-convert:hover {\n",
              "      background-color: #E2EBFA;\n",
              "      box-shadow: 0px 1px 2px rgba(60, 64, 67, 0.3), 0px 1px 3px 1px rgba(60, 64, 67, 0.15);\n",
              "      fill: #174EA6;\n",
              "    }\n",
              "\n",
              "    [theme=dark] .colab-df-convert {\n",
              "      background-color: #3B4455;\n",
              "      fill: #D2E3FC;\n",
              "    }\n",
              "\n",
              "    [theme=dark] .colab-df-convert:hover {\n",
              "      background-color: #434B5C;\n",
              "      box-shadow: 0px 1px 3px 1px rgba(0, 0, 0, 0.15);\n",
              "      filter: drop-shadow(0px 1px 2px rgba(0, 0, 0, 0.3));\n",
              "      fill: #FFFFFF;\n",
              "    }\n",
              "  </style>\n",
              "\n",
              "      <script>\n",
              "        const buttonEl =\n",
              "          document.querySelector('#df-610cd90c-e566-4f5b-a456-4f53e1f088f5 button.colab-df-convert');\n",
              "        buttonEl.style.display =\n",
              "          google.colab.kernel.accessAllowed ? 'block' : 'none';\n",
              "\n",
              "        async function convertToInteractive(key) {\n",
              "          const element = document.querySelector('#df-610cd90c-e566-4f5b-a456-4f53e1f088f5');\n",
              "          const dataTable =\n",
              "            await google.colab.kernel.invokeFunction('convertToInteractive',\n",
              "                                                     [key], {});\n",
              "          if (!dataTable) return;\n",
              "\n",
              "          const docLinkHtml = 'Like what you see? Visit the ' +\n",
              "            '<a target=\"_blank\" href=https://colab.research.google.com/notebooks/data_table.ipynb>data table notebook</a>'\n",
              "            + ' to learn more about interactive tables.';\n",
              "          element.innerHTML = '';\n",
              "          dataTable['output_type'] = 'display_data';\n",
              "          await google.colab.output.renderOutput(dataTable, element);\n",
              "          const docLink = document.createElement('div');\n",
              "          docLink.innerHTML = docLinkHtml;\n",
              "          element.appendChild(docLink);\n",
              "        }\n",
              "      </script>\n",
              "    </div>\n",
              "  </div>\n",
              "  "
            ]
          },
          "metadata": {},
          "execution_count": 61
        }
      ],
      "source": [
        "STOPWORDS = set(stopwords.words('english'))\n",
        "def remove_stopwords(text):\n",
        "    \"\"\"custom function to remove the stopwords\"\"\"\n",
        "    return \" \".join([word for word in str(text).split() if word not in STOPWORDS])\n",
        "\n",
        "df[\"reviewText\"] = df[\"reviewText\"].apply(lambda text: remove_stopwords(text))\n",
        "df.head()"
      ]
    },
    {
      "cell_type": "code",
      "execution_count": 62,
      "id": "6b0687b2",
      "metadata": {
        "colab": {
          "base_uri": "https://localhost:8080/",
          "height": 206
        },
        "execution": {
          "iopub.execute_input": "2022-03-20T07:58:30.947158Z",
          "iopub.status.busy": "2022-03-20T07:58:30.946385Z",
          "iopub.status.idle": "2022-03-20T07:59:30.140712Z",
          "shell.execute_reply": "2022-03-20T07:59:30.141219Z",
          "shell.execute_reply.started": "2022-03-20T07:14:39.402716Z"
        },
        "id": "6b0687b2",
        "outputId": "f7358c51-f3a4-4181-95d5-a61bd4183a50",
        "papermill": {
          "duration": 59.270035,
          "end_time": "2022-03-20T07:59:30.141398",
          "exception": false,
          "start_time": "2022-03-20T07:58:30.871363",
          "status": "completed"
        },
        "tags": []
      },
      "outputs": [
        {
          "output_type": "execute_result",
          "data": {
            "text/plain": [
              "   rating                                         reviewText\n",
              "0       0  book first bookmobile book buy school book clu...\n",
              "1       1  read description book couldnt wait read downlo...\n",
              "2       0  edit review book believe get right update rewr...\n",
              "3       0  dont normally buy mystery novels dont like how...\n",
              "4       0  isnt kind book normally read although try limi..."
            ],
            "text/html": [
              "\n",
              "  <div id=\"df-ce8d6d6a-89d4-40a2-bb8b-a0ba313f7528\">\n",
              "    <div class=\"colab-df-container\">\n",
              "      <div>\n",
              "<style scoped>\n",
              "    .dataframe tbody tr th:only-of-type {\n",
              "        vertical-align: middle;\n",
              "    }\n",
              "\n",
              "    .dataframe tbody tr th {\n",
              "        vertical-align: top;\n",
              "    }\n",
              "\n",
              "    .dataframe thead th {\n",
              "        text-align: right;\n",
              "    }\n",
              "</style>\n",
              "<table border=\"1\" class=\"dataframe\">\n",
              "  <thead>\n",
              "    <tr style=\"text-align: right;\">\n",
              "      <th></th>\n",
              "      <th>rating</th>\n",
              "      <th>reviewText</th>\n",
              "    </tr>\n",
              "  </thead>\n",
              "  <tbody>\n",
              "    <tr>\n",
              "      <th>0</th>\n",
              "      <td>0</td>\n",
              "      <td>book first bookmobile book buy school book clu...</td>\n",
              "    </tr>\n",
              "    <tr>\n",
              "      <th>1</th>\n",
              "      <td>1</td>\n",
              "      <td>read description book couldnt wait read downlo...</td>\n",
              "    </tr>\n",
              "    <tr>\n",
              "      <th>2</th>\n",
              "      <td>0</td>\n",
              "      <td>edit review book believe get right update rewr...</td>\n",
              "    </tr>\n",
              "    <tr>\n",
              "      <th>3</th>\n",
              "      <td>0</td>\n",
              "      <td>dont normally buy mystery novels dont like how...</td>\n",
              "    </tr>\n",
              "    <tr>\n",
              "      <th>4</th>\n",
              "      <td>0</td>\n",
              "      <td>isnt kind book normally read although try limi...</td>\n",
              "    </tr>\n",
              "  </tbody>\n",
              "</table>\n",
              "</div>\n",
              "      <button class=\"colab-df-convert\" onclick=\"convertToInteractive('df-ce8d6d6a-89d4-40a2-bb8b-a0ba313f7528')\"\n",
              "              title=\"Convert this dataframe to an interactive table.\"\n",
              "              style=\"display:none;\">\n",
              "        \n",
              "  <svg xmlns=\"http://www.w3.org/2000/svg\" height=\"24px\"viewBox=\"0 0 24 24\"\n",
              "       width=\"24px\">\n",
              "    <path d=\"M0 0h24v24H0V0z\" fill=\"none\"/>\n",
              "    <path d=\"M18.56 5.44l.94 2.06.94-2.06 2.06-.94-2.06-.94-.94-2.06-.94 2.06-2.06.94zm-11 1L8.5 8.5l.94-2.06 2.06-.94-2.06-.94L8.5 2.5l-.94 2.06-2.06.94zm10 10l.94 2.06.94-2.06 2.06-.94-2.06-.94-.94-2.06-.94 2.06-2.06.94z\"/><path d=\"M17.41 7.96l-1.37-1.37c-.4-.4-.92-.59-1.43-.59-.52 0-1.04.2-1.43.59L10.3 9.45l-7.72 7.72c-.78.78-.78 2.05 0 2.83L4 21.41c.39.39.9.59 1.41.59.51 0 1.02-.2 1.41-.59l7.78-7.78 2.81-2.81c.8-.78.8-2.07 0-2.86zM5.41 20L4 18.59l7.72-7.72 1.47 1.35L5.41 20z\"/>\n",
              "  </svg>\n",
              "      </button>\n",
              "      \n",
              "  <style>\n",
              "    .colab-df-container {\n",
              "      display:flex;\n",
              "      flex-wrap:wrap;\n",
              "      gap: 12px;\n",
              "    }\n",
              "\n",
              "    .colab-df-convert {\n",
              "      background-color: #E8F0FE;\n",
              "      border: none;\n",
              "      border-radius: 50%;\n",
              "      cursor: pointer;\n",
              "      display: none;\n",
              "      fill: #1967D2;\n",
              "      height: 32px;\n",
              "      padding: 0 0 0 0;\n",
              "      width: 32px;\n",
              "    }\n",
              "\n",
              "    .colab-df-convert:hover {\n",
              "      background-color: #E2EBFA;\n",
              "      box-shadow: 0px 1px 2px rgba(60, 64, 67, 0.3), 0px 1px 3px 1px rgba(60, 64, 67, 0.15);\n",
              "      fill: #174EA6;\n",
              "    }\n",
              "\n",
              "    [theme=dark] .colab-df-convert {\n",
              "      background-color: #3B4455;\n",
              "      fill: #D2E3FC;\n",
              "    }\n",
              "\n",
              "    [theme=dark] .colab-df-convert:hover {\n",
              "      background-color: #434B5C;\n",
              "      box-shadow: 0px 1px 3px 1px rgba(0, 0, 0, 0.15);\n",
              "      filter: drop-shadow(0px 1px 2px rgba(0, 0, 0, 0.3));\n",
              "      fill: #FFFFFF;\n",
              "    }\n",
              "  </style>\n",
              "\n",
              "      <script>\n",
              "        const buttonEl =\n",
              "          document.querySelector('#df-ce8d6d6a-89d4-40a2-bb8b-a0ba313f7528 button.colab-df-convert');\n",
              "        buttonEl.style.display =\n",
              "          google.colab.kernel.accessAllowed ? 'block' : 'none';\n",
              "\n",
              "        async function convertToInteractive(key) {\n",
              "          const element = document.querySelector('#df-ce8d6d6a-89d4-40a2-bb8b-a0ba313f7528');\n",
              "          const dataTable =\n",
              "            await google.colab.kernel.invokeFunction('convertToInteractive',\n",
              "                                                     [key], {});\n",
              "          if (!dataTable) return;\n",
              "\n",
              "          const docLinkHtml = 'Like what you see? Visit the ' +\n",
              "            '<a target=\"_blank\" href=https://colab.research.google.com/notebooks/data_table.ipynb>data table notebook</a>'\n",
              "            + ' to learn more about interactive tables.';\n",
              "          element.innerHTML = '';\n",
              "          dataTable['output_type'] = 'display_data';\n",
              "          await google.colab.output.renderOutput(dataTable, element);\n",
              "          const docLink = document.createElement('div');\n",
              "          docLink.innerHTML = docLinkHtml;\n",
              "          element.appendChild(docLink);\n",
              "        }\n",
              "      </script>\n",
              "    </div>\n",
              "  </div>\n",
              "  "
            ]
          },
          "metadata": {},
          "execution_count": 62
        }
      ],
      "source": [
        "lemmatizer = WordNetLemmatizer()\n",
        "wordnet_map = {\"N\":wordnet.NOUN, \"V\":wordnet.VERB, \"J\":wordnet.ADJ, \"R\":wordnet.ADV}\n",
        "def lemmatize_words(text):\n",
        "    pos_tagged_text = nltk.pos_tag(text.split())\n",
        "    return \" \".join([lemmatizer.lemmatize(word, wordnet_map.get(pos[0], wordnet.NOUN)) for word, pos in pos_tagged_text])\n",
        "\n",
        "df[\"reviewText\"] = df[\"reviewText\"].apply(lambda text: lemmatize_words(text))\n",
        "df.head()"
      ]
    },
    {
      "cell_type": "markdown",
      "id": "ce1e2619",
      "metadata": {
        "id": "ce1e2619",
        "papermill": {
          "duration": 0.071659,
          "end_time": "2022-03-20T07:59:30.286318",
          "exception": false,
          "start_time": "2022-03-20T07:59:30.214659",
          "status": "completed"
        },
        "tags": []
      },
      "source": [
        "# Visualization on Dataset"
      ]
    },
    {
      "cell_type": "markdown",
      "id": "78f39cde",
      "metadata": {
        "id": "78f39cde"
      },
      "source": [
        "### Plotting distribution of good and bad rating"
      ]
    },
    {
      "cell_type": "code",
      "execution_count": 64,
      "id": "f0a583d8",
      "metadata": {
        "colab": {
          "base_uri": "https://localhost:8080/",
          "height": 295
        },
        "execution": {
          "iopub.execute_input": "2022-03-20T07:59:30.439082Z",
          "iopub.status.busy": "2022-03-20T07:59:30.438329Z",
          "iopub.status.idle": "2022-03-20T07:59:30.625676Z",
          "shell.execute_reply": "2022-03-20T07:59:30.625064Z",
          "shell.execute_reply.started": "2022-03-20T07:15:36.728832Z"
        },
        "id": "f0a583d8",
        "outputId": "31684464-be42-40e0-ea56-e6dd9c413b35",
        "papermill": {
          "duration": 0.265264,
          "end_time": "2022-03-20T07:59:30.625836",
          "exception": false,
          "start_time": "2022-03-20T07:59:30.360572",
          "status": "completed"
        },
        "tags": []
      },
      "outputs": [
        {
          "output_type": "display_data",
          "data": {
            "text/plain": [
              "<Figure size 432x288 with 1 Axes>"
            ],
            "image/png": "[encoded data removed]"
          },
          "metadata": {}
        }
      ],
      "source": [
        "sns.countplot(df.rating)\n",
        "sns.set_style('whitegrid')\n",
        "plt.title(\"Distribution of rating using Matplotlib\")\n",
        "plt.show()"
      ]
    },
    {
      "cell_type": "code",
      "execution_count": 65,
      "id": "cbefa21a",
      "metadata": {
        "colab": {
          "base_uri": "https://localhost:8080/",
          "height": 542
        },
        "execution": {
          "iopub.execute_input": "2022-03-20T07:59:30.785363Z",
          "iopub.status.busy": "2022-03-20T07:59:30.784461Z",
          "iopub.status.idle": "2022-03-20T07:59:30.787983Z",
          "shell.execute_reply": "2022-03-20T07:59:30.788463Z",
          "shell.execute_reply.started": "2022-03-20T07:24:02.98091Z"
        },
        "id": "cbefa21a",
        "outputId": "18b307cc-74d2-4aed-fc8a-ae160ae80dbd",
        "papermill": {
          "duration": 0.087082,
          "end_time": "2022-03-20T07:59:30.788630",
          "exception": false,
          "start_time": "2022-03-20T07:59:30.701548",
          "status": "completed"
        },
        "tags": []
      },
      "outputs": [
        {
          "output_type": "display_data",
          "data": {
            "text/html": [
              "<html>\n",
              "<head><meta charset=\"utf-8\" /></head>\n",
              "<body>\n",
              "    <div>            <script src=\"https://cdnjs.cloudflare.com/ajax/libs/mathjax/2.7.5/MathJax.js?config=TeX-AMS-MML_SVG\"></script><script type=\"text/javascript\">if (window.MathJax) {MathJax.Hub.Config({SVG: {font: \"STIX-Web\"}});}</script>                <script type=\"text/javascript\">window.PlotlyConfig = {MathJaxConfig: 'local'};</script>\n",
              "        <script src=\"https://cdn.plot.ly/plotly-2.8.3.min.js\"></script>                <div id=\"3e733ae1-2109-462c-995e-8139adba1414\" class=\"plotly-graph-div\" style=\"height:525px; width:100%;\"></div>            <script type=\"text/javascript\">                                    window.PLOTLYENV=window.PLOTLYENV || {};                                    if (document.getElementById(\"3e733ae1-2109-462c-995e-8139adba1414\")) {                    Plotly.newPlot(                        \"3e733ae1-2109-462c-995e-8139adba1414\",                        [{\"text\":[8000.0,4000.0],\"x\":[0,1],\"y\":[8000,4000],\"type\":\"bar\"}],                        {\"template\":{\"data\":{\"bar\":[{\"error_x\":{\"color\":\"#2a3f5f\"},\"error_y\":{\"color\":\"#2a3f5f\"},\"marker\":{\"line\":{\"color\":\"#E5ECF6\",\"width\":0.5},\"pattern\":{\"fillmode\":\"overlay\",\"size\":10,\"solidity\":0.2}},\"type\":\"bar\"}],\"barpolar\":[{\"marker\":{\"line\":{\"color\":\"#E5ECF6\",\"width\":0.5},\"pattern\":{\"fillmode\":\"overlay\",\"size\":10,\"solidity\":0.2}},\"type\":\"barpolar\"}],\"carpet\":[{\"aaxis\":{\"endlinecolor\":\"#2a3f5f\",\"gridcolor\":\"white\",\"linecolor\":\"white\",\"minorgridcolor\":\"white\",\"startlinecolor\":\"#2a3f5f\"},\"baxis\":{\"endlinecolor\":\"#2a3f5f\",\"gridcolor\":\"white\",\"linecolor\":\"white\",\"minorgridcolor\":\"white\",\"startlinecolor\":\"#2a3f5f\"},\"type\":\"carpet\"}],\"choropleth\":[{\"colorbar\":{\"outlinewidth\":0,\"ticks\":\"\"},\"type\":\"choropleth\"}],\"contour\":[{\"colorbar\":{\"outlinewidth\":0,\"ticks\":\"\"},\"colorscale\":[[0.0,\"#0d0887\"],[0.1111111111111111,\"#46039f\"],[0.2222222222222222,\"#7201a8\"],[0.3333333333333333,\"#9c179e\"],[0.4444444444444444,\"#bd3786\"],[0.5555555555555556,\"#d8576b\"],[0.6666666666666666,\"#ed7953\"],[0.7777777777777778,\"#fb9f3a\"],[0.8888888888888888,\"#fdca26\"],[1.0,\"#f0f921\"]],\"type\":\"contour\"}],\"contourcarpet\":[{\"colorbar\":{\"outlinewidth\":0,\"ticks\":\"\"},\"type\":\"contourcarpet\"}],\"heatmap\":[{\"colorbar\":{\"outlinewidth\":0,\"ticks\":\"\"},\"colorscale\":[[0.0,\"#0d0887\"],[0.1111111111111111,\"#46039f\"],[0.2222222222222222,\"#7201a8\"],[0.3333333333333333,\"#9c179e\"],[0.4444444444444444,\"#bd3786\"],[0.5555555555555556,\"#d8576b\"],[0.6666666666666666,\"#ed7953\"],[0.7777777777777778,\"#fb9f3a\"],[0.8888888888888888,\"#fdca26\"],[1.0,\"#f0f921\"]],\"type\":\"heatmap\"}],\"heatmapgl\":[{\"colorbar\":{\"outlinewidth\":0,\"ticks\":\"\"},\"colorscale\":[[0.0,\"#0d0887\"],[0.1111111111111111,\"#46039f\"],[0.2222222222222222,\"#7201a8\"],[0.3333333333333333,\"#9c179e\"],[0.4444444444444444,\"#bd3786\"],[0.5555555555555556,\"#d8576b\"],[0.6666666666666666,\"#ed7953\"],[0.7777777777777778,\"#fb9f3a\"],[0.8888888888888888,\"#fdca26\"],[1.0,\"#f0f921\"]],\"type\":\"heatmapgl\"}],\"histogram\":[{\"marker\":{\"pattern\":{\"fillmode\":\"overlay\",\"size\":10,\"solidity\":0.2}},\"type\":\"histogram\"}],\"histogram2d\":[{\"colorbar\":{\"outlinewidth\":0,\"ticks\":\"\"},\"colorscale\":[[0.0,\"#0d0887\"],[0.1111111111111111,\"#46039f\"],[0.2222222222222222,\"#7201a8\"],[0.3333333333333333,\"#9c179e\"],[0.4444444444444444,\"#bd3786\"],[0.5555555555555556,\"#d8576b\"],[0.6666666666666666,\"#ed7953\"],[0.7777777777777778,\"#fb9f3a\"],[0.8888888888888888,\"#fdca26\"],[1.0,\"#f0f921\"]],\"type\":\"histogram2d\"}],\"histogram2dcontour\":[{\"colorbar\":{\"outlinewidth\":0,\"ticks\":\"\"},\"colorscale\":[[0.0,\"#0d0887\"],[0.1111111111111111,\"#46039f\"],[0.2222222222222222,\"#7201a8\"],[0.3333333333333333,\"#9c179e\"],[0.4444444444444444,\"#bd3786\"],[0.5555555555555556,\"#d8576b\"],[0.6666666666666666,\"#ed7953\"],[0.7777777777777778,\"#fb9f3a\"],[0.8888888888888888,\"#fdca26\"],[1.0,\"#f0f921\"]],\"type\":\"histogram2dcontour\"}],\"mesh3d\":[{\"colorbar\":{\"outlinewidth\":0,\"ticks\":\"\"},\"type\":\"mesh3d\"}],\"parcoords\":[{\"line\":{\"colorbar\":{\"outlinewidth\":0,\"ticks\":\"\"}},\"type\":\"parcoords\"}],\"pie\":[{\"automargin\":true,\"type\":\"pie\"}],\"scatter\":[{\"marker\":{\"colorbar\":{\"outlinewidth\":0,\"ticks\":\"\"}},\"type\":\"scatter\"}],\"scatter3d\":[{\"line\":{\"colorbar\":{\"outlinewidth\":0,\"ticks\":\"\"}},\"marker\":{\"colorbar\":{\"outlinewidth\":0,\"ticks\":\"\"}},\"type\":\"scatter3d\"}],\"scattercarpet\":[{\"marker\":{\"colorbar\":{\"outlinewidth\":0,\"ticks\":\"\"}},\"type\":\"scattercarpet\"}],\"scattergeo\":[{\"marker\":{\"colorbar\":{\"outlinewidth\":0,\"ticks\":\"\"}},\"type\":\"scattergeo\"}],\"scattergl\":[{\"marker\":{\"colorbar\":{\"outlinewidth\":0,\"ticks\":\"\"}},\"type\":\"scattergl\"}],\"scattermapbox\":[{\"marker\":{\"colorbar\":{\"outlinewidth\":0,\"ticks\":\"\"}},\"type\":\"scattermapbox\"}],\"scatterpolar\":[{\"marker\":{\"colorbar\":{\"outlinewidth\":0,\"ticks\":\"\"}},\"type\":\"scatterpolar\"}],\"scatterpolargl\":[{\"marker\":{\"colorbar\":{\"outlinewidth\":0,\"ticks\":\"\"}},\"type\":\"scatterpolargl\"}],\"scatterternary\":[{\"marker\":{\"colorbar\":{\"outlinewidth\":0,\"ticks\":\"\"}},\"type\":\"scatterternary\"}],\"surface\":[{\"colorbar\":{\"outlinewidth\":0,\"ticks\":\"\"},\"colorscale\":[[0.0,\"#0d0887\"],[0.1111111111111111,\"#46039f\"],[0.2222222222222222,\"#7201a8\"],[0.3333333333333333,\"#9c179e\"],[0.4444444444444444,\"#bd3786\"],[0.5555555555555556,\"#d8576b\"],[0.6666666666666666,\"#ed7953\"],[0.7777777777777778,\"#fb9f3a\"],[0.8888888888888888,\"#fdca26\"],[1.0,\"#f0f921\"]],\"type\":\"surface\"}],\"table\":[{\"cells\":{\"fill\":{\"color\":\"#EBF0F8\"},\"line\":{\"color\":\"white\"}},\"header\":{\"fill\":{\"color\":\"#C8D4E3\"},\"line\":{\"color\":\"white\"}},\"type\":\"table\"}]},\"layout\":{\"annotationdefaults\":{\"arrowcolor\":\"#2a3f5f\",\"arrowhead\":0,\"arrowwidth\":1},\"autotypenumbers\":\"strict\",\"coloraxis\":{\"colorbar\":{\"outlinewidth\":0,\"ticks\":\"\"}},\"colorscale\":{\"diverging\":[[0,\"#8e0152\"],[0.1,\"#c51b7d\"],[0.2,\"#de77ae\"],[0.3,\"#f1b6da\"],[0.4,\"#fde0ef\"],[0.5,\"#f7f7f7\"],[0.6,\"#e6f5d0\"],[0.7,\"#b8e186\"],[0.8,\"#7fbc41\"],[0.9,\"#4d9221\"],[1,\"#276419\"]],\"sequential\":[[0.0,\"#0d0887\"],[0.1111111111111111,\"#46039f\"],[0.2222222222222222,\"#7201a8\"],[0.3333333333333333,\"#9c179e\"],[0.4444444444444444,\"#bd3786\"],[0.5555555555555556,\"#d8576b\"],[0.6666666666666666,\"#ed7953\"],[0.7777777777777778,\"#fb9f3a\"],[0.8888888888888888,\"#fdca26\"],[1.0,\"#f0f921\"]],\"sequentialminus\":[[0.0,\"#0d0887\"],[0.1111111111111111,\"#46039f\"],[0.2222222222222222,\"#7201a8\"],[0.3333333333333333,\"#9c179e\"],[0.4444444444444444,\"#bd3786\"],[0.5555555555555556,\"#d8576b\"],[0.6666666666666666,\"#ed7953\"],[0.7777777777777778,\"#fb9f3a\"],[0.8888888888888888,\"#fdca26\"],[1.0,\"#f0f921\"]]},\"colorway\":[\"#636efa\",\"#EF553B\",\"#00cc96\",\"#ab63fa\",\"#FFA15A\",\"#19d3f3\",\"#FF6692\",\"#B6E880\",\"#FF97FF\",\"#FECB52\"],\"font\":{\"color\":\"#2a3f5f\"},\"geo\":{\"bgcolor\":\"white\",\"lakecolor\":\"white\",\"landcolor\":\"#E5ECF6\",\"showlakes\":true,\"showland\":true,\"subunitcolor\":\"white\"},\"hoverlabel\":{\"align\":\"left\"},\"hovermode\":\"closest\",\"mapbox\":{\"style\":\"light\"},\"paper_bgcolor\":\"white\",\"plot_bgcolor\":\"#E5ECF6\",\"polar\":{\"angularaxis\":{\"gridcolor\":\"white\",\"linecolor\":\"white\",\"ticks\":\"\"},\"bgcolor\":\"#E5ECF6\",\"radialaxis\":{\"gridcolor\":\"white\",\"linecolor\":\"white\",\"ticks\":\"\"}},\"scene\":{\"xaxis\":{\"backgroundcolor\":\"#E5ECF6\",\"gridcolor\":\"white\",\"gridwidth\":2,\"linecolor\":\"white\",\"showbackground\":true,\"ticks\":\"\",\"zerolinecolor\":\"white\"},\"yaxis\":{\"backgroundcolor\":\"#E5ECF6\",\"gridcolor\":\"white\",\"gridwidth\":2,\"linecolor\":\"white\",\"showbackground\":true,\"ticks\":\"\",\"zerolinecolor\":\"white\"},\"zaxis\":{\"backgroundcolor\":\"#E5ECF6\",\"gridcolor\":\"white\",\"gridwidth\":2,\"linecolor\":\"white\",\"showbackground\":true,\"ticks\":\"\",\"zerolinecolor\":\"white\"}},\"shapedefaults\":{\"line\":{\"color\":\"#2a3f5f\"}},\"ternary\":{\"aaxis\":{\"gridcolor\":\"white\",\"linecolor\":\"white\",\"ticks\":\"\"},\"baxis\":{\"gridcolor\":\"white\",\"linecolor\":\"white\",\"ticks\":\"\"},\"bgcolor\":\"#E5ECF6\",\"caxis\":{\"gridcolor\":\"white\",\"linecolor\":\"white\",\"ticks\":\"\"}},\"title\":{\"x\":0.05},\"xaxis\":{\"automargin\":true,\"gridcolor\":\"white\",\"linecolor\":\"white\",\"ticks\":\"\",\"title\":{\"standoff\":15},\"zerolinecolor\":\"white\",\"zerolinewidth\":2},\"yaxis\":{\"automargin\":true,\"gridcolor\":\"white\",\"linecolor\":\"white\",\"ticks\":\"\",\"title\":{\"standoff\":15},\"zerolinecolor\":\"white\",\"zerolinewidth\":2}}},\"title\":{\"text\":\"Distribution of the Rating using ploty\"}},                        {\"responsive\": true}                    ).then(function(){\n",
              "                            \n",
              "var gd = document.getElementById('3e733ae1-2109-462c-995e-8139adba1414');\n",
              "var x = new MutationObserver(function (mutations, observer) {{\n",
              "        var display = window.getComputedStyle(gd).display;\n",
              "        if (!display || display === 'none') {{\n",
              "            console.log([gd, 'removed!']);\n",
              "            Plotly.purge(gd);\n",
              "            observer.disconnect();\n",
              "        }}\n",
              "}});\n",
              "\n",
              "// Listen for the removal of the full notebook cells\n",
              "var notebookContainer = gd.closest('#notebook-container');\n",
              "if (notebookContainer) {{\n",
              "    x.observe(notebookContainer, {childList: true});\n",
              "}}\n",
              "\n",
              "// Listen for the clearing of the current output cell\n",
              "var outputEl = gd.closest('.output');\n",
              "if (outputEl) {{\n",
              "    x.observe(outputEl, {childList: true});\n",
              "}}\n",
              "\n",
              "                        })                };                            </script>        </div>\n",
              "</body>\n",
              "</html>"
            ]
          },
          "metadata": {}
        }
      ],
      "source": [
        "# PLotting Rating using ploty\n",
        "a  = df.rating.value_counts()\n",
        "fig = go.Figure([go.Bar(x=a.index, y=a.values,text=a.values)])\n",
        "fig.update_layout(title='Distribution of the Rating using ploty')\n",
        "fig.show()"
      ]
    },
    {
      "cell_type": "markdown",
      "id": "b4c75048",
      "metadata": {
        "id": "b4c75048",
        "papermill": {
          "duration": 0.075137,
          "end_time": "2022-03-20T07:59:30.939413",
          "exception": false,
          "start_time": "2022-03-20T07:59:30.864276",
          "status": "completed"
        },
        "tags": []
      },
      "source": [
        "## Plotting word cloud"
      ]
    },
    {
      "cell_type": "code",
      "execution_count": 66,
      "id": "557469b7",
      "metadata": {
        "_kg_hide-input": true,
        "execution": {
          "iopub.execute_input": "2022-03-20T07:59:31.108689Z",
          "iopub.status.busy": "2022-03-20T07:59:31.103757Z",
          "iopub.status.idle": "2022-03-20T07:59:31.572476Z",
          "shell.execute_reply": "2022-03-20T07:59:31.571651Z",
          "shell.execute_reply.started": "2022-03-20T07:15:36.977224Z"
        },
        "id": "557469b7",
        "papermill": {
          "duration": 0.5564,
          "end_time": "2022-03-20T07:59:31.572648",
          "exception": false,
          "start_time": "2022-03-20T07:59:31.016248",
          "status": "completed"
        },
        "tags": []
      },
      "outputs": [],
      "source": [
        "text = \" \".join(cat.split()[0] for cat in df.reviewText)\n",
        "word_cloud = WordCloud(collocations = False, background_color = 'white').generate(text)"
      ]
    },
    {
      "cell_type": "code",
      "execution_count": 67,
      "id": "8d350b65",
      "metadata": {
        "colab": {
          "base_uri": "https://localhost:8080/",
          "height": 310
        },
        "execution": {
          "iopub.execute_input": "2022-03-20T07:59:31.730517Z",
          "iopub.status.busy": "2022-03-20T07:59:31.729831Z",
          "iopub.status.idle": "2022-03-20T07:59:31.961669Z",
          "shell.execute_reply": "2022-03-20T07:59:31.962551Z",
          "shell.execute_reply.started": "2022-03-20T07:15:37.432999Z"
        },
        "id": "8d350b65",
        "outputId": "66bdf572-3665-4846-ba76-fea6281e1c0b",
        "papermill": {
          "duration": 0.313714,
          "end_time": "2022-03-20T07:59:31.962869",
          "exception": false,
          "start_time": "2022-03-20T07:59:31.649155",
          "status": "completed"
        },
        "tags": []
      },
      "outputs": [
        {
          "output_type": "display_data",
          "data": {
            "text/plain": [
              "<Figure size 720x576 with 1 Axes>"
            ],
            "image/png": "[encoded data removed]"
          },
          "metadata": {}
        }
      ],
      "source": [
        "plt.figure(figsize=(10,8))\n",
        "plt.imshow(word_cloud, interpolation='bilinear')\n",
        "plt.axis(\"off\")\n",
        "plt.show()"
      ]
    },
    {
      "cell_type": "markdown",
      "id": "b5c4bca0",
      "metadata": {
        "id": "b5c4bca0"
      },
      "source": [
        "#### Top 10 words"
      ]
    },
    {
      "cell_type": "code",
      "execution_count": 68,
      "id": "dbb05334",
      "metadata": {
        "colab": {
          "base_uri": "https://localhost:8080/"
        },
        "execution": {
          "iopub.execute_input": "2022-03-20T07:59:32.150866Z",
          "iopub.status.busy": "2022-03-20T07:59:32.150174Z",
          "iopub.status.idle": "2022-03-20T07:59:32.490596Z",
          "shell.execute_reply": "2022-03-20T07:59:32.489917Z",
          "shell.execute_reply.started": "2022-03-20T07:15:37.659789Z"
        },
        "id": "dbb05334",
        "outputId": "fb740b60-34b1-4d7a-d63c-d6ed6c0de016",
        "papermill": {
          "duration": 0.429166,
          "end_time": "2022-03-20T07:59:32.490756",
          "exception": false,
          "start_time": "2022-03-20T07:59:32.061590",
          "status": "completed"
        },
        "tags": []
      },
      "outputs": [
        {
          "output_type": "execute_result",
          "data": {
            "text/plain": [
              "[('book', 15397),\n",
              " ('story', 11027),\n",
              " ('read', 10023),\n",
              " ('like', 6207),\n",
              " ('one', 5949),\n",
              " ('character', 5677),\n",
              " ('get', 5453),\n",
              " ('love', 5059),\n",
              " ('good', 4763),\n",
              " ('would', 4093)]"
            ]
          },
          "metadata": {},
          "execution_count": 68
        }
      ],
      "source": [
        "from collections import Counter\n",
        "cnt = Counter()\n",
        "for text in df[\"reviewText\"].values:\n",
        "    for word in text.split():\n",
        "        cnt[word] += 1\n",
        "        \n",
        "cnt.most_common(10)"
      ]
    },
    {
      "cell_type": "markdown",
      "id": "7be90923",
      "metadata": {
        "id": "7be90923"
      },
      "source": [
        "#### Number of times book occurs in dataset"
      ]
    },
    {
      "cell_type": "code",
      "execution_count": 69,
      "id": "492f2acd",
      "metadata": {
        "colab": {
          "base_uri": "https://localhost:8080/"
        },
        "execution": {
          "iopub.execute_input": "2022-03-20T07:59:32.649375Z",
          "iopub.status.busy": "2022-03-20T07:59:32.648737Z",
          "iopub.status.idle": "2022-03-20T07:59:32.651828Z",
          "shell.execute_reply": "2022-03-20T07:59:32.652296Z",
          "shell.execute_reply.started": "2022-03-20T07:15:38.02384Z"
        },
        "id": "492f2acd",
        "outputId": "d7ae54c5-50de-4314-a899-4f4d0f9fa180",
        "papermill": {
          "duration": 0.08348,
          "end_time": "2022-03-20T07:59:32.652482",
          "exception": false,
          "start_time": "2022-03-20T07:59:32.569002",
          "status": "completed"
        },
        "tags": []
      },
      "outputs": [
        {
          "output_type": "execute_result",
          "data": {
            "text/plain": [
              "15397"
            ]
          },
          "metadata": {},
          "execution_count": 69
        }
      ],
      "source": [
        "cnt.get(\"book\")"
      ]
    },
    {
      "cell_type": "code",
      "execution_count": 70,
      "id": "13768f78",
      "metadata": {
        "execution": {
          "iopub.execute_input": "2022-03-20T07:59:32.812814Z",
          "iopub.status.busy": "2022-03-20T07:59:32.812135Z",
          "iopub.status.idle": "2022-03-20T07:59:32.825054Z",
          "shell.execute_reply": "2022-03-20T07:59:32.824452Z",
          "shell.execute_reply.started": "2022-03-20T07:15:38.031806Z"
        },
        "id": "13768f78",
        "papermill": {
          "duration": 0.095765,
          "end_time": "2022-03-20T07:59:32.825213",
          "exception": false,
          "start_time": "2022-03-20T07:59:32.729448",
          "status": "completed"
        },
        "tags": []
      },
      "outputs": [],
      "source": [
        "cn = cnt.most_common(10)\n",
        "w = []\n",
        "c = []"
      ]
    },
    {
      "cell_type": "code",
      "execution_count": 71,
      "id": "c9735e23",
      "metadata": {
        "execution": {
          "iopub.execute_input": "2022-03-20T07:59:32.992488Z",
          "iopub.status.busy": "2022-03-20T07:59:32.991815Z",
          "iopub.status.idle": "2022-03-20T07:59:32.995738Z",
          "shell.execute_reply": "2022-03-20T07:59:32.995186Z",
          "shell.execute_reply.started": "2022-03-20T07:15:38.055676Z"
        },
        "id": "c9735e23",
        "papermill": {
          "duration": 0.090134,
          "end_time": "2022-03-20T07:59:32.995891",
          "exception": false,
          "start_time": "2022-03-20T07:59:32.905757",
          "status": "completed"
        },
        "tags": []
      },
      "outputs": [],
      "source": [
        "for i in cn:\n",
        "    w.append(i[0])\n",
        "    c.append(i[1])"
      ]
    },
    {
      "cell_type": "markdown",
      "id": "dd62712c",
      "metadata": {
        "id": "dd62712c",
        "papermill": {
          "duration": 0.080133,
          "end_time": "2022-03-20T07:59:33.153921",
          "exception": false,
          "start_time": "2022-03-20T07:59:33.073788",
          "status": "completed"
        },
        "tags": []
      },
      "source": [
        "## Pie chart for Most Frequent Words"
      ]
    },
    {
      "cell_type": "code",
      "execution_count": 72,
      "id": "aac2c0cb",
      "metadata": {
        "colab": {
          "base_uri": "https://localhost:8080/",
          "height": 542
        },
        "execution": {
          "iopub.execute_input": "2022-03-20T07:59:33.318918Z",
          "iopub.status.busy": "2022-03-20T07:59:33.318238Z",
          "iopub.status.idle": "2022-03-20T07:59:34.432686Z",
          "shell.execute_reply": "2022-03-20T07:59:34.432057Z",
          "shell.execute_reply.started": "2022-03-20T07:15:38.072739Z"
        },
        "id": "aac2c0cb",
        "outputId": "73e6f4f5-3225-49cd-95dc-3c396eee655c",
        "papermill": {
          "duration": 1.19994,
          "end_time": "2022-03-20T07:59:34.432874",
          "exception": false,
          "start_time": "2022-03-20T07:59:33.232934",
          "status": "completed"
        },
        "tags": []
      },
      "outputs": [
        {
          "output_type": "display_data",
          "data": {
            "text/html": [
              "<html>\n",
              "<head><meta charset=\"utf-8\" /></head>\n",
              "<body>\n",
              "    <div>            <script src=\"https://cdnjs.cloudflare.com/ajax/libs/mathjax/2.7.5/MathJax.js?config=TeX-AMS-MML_SVG\"></script><script type=\"text/javascript\">if (window.MathJax) {MathJax.Hub.Config({SVG: {font: \"STIX-Web\"}});}</script>                <script type=\"text/javascript\">window.PlotlyConfig = {MathJaxConfig: 'local'};</script>\n",
              "        <script src=\"https://cdn.plot.ly/plotly-2.8.3.min.js\"></script>                <div id=\"227683d3-f863-4b39-b7a8-77740651b09e\" class=\"plotly-graph-div\" style=\"height:525px; width:100%;\"></div>            <script type=\"text/javascript\">                                    window.PLOTLYENV=window.PLOTLYENV || {};                                    if (document.getElementById(\"227683d3-f863-4b39-b7a8-77740651b09e\")) {                    Plotly.newPlot(                        \"227683d3-f863-4b39-b7a8-77740651b09e\",                        [{\"domain\":{\"x\":[0.0,1.0],\"y\":[0.0,1.0]},\"hovertemplate\":\"label=%{label}<br>value=%{value}<extra></extra>\",\"labels\":[\"book\",\"story\",\"read\",\"like\",\"one\",\"character\",\"get\",\"love\",\"good\",\"would\"],\"legendgroup\":\"\",\"name\":\"\",\"showlegend\":true,\"values\":[15397,11027,10023,6207,5949,5677,5453,5059,4763,4093],\"type\":\"pie\",\"textinfo\":\"percent+label\",\"textposition\":\"inside\"}],                        {\"template\":{\"data\":{\"bar\":[{\"error_x\":{\"color\":\"#2a3f5f\"},\"error_y\":{\"color\":\"#2a3f5f\"},\"marker\":{\"line\":{\"color\":\"#E5ECF6\",\"width\":0.5},\"pattern\":{\"fillmode\":\"overlay\",\"size\":10,\"solidity\":0.2}},\"type\":\"bar\"}],\"barpolar\":[{\"marker\":{\"line\":{\"color\":\"#E5ECF6\",\"width\":0.5},\"pattern\":{\"fillmode\":\"overlay\",\"size\":10,\"solidity\":0.2}},\"type\":\"barpolar\"}],\"carpet\":[{\"aaxis\":{\"endlinecolor\":\"#2a3f5f\",\"gridcolor\":\"white\",\"linecolor\":\"white\",\"minorgridcolor\":\"white\",\"startlinecolor\":\"#2a3f5f\"},\"baxis\":{\"endlinecolor\":\"#2a3f5f\",\"gridcolor\":\"white\",\"linecolor\":\"white\",\"minorgridcolor\":\"white\",\"startlinecolor\":\"#2a3f5f\"},\"type\":\"carpet\"}],\"choropleth\":[{\"colorbar\":{\"outlinewidth\":0,\"ticks\":\"\"},\"type\":\"choropleth\"}],\"contour\":[{\"colorbar\":{\"outlinewidth\":0,\"ticks\":\"\"},\"colorscale\":[[0.0,\"#0d0887\"],[0.1111111111111111,\"#46039f\"],[0.2222222222222222,\"#7201a8\"],[0.3333333333333333,\"#9c179e\"],[0.4444444444444444,\"#bd3786\"],[0.5555555555555556,\"#d8576b\"],[0.6666666666666666,\"#ed7953\"],[0.7777777777777778,\"#fb9f3a\"],[0.8888888888888888,\"#fdca26\"],[1.0,\"#f0f921\"]],\"type\":\"contour\"}],\"contourcarpet\":[{\"colorbar\":{\"outlinewidth\":0,\"ticks\":\"\"},\"type\":\"contourcarpet\"}],\"heatmap\":[{\"colorbar\":{\"outlinewidth\":0,\"ticks\":\"\"},\"colorscale\":[[0.0,\"#0d0887\"],[0.1111111111111111,\"#46039f\"],[0.2222222222222222,\"#7201a8\"],[0.3333333333333333,\"#9c179e\"],[0.4444444444444444,\"#bd3786\"],[0.5555555555555556,\"#d8576b\"],[0.6666666666666666,\"#ed7953\"],[0.7777777777777778,\"#fb9f3a\"],[0.8888888888888888,\"#fdca26\"],[1.0,\"#f0f921\"]],\"type\":\"heatmap\"}],\"heatmapgl\":[{\"colorbar\":{\"outlinewidth\":0,\"ticks\":\"\"},\"colorscale\":[[0.0,\"#0d0887\"],[0.1111111111111111,\"#46039f\"],[0.2222222222222222,\"#7201a8\"],[0.3333333333333333,\"#9c179e\"],[0.4444444444444444,\"#bd3786\"],[0.5555555555555556,\"#d8576b\"],[0.6666666666666666,\"#ed7953\"],[0.7777777777777778,\"#fb9f3a\"],[0.8888888888888888,\"#fdca26\"],[1.0,\"#f0f921\"]],\"type\":\"heatmapgl\"}],\"histogram\":[{\"marker\":{\"pattern\":{\"fillmode\":\"overlay\",\"size\":10,\"solidity\":0.2}},\"type\":\"histogram\"}],\"histogram2d\":[{\"colorbar\":{\"outlinewidth\":0,\"ticks\":\"\"},\"colorscale\":[[0.0,\"#0d0887\"],[0.1111111111111111,\"#46039f\"],[0.2222222222222222,\"#7201a8\"],[0.3333333333333333,\"#9c179e\"],[0.4444444444444444,\"#bd3786\"],[0.5555555555555556,\"#d8576b\"],[0.6666666666666666,\"#ed7953\"],[0.7777777777777778,\"#fb9f3a\"],[0.8888888888888888,\"#fdca26\"],[1.0,\"#f0f921\"]],\"type\":\"histogram2d\"}],\"histogram2dcontour\":[{\"colorbar\":{\"outlinewidth\":0,\"ticks\":\"\"},\"colorscale\":[[0.0,\"#0d0887\"],[0.1111111111111111,\"#46039f\"],[0.2222222222222222,\"#7201a8\"],[0.3333333333333333,\"#9c179e\"],[0.4444444444444444,\"#bd3786\"],[0.5555555555555556,\"#d8576b\"],[0.6666666666666666,\"#ed7953\"],[0.7777777777777778,\"#fb9f3a\"],[0.8888888888888888,\"#fdca26\"],[1.0,\"#f0f921\"]],\"type\":\"histogram2dcontour\"}],\"mesh3d\":[{\"colorbar\":{\"outlinewidth\":0,\"ticks\":\"\"},\"type\":\"mesh3d\"}],\"parcoords\":[{\"line\":{\"colorbar\":{\"outlinewidth\":0,\"ticks\":\"\"}},\"type\":\"parcoords\"}],\"pie\":[{\"automargin\":true,\"type\":\"pie\"}],\"scatter\":[{\"marker\":{\"colorbar\":{\"outlinewidth\":0,\"ticks\":\"\"}},\"type\":\"scatter\"}],\"scatter3d\":[{\"line\":{\"colorbar\":{\"outlinewidth\":0,\"ticks\":\"\"}},\"marker\":{\"colorbar\":{\"outlinewidth\":0,\"ticks\":\"\"}},\"type\":\"scatter3d\"}],\"scattercarpet\":[{\"marker\":{\"colorbar\":{\"outlinewidth\":0,\"ticks\":\"\"}},\"type\":\"scattercarpet\"}],\"scattergeo\":[{\"marker\":{\"colorbar\":{\"outlinewidth\":0,\"ticks\":\"\"}},\"type\":\"scattergeo\"}],\"scattergl\":[{\"marker\":{\"colorbar\":{\"outlinewidth\":0,\"ticks\":\"\"}},\"type\":\"scattergl\"}],\"scattermapbox\":[{\"marker\":{\"colorbar\":{\"outlinewidth\":0,\"ticks\":\"\"}},\"type\":\"scattermapbox\"}],\"scatterpolar\":[{\"marker\":{\"colorbar\":{\"outlinewidth\":0,\"ticks\":\"\"}},\"type\":\"scatterpolar\"}],\"scatterpolargl\":[{\"marker\":{\"colorbar\":{\"outlinewidth\":0,\"ticks\":\"\"}},\"type\":\"scatterpolargl\"}],\"scatterternary\":[{\"marker\":{\"colorbar\":{\"outlinewidth\":0,\"ticks\":\"\"}},\"type\":\"scatterternary\"}],\"surface\":[{\"colorbar\":{\"outlinewidth\":0,\"ticks\":\"\"},\"colorscale\":[[0.0,\"#0d0887\"],[0.1111111111111111,\"#46039f\"],[0.2222222222222222,\"#7201a8\"],[0.3333333333333333,\"#9c179e\"],[0.4444444444444444,\"#bd3786\"],[0.5555555555555556,\"#d8576b\"],[0.6666666666666666,\"#ed7953\"],[0.7777777777777778,\"#fb9f3a\"],[0.8888888888888888,\"#fdca26\"],[1.0,\"#f0f921\"]],\"type\":\"surface\"}],\"table\":[{\"cells\":{\"fill\":{\"color\":\"#EBF0F8\"},\"line\":{\"color\":\"white\"}},\"header\":{\"fill\":{\"color\":\"#C8D4E3\"},\"line\":{\"color\":\"white\"}},\"type\":\"table\"}]},\"layout\":{\"annotationdefaults\":{\"arrowcolor\":\"#2a3f5f\",\"arrowhead\":0,\"arrowwidth\":1},\"autotypenumbers\":\"strict\",\"coloraxis\":{\"colorbar\":{\"outlinewidth\":0,\"ticks\":\"\"}},\"colorscale\":{\"diverging\":[[0,\"#8e0152\"],[0.1,\"#c51b7d\"],[0.2,\"#de77ae\"],[0.3,\"#f1b6da\"],[0.4,\"#fde0ef\"],[0.5,\"#f7f7f7\"],[0.6,\"#e6f5d0\"],[0.7,\"#b8e186\"],[0.8,\"#7fbc41\"],[0.9,\"#4d9221\"],[1,\"#276419\"]],\"sequential\":[[0.0,\"#0d0887\"],[0.1111111111111111,\"#46039f\"],[0.2222222222222222,\"#7201a8\"],[0.3333333333333333,\"#9c179e\"],[0.4444444444444444,\"#bd3786\"],[0.5555555555555556,\"#d8576b\"],[0.6666666666666666,\"#ed7953\"],[0.7777777777777778,\"#fb9f3a\"],[0.8888888888888888,\"#fdca26\"],[1.0,\"#f0f921\"]],\"sequentialminus\":[[0.0,\"#0d0887\"],[0.1111111111111111,\"#46039f\"],[0.2222222222222222,\"#7201a8\"],[0.3333333333333333,\"#9c179e\"],[0.4444444444444444,\"#bd3786\"],[0.5555555555555556,\"#d8576b\"],[0.6666666666666666,\"#ed7953\"],[0.7777777777777778,\"#fb9f3a\"],[0.8888888888888888,\"#fdca26\"],[1.0,\"#f0f921\"]]},\"colorway\":[\"#636efa\",\"#EF553B\",\"#00cc96\",\"#ab63fa\",\"#FFA15A\",\"#19d3f3\",\"#FF6692\",\"#B6E880\",\"#FF97FF\",\"#FECB52\"],\"font\":{\"color\":\"#2a3f5f\"},\"geo\":{\"bgcolor\":\"white\",\"lakecolor\":\"white\",\"landcolor\":\"#E5ECF6\",\"showlakes\":true,\"showland\":true,\"subunitcolor\":\"white\"},\"hoverlabel\":{\"align\":\"left\"},\"hovermode\":\"closest\",\"mapbox\":{\"style\":\"light\"},\"paper_bgcolor\":\"white\",\"plot_bgcolor\":\"#E5ECF6\",\"polar\":{\"angularaxis\":{\"gridcolor\":\"white\",\"linecolor\":\"white\",\"ticks\":\"\"},\"bgcolor\":\"#E5ECF6\",\"radialaxis\":{\"gridcolor\":\"white\",\"linecolor\":\"white\",\"ticks\":\"\"}},\"scene\":{\"xaxis\":{\"backgroundcolor\":\"#E5ECF6\",\"gridcolor\":\"white\",\"gridwidth\":2,\"linecolor\":\"white\",\"showbackground\":true,\"ticks\":\"\",\"zerolinecolor\":\"white\"},\"yaxis\":{\"backgroundcolor\":\"#E5ECF6\",\"gridcolor\":\"white\",\"gridwidth\":2,\"linecolor\":\"white\",\"showbackground\":true,\"ticks\":\"\",\"zerolinecolor\":\"white\"},\"zaxis\":{\"backgroundcolor\":\"#E5ECF6\",\"gridcolor\":\"white\",\"gridwidth\":2,\"linecolor\":\"white\",\"showbackground\":true,\"ticks\":\"\",\"zerolinecolor\":\"white\"}},\"shapedefaults\":{\"line\":{\"color\":\"#2a3f5f\"}},\"ternary\":{\"aaxis\":{\"gridcolor\":\"white\",\"linecolor\":\"white\",\"ticks\":\"\"},\"baxis\":{\"gridcolor\":\"white\",\"linecolor\":\"white\",\"ticks\":\"\"},\"bgcolor\":\"#E5ECF6\",\"caxis\":{\"gridcolor\":\"white\",\"linecolor\":\"white\",\"ticks\":\"\"}},\"title\":{\"x\":0.05},\"xaxis\":{\"automargin\":true,\"gridcolor\":\"white\",\"linecolor\":\"white\",\"ticks\":\"\",\"title\":{\"standoff\":15},\"zerolinecolor\":\"white\",\"zerolinewidth\":2},\"yaxis\":{\"automargin\":true,\"gridcolor\":\"white\",\"linecolor\":\"white\",\"ticks\":\"\",\"title\":{\"standoff\":15},\"zerolinecolor\":\"white\",\"zerolinewidth\":2}}},\"legend\":{\"tracegroupgap\":0},\"margin\":{\"t\":60},\"piecolorway\":[\"rgb(103,0,31)\",\"rgb(178,24,43)\",\"rgb(214,96,77)\",\"rgb(244,165,130)\",\"rgb(253,219,199)\",\"rgb(247,247,247)\",\"rgb(209,229,240)\",\"rgb(146,197,222)\",\"rgb(67,147,195)\",\"rgb(33,102,172)\",\"rgb(5,48,97)\"],\"title\":{\"text\":\"Most Frequent Words\"}},                        {\"responsive\": true}                    ).then(function(){\n",
              "                            \n",
              "var gd = document.getElementById('227683d3-f863-4b39-b7a8-77740651b09e');\n",
              "var x = new MutationObserver(function (mutations, observer) {{\n",
              "        var display = window.getComputedStyle(gd).display;\n",
              "        if (!display || display === 'none') {{\n",
              "            console.log([gd, 'removed!']);\n",
              "            Plotly.purge(gd);\n",
              "            observer.disconnect();\n",
              "        }}\n",
              "}});\n",
              "\n",
              "// Listen for the removal of the full notebook cells\n",
              "var notebookContainer = gd.closest('#notebook-container');\n",
              "if (notebookContainer) {{\n",
              "    x.observe(notebookContainer, {childList: true});\n",
              "}}\n",
              "\n",
              "// Listen for the clearing of the current output cell\n",
              "var outputEl = gd.closest('.output');\n",
              "if (outputEl) {{\n",
              "    x.observe(outputEl, {childList: true});\n",
              "}}\n",
              "\n",
              "                        })                };                            </script>        </div>\n",
              "</body>\n",
              "</html>"
            ]
          },
          "metadata": {}
        }
      ],
      "source": [
        "fig = px.pie(df, values=c, names=w, color_discrete_sequence=px.colors.sequential.RdBu)\n",
        "fig.update_traces(textposition='inside', textinfo='percent+label')\n",
        "fig.update_layout(title=\"Most Frequent Words\")\n",
        "fig.show()"
      ]
    },
    {
      "cell_type": "markdown",
      "id": "5a74fe93",
      "metadata": {
        "id": "5a74fe93",
        "papermill": {
          "duration": 0.079718,
          "end_time": "2022-03-20T07:59:34.589748",
          "exception": false,
          "start_time": "2022-03-20T07:59:34.510030",
          "status": "completed"
        },
        "tags": []
      },
      "source": [
        "## Displaying least used words"
      ]
    },
    {
      "cell_type": "code",
      "execution_count": 73,
      "id": "c572227a",
      "metadata": {
        "execution": {
          "iopub.execute_input": "2022-03-20T07:59:34.759575Z",
          "iopub.status.busy": "2022-03-20T07:59:34.758925Z",
          "iopub.status.idle": "2022-03-20T07:59:34.783640Z",
          "shell.execute_reply": "2022-03-20T07:59:34.783046Z",
          "shell.execute_reply.started": "2022-03-20T07:15:38.137804Z"
        },
        "id": "c572227a",
        "papermill": {
          "duration": 0.110771,
          "end_time": "2022-03-20T07:59:34.783811",
          "exception": false,
          "start_time": "2022-03-20T07:59:34.673040",
          "status": "completed"
        },
        "tags": []
      },
      "outputs": [],
      "source": [
        "n_least_used_words = 11\n",
        "LEASTUSEDWORDS = set([w for (w, wc) in cnt.most_common()[:-n_least_used_words-1:-1]])"
      ]
    },
    {
      "cell_type": "code",
      "execution_count": 74,
      "id": "95eb00a4",
      "metadata": {
        "colab": {
          "base_uri": "https://localhost:8080/"
        },
        "execution": {
          "iopub.execute_input": "2022-03-20T07:59:34.953805Z",
          "iopub.status.busy": "2022-03-20T07:59:34.953102Z",
          "iopub.status.idle": "2022-03-20T07:59:34.957365Z",
          "shell.execute_reply": "2022-03-20T07:59:34.957921Z",
          "shell.execute_reply.started": "2022-03-20T07:15:38.166701Z"
        },
        "id": "95eb00a4",
        "outputId": "b10384a3-3e1b-46f0-b34f-bf290c45ab90",
        "papermill": {
          "duration": 0.094202,
          "end_time": "2022-03-20T07:59:34.958162",
          "exception": false,
          "start_time": "2022-03-20T07:59:34.863960",
          "status": "completed"
        },
        "tags": []
      },
      "outputs": [
        {
          "output_type": "execute_result",
          "data": {
            "text/plain": [
              "{'1922',\n",
              " 'backgroung',\n",
              " 'don8216t',\n",
              " 'firedrake',\n",
              " 'gryphon',\n",
              " 'helos',\n",
              " 'insite',\n",
              " 'meaness',\n",
              " 'relm',\n",
              " 'symbols',\n",
              " 'twicetypos'}"
            ]
          },
          "metadata": {},
          "execution_count": 74
        }
      ],
      "source": [
        "LEASTUSEDWORDS"
      ]
    },
    {
      "cell_type": "markdown",
      "id": "700d6fc4",
      "metadata": {
        "id": "700d6fc4",
        "papermill": {
          "duration": 0.080879,
          "end_time": "2022-03-20T07:59:35.122844",
          "exception": false,
          "start_time": "2022-03-20T07:59:35.041965",
          "status": "completed"
        },
        "tags": []
      },
      "source": [
        "# Splitting the data"
      ]
    },
    {
      "cell_type": "code",
      "source": [
        "df['reviewText'].shape"
      ],
      "metadata": {
        "colab": {
          "base_uri": "https://localhost:8080/"
        },
        "id": "4DfPfdHprcmA",
        "outputId": "84af3ddf-bda6-44d3-f78f-0789df662351"
      },
      "id": "4DfPfdHprcmA",
      "execution_count": 79,
      "outputs": [
        {
          "output_type": "execute_result",
          "data": {
            "text/plain": [
              "(12000,)"
            ]
          },
          "metadata": {},
          "execution_count": 79
        }
      ]
    },
    {
      "cell_type": "code",
      "source": [
        "df['rating'].shape"
      ],
      "metadata": {
        "colab": {
          "base_uri": "https://localhost:8080/"
        },
        "id": "P3YGIqUvstpi",
        "outputId": "fbdfc85b-c116-485b-f43b-a9a7a45ad438"
      },
      "id": "P3YGIqUvstpi",
      "execution_count": 80,
      "outputs": [
        {
          "output_type": "execute_result",
          "data": {
            "text/plain": [
              "(12000,)"
            ]
          },
          "metadata": {},
          "execution_count": 80
        }
      ]
    },
    {
      "cell_type": "code",
      "execution_count": 82,
      "id": "3a908a71",
      "metadata": {
        "execution": {
          "iopub.execute_input": "2022-03-20T07:59:35.467967Z",
          "iopub.status.busy": "2022-03-20T07:59:35.467262Z",
          "iopub.status.idle": "2022-03-20T07:59:35.478514Z",
          "shell.execute_reply": "2022-03-20T07:59:35.477551Z",
          "shell.execute_reply.started": "2022-03-20T07:15:38.199753Z"
        },
        "id": "3a908a71",
        "papermill": {
          "duration": 0.098499,
          "end_time": "2022-03-20T07:59:35.478792",
          "exception": false,
          "start_time": "2022-03-20T07:59:35.380293",
          "status": "completed"
        },
        "tags": []
      },
      "outputs": [],
      "source": [
        "train, test = train_test_split(df, test_size = 0.2, random_state = 42)"
      ]
    },
    {
      "cell_type": "markdown",
      "id": "14e4b0d7",
      "metadata": {
        "id": "14e4b0d7"
      },
      "source": [
        "## Vectorising data with CountVectorizer"
      ]
    },
    {
      "cell_type": "code",
      "execution_count": 83,
      "id": "30cbc2a5",
      "metadata": {
        "execution": {
          "iopub.execute_input": "2022-03-20T07:59:35.640427Z",
          "iopub.status.busy": "2022-03-20T07:59:35.639765Z",
          "iopub.status.idle": "2022-03-20T07:59:37.043837Z",
          "shell.execute_reply": "2022-03-20T07:59:37.044370Z",
          "shell.execute_reply.started": "2022-03-20T07:15:38.218081Z"
        },
        "id": "30cbc2a5",
        "papermill": {
          "duration": 1.486582,
          "end_time": "2022-03-20T07:59:37.044547",
          "exception": false,
          "start_time": "2022-03-20T07:59:35.557965",
          "status": "completed"
        },
        "tags": []
      },
      "outputs": [],
      "source": [
        "cv= CountVectorizer(binary=True, min_df = 10, max_df = 0.95)\n",
        "cv.fit_transform(train['reviewText'].values)\n",
        "train_feature_set=cv.transform(train['reviewText'].values)\n",
        "test_feature_set=cv.transform(test['reviewText'].values)"
      ]
    },
    {
      "cell_type": "code",
      "execution_count": 84,
      "id": "ff258d6e",
      "metadata": {
        "colab": {
          "base_uri": "https://localhost:8080/"
        },
        "execution": {
          "iopub.execute_input": "2022-03-20T07:59:37.213344Z",
          "iopub.status.busy": "2022-03-20T07:59:37.212477Z",
          "iopub.status.idle": "2022-03-20T07:59:37.216406Z",
          "shell.execute_reply": "2022-03-20T07:59:37.215770Z",
          "shell.execute_reply.started": "2022-03-20T07:15:39.668494Z"
        },
        "id": "ff258d6e",
        "outputId": "186246cd-ff1d-4b25-ebb1-569986135c95",
        "papermill": {
          "duration": 0.091403,
          "end_time": "2022-03-20T07:59:37.216541",
          "exception": false,
          "start_time": "2022-03-20T07:59:37.125138",
          "status": "completed"
        },
        "tags": []
      },
      "outputs": [
        {
          "output_type": "execute_result",
          "data": {
            "text/plain": [
              "<9600x4071 sparse matrix of type '<class 'numpy.int64'>'\n",
              "\twith 367781 stored elements in Compressed Sparse Row format>"
            ]
          },
          "metadata": {},
          "execution_count": 84
        }
      ],
      "source": [
        "train_feature_set"
      ]
    },
    {
      "cell_type": "code",
      "execution_count": 85,
      "id": "fd5e7199",
      "metadata": {
        "colab": {
          "base_uri": "https://localhost:8080/"
        },
        "execution": {
          "iopub.execute_input": "2022-03-20T07:59:37.380758Z",
          "iopub.status.busy": "2022-03-20T07:59:37.379940Z",
          "iopub.status.idle": "2022-03-20T07:59:37.383224Z",
          "shell.execute_reply": "2022-03-20T07:59:37.383729Z",
          "shell.execute_reply.started": "2022-03-20T07:15:39.679571Z"
        },
        "id": "fd5e7199",
        "outputId": "88e0eb5f-62ca-49a0-ed56-22409a504f00",
        "papermill": {
          "duration": 0.089302,
          "end_time": "2022-03-20T07:59:37.383901",
          "exception": false,
          "start_time": "2022-03-20T07:59:37.294599",
          "status": "completed"
        },
        "tags": []
      },
      "outputs": [
        {
          "output_type": "execute_result",
          "data": {
            "text/plain": [
              "4071"
            ]
          },
          "metadata": {},
          "execution_count": 85
        }
      ],
      "source": [
        "train_feature_set.shape[1]"
      ]
    },
    {
      "cell_type": "code",
      "execution_count": 86,
      "id": "8fa91488",
      "metadata": {
        "colab": {
          "base_uri": "https://localhost:8080/"
        },
        "execution": {
          "iopub.execute_input": "2022-03-20T07:59:37.552866Z",
          "iopub.status.busy": "2022-03-20T07:59:37.549782Z",
          "iopub.status.idle": "2022-03-20T07:59:37.555028Z",
          "shell.execute_reply": "2022-03-20T07:59:37.555530Z",
          "shell.execute_reply.started": "2022-03-20T07:15:39.698212Z"
        },
        "id": "8fa91488",
        "outputId": "3af65559-daf3-49e3-dc3e-63ce23b560df",
        "papermill": {
          "duration": 0.09047,
          "end_time": "2022-03-20T07:59:37.555718",
          "exception": false,
          "start_time": "2022-03-20T07:59:37.465248",
          "status": "completed"
        },
        "tags": []
      },
      "outputs": [
        {
          "output_type": "execute_result",
          "data": {
            "text/plain": [
              "455"
            ]
          },
          "metadata": {},
          "execution_count": 86
        }
      ],
      "source": [
        "cv.vocabulary_['book']"
      ]
    },
    {
      "cell_type": "code",
      "execution_count": 87,
      "id": "f06bf20a",
      "metadata": {
        "execution": {
          "iopub.execute_input": "2022-03-20T07:59:37.723921Z",
          "iopub.status.busy": "2022-03-20T07:59:37.723003Z",
          "iopub.status.idle": "2022-03-20T07:59:37.726475Z",
          "shell.execute_reply": "2022-03-20T07:59:37.725959Z",
          "shell.execute_reply.started": "2022-03-20T07:15:39.712792Z"
        },
        "id": "f06bf20a",
        "papermill": {
          "duration": 0.09009,
          "end_time": "2022-03-20T07:59:37.726618",
          "exception": false,
          "start_time": "2022-03-20T07:59:37.636528",
          "status": "completed"
        },
        "tags": []
      },
      "outputs": [],
      "source": [
        "y_train = train['rating'].values\n",
        "y_test = test['rating'].values"
      ]
    },
    {
      "cell_type": "markdown",
      "id": "e7b032ec",
      "metadata": {
        "id": "e7b032ec",
        "papermill": {
          "duration": 0.079472,
          "end_time": "2022-03-20T07:59:37.884844",
          "exception": false,
          "start_time": "2022-03-20T07:59:37.805372",
          "status": "completed"
        },
        "tags": []
      },
      "source": [
        "# Building our Models"
      ]
    },
    {
      "cell_type": "markdown",
      "id": "1334b377",
      "metadata": {
        "id": "1334b377"
      },
      "source": [
        "## Logistic Regression"
      ]
    },
    {
      "cell_type": "code",
      "execution_count": 88,
      "id": "e3ff904c",
      "metadata": {
        "colab": {
          "base_uri": "https://localhost:8080/"
        },
        "execution": {
          "iopub.execute_input": "2022-03-20T07:59:38.055560Z",
          "iopub.status.busy": "2022-03-20T07:59:38.054343Z",
          "iopub.status.idle": "2022-03-20T07:59:38.363162Z",
          "shell.execute_reply": "2022-03-20T07:59:38.362508Z",
          "shell.execute_reply.started": "2022-03-20T07:15:39.726191Z"
        },
        "id": "e3ff904c",
        "outputId": "d79ea12c-dafc-426b-9129-69e5a4515ae2",
        "papermill": {
          "duration": 0.396173,
          "end_time": "2022-03-20T07:59:38.363304",
          "exception": false,
          "start_time": "2022-03-20T07:59:37.967131",
          "status": "completed"
        },
        "tags": []
      },
      "outputs": [
        {
          "output_type": "stream",
          "name": "stdout",
          "text": [
            "The Accuracy of the model is:  0.841\n"
          ]
        }
      ],
      "source": [
        "lr = LogisticRegression(random_state = 42, max_iter=1000)\n",
        "lr.fit(train_feature_set,y_train)\n",
        "y_pred = lr.predict(test_feature_set)\n",
        "print(\"The Accuracy of the model is: \",round(metrics.accuracy_score(y_test,y_pred),3))"
      ]
    },
    {
      "cell_type": "code",
      "execution_count": 93,
      "id": "a6ba593d",
      "metadata": {
        "execution": {
          "iopub.execute_input": "2022-03-20T07:59:38.527770Z",
          "iopub.status.busy": "2022-03-20T07:59:38.527087Z",
          "iopub.status.idle": "2022-03-20T07:59:38.533225Z",
          "shell.execute_reply": "2022-03-20T07:59:38.532408Z",
          "shell.execute_reply.started": "2022-03-20T07:15:40.085932Z"
        },
        "id": "a6ba593d",
        "papermill": {
          "duration": 0.09086,
          "end_time": "2022-03-20T07:59:38.533382",
          "exception": false,
          "start_time": "2022-03-20T07:59:38.442522",
          "status": "completed"
        },
        "tags": []
      },
      "outputs": [],
      "source": [
        "confusion_matrix1 = confusion_matrix(y_test, y_pred)"
      ]
    },
    {
      "cell_type": "code",
      "execution_count": 95,
      "id": "83a85746",
      "metadata": {
        "colab": {
          "base_uri": "https://localhost:8080/",
          "height": 297
        },
        "execution": {
          "iopub.execute_input": "2022-03-20T07:59:38.704483Z",
          "iopub.status.busy": "2022-03-20T07:59:38.703796Z",
          "iopub.status.idle": "2022-03-20T07:59:38.709360Z",
          "shell.execute_reply": "2022-03-20T07:59:38.709953Z",
          "shell.execute_reply.started": "2022-03-20T07:15:40.098395Z"
        },
        "id": "83a85746",
        "outputId": "de1151da-8cbc-44ec-f82b-a3728b45d684",
        "papermill": {
          "duration": 0.093376,
          "end_time": "2022-03-20T07:59:38.710130",
          "exception": false,
          "start_time": "2022-03-20T07:59:38.616754",
          "status": "completed"
        },
        "tags": []
      },
      "outputs": [
        {
          "output_type": "execute_result",
          "data": {
            "text/plain": [
              "Text(33.0, 0.5, 'True label')"
            ]
          },
          "metadata": {},
          "execution_count": 95
        },
        {
          "output_type": "display_data",
          "data": {
            "text/plain": [
              "<Figure size 432x288 with 2 Axes>"
            ],
            "image/png": "[encoded data removed]"
          },
          "metadata": {}
        }
      ],
      "source": [
        "sns.heatmap(confusion_matrix1, annot=True, fmt='g')\n",
        "plt.xlabel('Predicted label')\n",
        "plt.ylabel('True label')"
      ]
    },
    {
      "cell_type": "markdown",
      "id": "73215f4e",
      "metadata": {
        "id": "73215f4e"
      },
      "source": [
        "## K-Nearest Neighbours"
      ]
    },
    {
      "cell_type": "code",
      "execution_count": 96,
      "id": "jt3LOCCSmelF",
      "metadata": {
        "colab": {
          "base_uri": "https://localhost:8080/"
        },
        "id": "jt3LOCCSmelF",
        "outputId": "f4a2565a-7306-43fc-ad2c-e3eecbdd6fdf"
      },
      "outputs": [
        {
          "output_type": "stream",
          "name": "stdout",
          "text": [
            "The Accuracy of the model is:  0.688\n"
          ]
        }
      ],
      "source": [
        "from sklearn.neighbors import KNeighborsClassifier\n",
        "knn = KNeighborsClassifier()\n",
        "knn.fit(train_feature_set,y_train)\n",
        "y_pred = knn.predict(test_feature_set)\n",
        "print(\"The Accuracy of the model is: \",round(metrics.accuracy_score(y_test,y_pred),3))"
      ]
    },
    {
      "cell_type": "code",
      "execution_count": 97,
      "id": "3Hanu1Myngyp",
      "metadata": {
        "colab": {
          "base_uri": "https://localhost:8080/",
          "height": 297
        },
        "id": "3Hanu1Myngyp",
        "outputId": "b97e82ab-2841-4692-e31f-b443eabff662"
      },
      "outputs": [
        {
          "output_type": "execute_result",
          "data": {
            "text/plain": [
              "Text(33.0, 0.5, 'True label')"
            ]
          },
          "metadata": {},
          "execution_count": 97
        },
        {
          "output_type": "display_data",
          "data": {
            "text/plain": [
              "<Figure size 432x288 with 2 Axes>"
            ],
            "image/png": "[encoded data removed]"
          },
          "metadata": {}
        }
      ],
      "source": [
        "confusion_matrix2 = confusion_matrix(y_test, y_pred)\n",
        "sns.heatmap(confusion_matrix2, annot=True, fmt='g')\n",
        "plt.xlabel('Predicted label')\n",
        "plt.ylabel('True label')"
      ]
    },
    {
      "cell_type": "markdown",
      "id": "60b8399a",
      "metadata": {
        "id": "60b8399a"
      },
      "source": [
        "## Decision Tree Classifier"
      ]
    },
    {
      "cell_type": "code",
      "execution_count": 99,
      "id": "sMwDp3MznvxX",
      "metadata": {
        "colab": {
          "base_uri": "https://localhost:8080/"
        },
        "id": "sMwDp3MznvxX",
        "outputId": "c1f11e01-925d-4705-e1d6-76a70c6ff254"
      },
      "outputs": [
        {
          "output_type": "stream",
          "name": "stdout",
          "text": [
            "The Accuracy of the model is:  0.693\n"
          ]
        }
      ],
      "source": [
        "from sklearn.tree import DecisionTreeClassifier\n",
        "dt = DecisionTreeClassifier()\n",
        "dt.fit(train_feature_set,y_train)\n",
        "y_pred = dt.predict(test_feature_set)\n",
        "print(\"The Accuracy of the model is: \",round(metrics.accuracy_score(y_test,y_pred),3))"
      ]
    },
    {
      "cell_type": "code",
      "execution_count": 100,
      "id": "TlfGBFPVoGmt",
      "metadata": {
        "colab": {
          "base_uri": "https://localhost:8080/",
          "height": 299
        },
        "id": "TlfGBFPVoGmt",
        "outputId": "dac7f973-f348-4260-8e11-f018d60bdcdb"
      },
      "outputs": [
        {
          "output_type": "execute_result",
          "data": {
            "text/plain": [
              "Text(33.0, 0.5, 'True label')"
            ]
          },
          "metadata": {},
          "execution_count": 100
        },
        {
          "output_type": "display_data",
          "data": {
            "text/plain": [
              "<Figure size 432x288 with 2 Axes>"
            ],
            "image/png": "[encoded data removed]"
          },
          "metadata": {}
        }
      ],
      "source": [
        "confusion_matrix3 = confusion_matrix(y_test, y_pred)\n",
        "sns.heatmap(confusion_matrix3, annot=True, fmt='g')\n",
        "plt.xlabel('Predicted label')\n",
        "plt.ylabel('True label')"
      ]
    },
    {
      "cell_type": "markdown",
      "source": [
        "**Feature Importance**"
      ],
      "metadata": {
        "id": "I4eQd1ZVvYjl"
      },
      "id": "I4eQd1ZVvYjl"
    },
    {
      "cell_type": "code",
      "execution_count": null,
      "id": "25506eca",
      "metadata": {
        "colab": {
          "base_uri": "https://localhost:8080/"
        },
        "execution": {
          "iopub.execute_input": "2022-03-20T07:59:39.685546Z",
          "iopub.status.busy": "2022-03-20T07:59:39.684865Z",
          "iopub.status.idle": "2022-03-20T07:59:39.694903Z",
          "shell.execute_reply": "2022-03-20T07:59:39.695523Z",
          "shell.execute_reply.started": "2022-03-20T07:15:40.596464Z"
        },
        "id": "25506eca",
        "outputId": "bd62851a-ae96-40c0-c6e5-f6bac67c7521",
        "papermill": {
          "duration": 0.100155,
          "end_time": "2022-03-20T07:59:39.695721",
          "exception": false,
          "start_time": "2022-03-20T07:59:39.595566",
          "status": "completed"
        },
        "tags": []
      },
      "outputs": [
        {
          "name": "stdout",
          "output_type": "stream",
          "text": [
            "Feature:  099 Score:  0.36978356086841807\n",
            "Feature:  10 Score:  0.38217347272111557\n",
            "Feature:  100 Score:  0.467207551540583\n",
            "Feature:  11 Score:  -0.17769610145918788\n",
            "Feature:  12 Score:  -1.0082787036947964\n",
            "Feature:  13 Score:  1.0339826283546725\n",
            "Feature:  14 Score:  -0.31685556004644116\n",
            "Feature:  15 Score:  0.5986228887173357\n",
            "Feature:  16 Score:  0.5798395653906101\n",
            "Feature:  17 Score:  0.532448640754661\n"
          ]
        }
      ],
      "source": [
        "feature_importance = lr.coef_[0][:10]\n",
        "for i,v in enumerate(feature_importance):\n",
        "    print('Feature: ', list(cv.vocabulary_.keys())[list(cv.vocabulary_.values()).index(i)], 'Score: ', v)"
      ]
    },
    {
      "cell_type": "code",
      "execution_count": null,
      "id": "b18c9f22",
      "metadata": {
        "execution": {
          "iopub.execute_input": "2022-03-20T07:59:39.869519Z",
          "iopub.status.busy": "2022-03-20T07:59:39.868823Z",
          "iopub.status.idle": "2022-03-20T07:59:39.871560Z",
          "shell.execute_reply": "2022-03-20T07:59:39.872207Z",
          "shell.execute_reply.started": "2022-03-20T07:15:40.617997Z"
        },
        "id": "b18c9f22",
        "papermill": {
          "duration": 0.092145,
          "end_time": "2022-03-20T07:59:39.872399",
          "exception": false,
          "start_time": "2022-03-20T07:59:39.780254",
          "status": "completed"
        },
        "tags": []
      },
      "outputs": [],
      "source": [
        "feature_importance = lr.coef_[0]\n",
        "sorted_idx = np.argsort(feature_importance)"
      ]
    },
    {
      "cell_type": "markdown",
      "id": "6cc3b9dc",
      "metadata": {
        "id": "6cc3b9dc",
        "papermill": {
          "duration": 0.085057,
          "end_time": "2022-03-20T07:59:40.042453",
          "exception": false,
          "start_time": "2022-03-20T07:59:39.957396",
          "status": "completed"
        },
        "tags": []
      },
      "source": [
        "**Top words for the negative sentiments:**"
      ]
    },
    {
      "cell_type": "code",
      "execution_count": null,
      "id": "ddf6b2be",
      "metadata": {
        "colab": {
          "base_uri": "https://localhost:8080/"
        },
        "execution": {
          "iopub.execute_input": "2022-03-20T07:59:40.220520Z",
          "iopub.status.busy": "2022-03-20T07:59:40.214439Z",
          "iopub.status.idle": "2022-03-20T07:59:40.229947Z",
          "shell.execute_reply": "2022-03-20T07:59:40.229233Z",
          "shell.execute_reply.started": "2022-03-20T07:15:40.625683Z"
        },
        "id": "ddf6b2be",
        "outputId": "d26a4725-3ac8-4d49-8a8b-40c45565c0db",
        "papermill": {
          "duration": 0.103009,
          "end_time": "2022-03-20T07:59:40.230115",
          "exception": false,
          "start_time": "2022-03-20T07:59:40.127106",
          "status": "completed"
        },
        "tags": []
      },
      "outputs": [
        {
          "name": "stdout",
          "output_type": "stream",
          "text": [
            "['recommendations', 'waste', '25', 'worst', 'flat', 'boring', 'cardboard', 'skip', 'depressing', 'sorry']\n"
          ]
        }
      ],
      "source": [
        "top_10_pos_w = [list(cv.vocabulary_.keys())[list(cv.vocabulary_.values()).index(w)] for w in sorted_idx[range(-1,-11, -1)]]\n",
        "print(top_10_pos_w)"
      ]
    },
    {
      "cell_type": "code",
      "execution_count": null,
      "id": "155de8e1",
      "metadata": {
        "colab": {
          "base_uri": "https://localhost:8080/",
          "height": 468
        },
        "execution": {
          "iopub.execute_input": "2022-03-20T07:59:40.411207Z",
          "iopub.status.busy": "2022-03-20T07:59:40.410519Z",
          "iopub.status.idle": "2022-03-20T07:59:40.700137Z",
          "shell.execute_reply": "2022-03-20T07:59:40.700647Z",
          "shell.execute_reply.started": "2022-03-20T07:15:40.649081Z"
        },
        "id": "155de8e1",
        "outputId": "ef818f00-0c14-4683-a133-c4dfa3214911",
        "papermill": {
          "duration": 0.383032,
          "end_time": "2022-03-20T07:59:40.700846",
          "exception": false,
          "start_time": "2022-03-20T07:59:40.317814",
          "status": "completed"
        },
        "tags": []
      },
      "outputs": [
        {
          "data": {
            "image/png": "[encoded data removed]",
            "text/plain": [
              "<Figure size 720x432 with 1 Axes>"
            ]
          },
          "metadata": {
            "needs_background": "light"
          },
          "output_type": "display_data"
        }
      ],
      "source": [
        "fig = plt.figure(figsize=(10, 6))\n",
        "ax = sns.barplot(x=top_10_pos_w, y=feature_importance[sorted_idx[range(-1,-11, -1)]])\n",
        "plt.title(\"Most Important Words Used for Negative Sentiment\",fontsize = 20)\n",
        "x_locs,x_labels = plt.xticks()\n",
        "plt.setp(x_labels, rotation = 40)\n",
        "plt.ylabel('Feature Importance', fontsize = 12)\n",
        "plt.xlabel('Word', fontsize = 12);"
      ]
    },
    {
      "cell_type": "markdown",
      "id": "f2099fb1",
      "metadata": {
        "id": "f2099fb1",
        "papermill": {
          "duration": 0.086429,
          "end_time": "2022-03-20T07:59:40.875074",
          "exception": false,
          "start_time": "2022-03-20T07:59:40.788645",
          "status": "completed"
        },
        "tags": []
      },
      "source": [
        "**Top words for the positive sentiment**:\n",
        "\n"
      ]
    },
    {
      "cell_type": "code",
      "execution_count": null,
      "id": "cb0cc9b4",
      "metadata": {
        "colab": {
          "base_uri": "https://localhost:8080/"
        },
        "execution": {
          "iopub.execute_input": "2022-03-20T07:59:41.059870Z",
          "iopub.status.busy": "2022-03-20T07:59:41.059144Z",
          "iopub.status.idle": "2022-03-20T07:59:41.066175Z",
          "shell.execute_reply": "2022-03-20T07:59:41.065500Z",
          "shell.execute_reply.started": "2022-03-20T07:15:40.972635Z"
        },
        "id": "cb0cc9b4",
        "outputId": "1be73496-e8f3-429c-c64b-c2e803641845",
        "papermill": {
          "duration": 0.106417,
          "end_time": "2022-03-20T07:59:41.066319",
          "exception": false,
          "start_time": "2022-03-20T07:59:40.959902",
          "status": "completed"
        },
        "tags": []
      },
      "outputs": [
        {
          "name": "stdout",
          "output_type": "stream",
          "text": [
            "['enjoyed', 'shot', 'loved', 'enjoyable', 'hot', 'wellwritten', 'pleasantly', 'hunter', 'verne', 'fun']\n"
          ]
        }
      ],
      "source": [
        "top_10_neg_w = [list(cv.vocabulary_.keys())[list(cv.vocabulary_.values()).index(w)] for w in sorted_idx[:10]]\n",
        "print(top_10_neg_w)"
      ]
    },
    {
      "cell_type": "code",
      "execution_count": null,
      "id": "d8d0f948",
      "metadata": {
        "colab": {
          "base_uri": "https://localhost:8080/",
          "height": 445
        },
        "execution": {
          "iopub.execute_input": "2022-03-20T07:59:41.244972Z",
          "iopub.status.busy": "2022-03-20T07:59:41.244237Z",
          "iopub.status.idle": "2022-03-20T07:59:41.529675Z",
          "shell.execute_reply": "2022-03-20T07:59:41.529041Z",
          "shell.execute_reply.started": "2022-03-20T07:15:40.990334Z"
        },
        "id": "d8d0f948",
        "outputId": "22a80780-10fb-406f-b0d3-352824950bf1",
        "papermill": {
          "duration": 0.376773,
          "end_time": "2022-03-20T07:59:41.529862",
          "exception": false,
          "start_time": "2022-03-20T07:59:41.153089",
          "status": "completed"
        },
        "tags": []
      },
      "outputs": [
        {
          "data": {
            "image/png": "[encoded data removed]",
            "text/plain": [
              "<Figure size 720x432 with 1 Axes>"
            ]
          },
          "metadata": {
            "needs_background": "light"
          },
          "output_type": "display_data"
        }
      ],
      "source": [
        "fig = plt.figure(figsize=(10, 6))\n",
        "ax = sns.barplot(x=top_10_neg_w, y=feature_importance[sorted_idx[:10]])\n",
        "plt.title(\"Most Important Words Used for Positive Sentiment\",fontsize = 20)\n",
        "x_locs,x_labels = plt.xticks()\n",
        "plt.setp(x_labels, rotation = 40)\n",
        "plt.ylabel('Feature Importance', fontsize = 12)\n",
        "plt.xlabel('Word', fontsize = 12);"
      ]
    },
    {
      "cell_type": "markdown",
      "id": "61e5ab03",
      "metadata": {
        "id": "61e5ab03",
        "papermill": {
          "duration": 0.091944,
          "end_time": "2022-03-20T07:59:41.713185",
          "exception": false,
          "start_time": "2022-03-20T07:59:41.621241",
          "status": "completed"
        },
        "tags": []
      },
      "source": [
        "**# Deep Learning**"
      ]
    },
    {
      "cell_type": "markdown",
      "id": "49c86672",
      "metadata": {
        "id": "49c86672"
      },
      "source": [
        "#### LSTM "
      ]
    },
    {
      "cell_type": "code",
      "execution_count": null,
      "id": "CuShph57puWy",
      "metadata": {
        "id": "CuShph57puWy"
      },
      "outputs": [],
      "source": [
        "import tensorflow as tf\n",
        "from tensorflow.keras.preprocessing.text import Tokenizer\n",
        "from tensorflow.keras.preprocessing.sequence import pad_sequences\n",
        "from tensorflow.keras.models import Sequential\n",
        "from tensorflow.keras.layers import LSTM,Dense, Dropout, SpatialDropout1D\n",
        "from tensorflow.keras.layers import Embedding"
      ]
    },
    {
      "cell_type": "code",
      "execution_count": null,
      "id": "HTGPylqkpOKL",
      "metadata": {
        "colab": {
          "base_uri": "https://localhost:8080/"
        },
        "id": "HTGPylqkpOKL",
        "outputId": "6435839a-c2d2-422b-a033-564d5f4f7e68"
      },
      "outputs": [
        {
          "data": {
            "text/plain": [
              "(array([0, 1, 0, ..., 0, 0, 0]), Int64Index([0, 1], dtype='int64'))"
            ]
          },
          "execution_count": 70,
          "metadata": {},
          "output_type": "execute_result"
        }
      ],
      "source": [
        "#factorize the data i.e covert the text into numbers\n",
        "sentiment_label = data.rating.factorize()\n",
        "sentiment_label"
      ]
    },
    {
      "cell_type": "code",
      "execution_count": null,
      "id": "gMfgB7x8pyNh",
      "metadata": {
        "id": "gMfgB7x8pyNh"
      },
      "outputs": [],
      "source": [
        "#tokenize the sentences i.e. break them down into smaller bits\n",
        "tweet = data.reviewText\n",
        "tokenizer = Tokenizer(num_words=10000)\n",
        "tokenizer.fit_on_texts(tweet)\n",
        "vocab_size = len(tokenizer.word_index) + 1\n",
        "encoded_docs = tokenizer.texts_to_sequences(tweet)\n",
        "padded_sequence = pad_sequences(encoded_docs, maxlen=200)"
      ]
    },
    {
      "cell_type": "code",
      "execution_count": null,
      "id": "w93zyLjPp9zg",
      "metadata": {
        "colab": {
          "base_uri": "https://localhost:8080/"
        },
        "id": "w93zyLjPp9zg",
        "outputId": "6b27cb4f-ee40-4a0d-85a9-135dc79bb8d1"
      },
      "outputs": [
        {
          "name": "stdout",
          "output_type": "stream",
          "text": [
            "Model: \"sequential\"\n",
            "_________________________________________________________________\n",
            " Layer (type)                Output Shape              Param #   \n",
            "=================================================================\n",
            " embedding (Embedding)       (None, 200, 32)           1497408   \n",
            "                                                                 \n",
            " spatial_dropout1d (SpatialD  (None, 200, 32)          0         \n",
            " ropout1D)                                                       \n",
            "                                                                 \n",
            " lstm (LSTM)                 (None, 50)                16600     \n",
            "                                                                 \n",
            " dropout (Dropout)           (None, 50)                0         \n",
            "                                                                 \n",
            " dense (Dense)               (None, 1)                 51        \n",
            "                                                                 \n",
            "=================================================================\n",
            "Total params: 1,514,059\n",
            "Trainable params: 1,514,059\n",
            "Non-trainable params: 0\n",
            "_________________________________________________________________\n",
            "None\n"
          ]
        }
      ],
      "source": [
        "embedding_vector_length = 32\n",
        "model = Sequential() \n",
        "model.add(Embedding(vocab_size, embedding_vector_length, input_length=200) )\n",
        "model.add(SpatialDropout1D(0.25))\n",
        "model.add(LSTM(50, dropout=0.5, recurrent_dropout=0.5))\n",
        "model.add(Dropout(0.2))\n",
        "model.add(Dense(1, activation='sigmoid')) \n",
        "model.compile(loss='binary_crossentropy',optimizer='adam', metrics=['accuracy'])  \n",
        "print(model.summary())"
      ]
    },
    {
      "cell_type": "code",
      "execution_count": null,
      "id": "FlzrJsnjqZGe",
      "metadata": {
        "colab": {
          "base_uri": "https://localhost:8080/"
        },
        "id": "FlzrJsnjqZGe",
        "outputId": "5b4b12d7-fdac-43d9-e6ea-5cac19bd963e"
      },
      "outputs": [
        {
          "name": "stdout",
          "output_type": "stream",
          "text": [
            "Epoch 1/10\n",
            "141/141 [==============================] - 51s 327ms/step - loss: 0.5723 - accuracy: 0.7048 - val_loss: 0.4267 - val_accuracy: 0.7950\n",
            "Epoch 2/10\n",
            "141/141 [==============================] - 49s 345ms/step - loss: 0.3763 - accuracy: 0.8362 - val_loss: 0.3734 - val_accuracy: 0.8333\n",
            "Epoch 3/10\n",
            "141/141 [==============================] - 50s 351ms/step - loss: 0.3021 - accuracy: 0.8763 - val_loss: 0.3783 - val_accuracy: 0.8493\n",
            "Epoch 4/10\n",
            "141/141 [==============================] - 46s 328ms/step - loss: 0.2525 - accuracy: 0.8968 - val_loss: 0.3781 - val_accuracy: 0.8513\n",
            "Epoch 5/10\n",
            "141/141 [==============================] - 47s 337ms/step - loss: 0.2265 - accuracy: 0.9113 - val_loss: 0.4001 - val_accuracy: 0.8407\n",
            "Epoch 6/10\n",
            "141/141 [==============================] - 48s 344ms/step - loss: 0.1967 - accuracy: 0.9266 - val_loss: 0.4284 - val_accuracy: 0.8457\n",
            "Epoch 7/10\n",
            "141/141 [==============================] - 52s 372ms/step - loss: 0.1768 - accuracy: 0.9324 - val_loss: 0.4804 - val_accuracy: 0.8413\n",
            "Epoch 8/10\n",
            "141/141 [==============================] - 50s 352ms/step - loss: 0.1602 - accuracy: 0.9409 - val_loss: 0.5213 - val_accuracy: 0.8413\n",
            "Epoch 9/10\n",
            "141/141 [==============================] - 51s 365ms/step - loss: 0.1431 - accuracy: 0.9464 - val_loss: 0.4574 - val_accuracy: 0.8367\n",
            "Epoch 10/10\n",
            "141/141 [==============================] - 47s 330ms/step - loss: 0.1374 - accuracy: 0.9493 - val_loss: 0.5952 - val_accuracy: 0.8310\n"
          ]
        }
      ],
      "source": [
        "history = model.fit(padded_sequence,sentiment_label[0],validation_split=0.25,epochs=10,batch_size=64)"
      ]
    },
    {
      "cell_type": "markdown",
      "id": "42bb5a91",
      "metadata": {
        "id": "42bb5a91"
      },
      "source": [
        "## Accuracy plot of training and validation dataset"
      ]
    },
    {
      "cell_type": "code",
      "execution_count": null,
      "id": "f-b0BpxEqv1q",
      "metadata": {
        "colab": {
          "base_uri": "https://localhost:8080/",
          "height": 265
        },
        "id": "f-b0BpxEqv1q",
        "outputId": "e14b207d-a73c-4cf4-dbd5-ccb5297bfd77"
      },
      "outputs": [
        {
          "data": {
            "image/png": "[encoded data removed]",
            "text/plain": [
              "<Figure size 432x288 with 1 Axes>"
            ]
          },
          "metadata": {
            "needs_background": "light"
          },
          "output_type": "display_data"
        }
      ],
      "source": [
        "plt.plot(history.history['accuracy'], label='acc')\n",
        "plt.plot(history.history['val_accuracy'], label='val_acc')\n",
        "plt.legend()\n",
        "plt.show()"
      ]
    },
    {
      "cell_type": "markdown",
      "id": "6c30b61f",
      "metadata": {
        "id": "6c30b61f"
      },
      "source": [
        "## Loss plot of training and validation dataset"
      ]
    },
    {
      "cell_type": "code",
      "execution_count": null,
      "id": "uEOZydb1rfND",
      "metadata": {
        "colab": {
          "base_uri": "https://localhost:8080/",
          "height": 265
        },
        "id": "uEOZydb1rfND",
        "outputId": "4a27258f-6d93-4e4e-ac39-99341b85f01d"
      },
      "outputs": [
        {
          "data": {
            "image/png": "[encoded data removed]",
            "text/plain": [
              "<Figure size 432x288 with 1 Axes>"
            ]
          },
          "metadata": {
            "needs_background": "light"
          },
          "output_type": "display_data"
        }
      ],
      "source": [
        "plt.plot(history.history['loss'], label='loss')\n",
        "plt.plot(history.history['val_loss'], label='val_loss')\n",
        "plt.legend()\n",
        "plt.show()"
      ]
    }
  ],
  "metadata": {
    "colab": {
      "provenance": []
    },
    "kernelspec": {
      "display_name": "Python 3 (ipykernel)",
      "language": "python",
      "name": "python3"
    },
    "language_info": {
      "codemirror_mode": {
        "name": "ipython",
        "version": 3
      },
      "file_extension": ".py",
      "mimetype": "text/x-python",
      "name": "python",
      "nbconvert_exporter": "python",
      "pygments_lexer": "ipython3",
      "version": "3.9.12"
    },
    "papermill": {
      "default_parameters": {},
      "duration": 92.40681,
      "end_time": "2022-03-20T07:59:44.452241",
      "environment_variables": {},
      "exception": null,
      "input_path": "__notebook__.ipynb",
      "output_path": "__notebook__.ipynb",
      "parameters": {},
      "start_time": "2022-03-20T07:58:12.045431",
      "version": "2.3.3"
    }
  },
  "nbformat": 4,
  "nbformat_minor": 5
}